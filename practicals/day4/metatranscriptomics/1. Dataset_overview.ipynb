{
 "cells": [
  {
   "cell_type": "markdown",
   "id": "71e14f09-ce69-43d6-a095-c74a6bef6bd1",
   "metadata": {},
   "source": [
    "# Dataset overview"
   ]
  },
  {
   "cell_type": "markdown",
   "id": "bd6f051f-0b35-4953-a160-bd33b092d1bf",
   "metadata": {},
   "source": [
    "Welcome! In this notebook, we will work with data from two recent studies that evaluate nucleic acid extracition kits applied to soil samples:\n",
    "\n",
    "- [**Comparative evaluation of soil DNA extraction kits for long-read metagenomic sequencing**](https://www.microbiologyresearch.org/content/journal/acmi/10.1099/acmi.0.000868.v3)\n",
    "- [**Evaluation of commercial RNA extraction kits for long-read metatranscriptomics in soil**](https://www.microbiologyresearch.org/content/journal/mgen/10.1099/mgen.0.001298)\n",
    "\n",
    "More details in: \n",
    "https://www.ncbi.nlm.nih.gov/Traces/study/?acc=SRP493328&o=acc_s%3Aa"
   ]
  },
  {
   "cell_type": "markdown",
   "id": "0dade4a9-8b3c-4873-986a-84136e9fb733",
   "metadata": {},
   "source": [
    "## Dataset used"
   ]
  },
  {
   "cell_type": "markdown",
   "id": "56bc81a7-cb6a-4ff9-b4aa-cd2842f76d2d",
   "metadata": {},
   "source": [
    "We’ll focus on a selected subset of samples, covering two soil types: Heathland and woodland, and two extraction types: DNA (metagenomics) and RNA (metatranscriptomics)."
   ]
  },
  {
   "cell_type": "markdown",
   "id": "369b170b-bad4-4952-8843-6842010d7138",
   "metadata": {},
   "source": [
    "| Type | Soil Type | SRA Run ID    |\n",
    "| ---- | --------- | ------------- |\n",
    "| DNA  | Heathland | `SRR28415665` |\n",
    "| DNA  | Woodland  | `SRR28415630` |\n",
    "| RNA  | Heathland | `SRR28223365` |\n",
    "| RNA  | Woodland  | `SRR28223359` |\n"
   ]
  },
  {
   "cell_type": "markdown",
   "id": "d994a410-7385-4b90-9e08-2d4035168afe",
   "metadata": {},
   "source": [
    "## Dataset download"
   ]
  },
  {
   "cell_type": "markdown",
   "id": "63265a64-9f0b-40e5-b0e8-4e8757ae7663",
   "metadata": {},
   "source": [
    "While we won’t be downloading any datasets directly during the workshop, here are the standard commands you would use (with sra-tools and edirect installed)."
   ]
  },
  {
   "cell_type": "markdown",
   "id": "2c9ddf11-48b6-4f26-b425-b764fcd77eca",
   "metadata": {},
   "source": [
    "**Fetching project metadata**"
   ]
  },
  {
   "cell_type": "markdown",
   "id": "3f4e1195-6843-458e-bc64-23da4434ab9e",
   "metadata": {},
   "source": [
    "```bash\n",
    "# DNA\n",
    "esearch -db sra -query PRJNA1090675 | efetch -format runinfo > dna_runinfo.csv\n",
    "\n",
    "# RNA \n",
    "esearch -db sra -query PRJNA1079547 | efetch -format runinfo > rna_runinfo.csv\n",
    "\n"
   ]
  },
  {
   "cell_type": "code",
   "execution_count": 1,
   "id": "02d45d4a-cf0f-4c82-a67e-4878f67d01c5",
   "metadata": {},
   "outputs": [],
   "source": [
    "import pandas as pd"
   ]
  },
  {
   "cell_type": "code",
   "execution_count": 4,
   "id": "308a0c5f-8f29-4ca0-8557-21b1494406d1",
   "metadata": {},
   "outputs": [],
   "source": [
    "dna = pd.read_csv('../../data/metatranscriptomics/dataset_overview/dna_runinfo.csv')\n",
    "rna = pd.read_csv('../../data/metatranscriptomics/dataset_overview/rna_runinfo.csv')"
   ]
  },
  {
   "cell_type": "code",
   "execution_count": 5,
   "id": "a30bbce8-6a55-4628-9acb-43e74141ef2d",
   "metadata": {},
   "outputs": [],
   "source": [
    "srr_ids = [\n",
    "    \"SRR28223365\",  # metatranscriptomic reads: RNA Heathland\n",
    "    \"SRR28223359\",  # metatranscriptomic reads: RNA Woodland\n",
    "    \"SRR28415630\",  # metagenomic reads: DNA Woodland\n",
    "    \"SRR28415665\",  # metagenomic reads: DNA Heathland\n",
    "]"
   ]
  },
  {
   "cell_type": "code",
   "execution_count": 6,
   "id": "72fbe342-0290-4e92-9182-ca23086da0a8",
   "metadata": {},
   "outputs": [],
   "source": [
    "rna_selected = rna[rna[\"Run\"].isin(srr_ids)]\n",
    "dna_selected = dna[dna[\"Run\"].isin(srr_ids)]"
   ]
  },
  {
   "cell_type": "code",
   "execution_count": 7,
   "id": "5b36d494-30cd-4174-81c0-4f3770db0db9",
   "metadata": {},
   "outputs": [
    {
     "data": {
      "text/html": [
       "<div>\n",
       "<style scoped>\n",
       "    .dataframe tbody tr th:only-of-type {\n",
       "        vertical-align: middle;\n",
       "    }\n",
       "\n",
       "    .dataframe tbody tr th {\n",
       "        vertical-align: top;\n",
       "    }\n",
       "\n",
       "    .dataframe thead th {\n",
       "        text-align: right;\n",
       "    }\n",
       "</style>\n",
       "<table border=\"1\" class=\"dataframe\">\n",
       "  <thead>\n",
       "    <tr style=\"text-align: right;\">\n",
       "      <th></th>\n",
       "      <th>Run</th>\n",
       "      <th>ReleaseDate</th>\n",
       "      <th>LoadDate</th>\n",
       "      <th>spots</th>\n",
       "      <th>bases</th>\n",
       "      <th>spots_with_mates</th>\n",
       "      <th>avgLength</th>\n",
       "      <th>size_MB</th>\n",
       "      <th>AssemblyName</th>\n",
       "      <th>download_path</th>\n",
       "      <th>...</th>\n",
       "      <th>Affection_Status</th>\n",
       "      <th>Analyte_Type</th>\n",
       "      <th>Histological_Type</th>\n",
       "      <th>Body_Site</th>\n",
       "      <th>CenterName</th>\n",
       "      <th>Submission</th>\n",
       "      <th>dbgap_study_accession</th>\n",
       "      <th>Consent</th>\n",
       "      <th>RunHash</th>\n",
       "      <th>ReadHash</th>\n",
       "    </tr>\n",
       "  </thead>\n",
       "  <tbody>\n",
       "    <tr>\n",
       "      <th>104</th>\n",
       "      <td>SRR28415665</td>\n",
       "      <td>2024-04-04 04:24:09</td>\n",
       "      <td>2024-03-22 05:58:08</td>\n",
       "      <td>219908</td>\n",
       "      <td>590409480</td>\n",
       "      <td>0</td>\n",
       "      <td>2684</td>\n",
       "      <td>492</td>\n",
       "      <td>NaN</td>\n",
       "      <td>https://sra-downloadb.be-md.ncbi.nlm.nih.gov/s...</td>\n",
       "      <td>...</td>\n",
       "      <td>NaN</td>\n",
       "      <td>NaN</td>\n",
       "      <td>NaN</td>\n",
       "      <td>NaN</td>\n",
       "      <td>UNIVERSITY OF EXETER</td>\n",
       "      <td>SRA1831207</td>\n",
       "      <td>NaN</td>\n",
       "      <td>public</td>\n",
       "      <td>61E8A884574D9B291CA552D04DABF7AB</td>\n",
       "      <td>12126B9BA2828ACBD4EE0F5B6C6898F7</td>\n",
       "    </tr>\n",
       "    <tr>\n",
       "      <th>125</th>\n",
       "      <td>SRR28415630</td>\n",
       "      <td>2024-04-04 04:24:09</td>\n",
       "      <td>2024-03-22 05:49:41</td>\n",
       "      <td>156764</td>\n",
       "      <td>224066343</td>\n",
       "      <td>0</td>\n",
       "      <td>1429</td>\n",
       "      <td>199</td>\n",
       "      <td>NaN</td>\n",
       "      <td>https://sra-downloadb.be-md.ncbi.nlm.nih.gov/s...</td>\n",
       "      <td>...</td>\n",
       "      <td>NaN</td>\n",
       "      <td>NaN</td>\n",
       "      <td>NaN</td>\n",
       "      <td>NaN</td>\n",
       "      <td>UNIVERSITY OF EXETER</td>\n",
       "      <td>SRA1831207</td>\n",
       "      <td>NaN</td>\n",
       "      <td>public</td>\n",
       "      <td>2C08A86B60D2C7B5C37CB2AFFC35ED3F</td>\n",
       "      <td>E2E5F33E4BE3131A92F79A393C9D873C</td>\n",
       "    </tr>\n",
       "  </tbody>\n",
       "</table>\n",
       "<p>2 rows × 47 columns</p>\n",
       "</div>"
      ],
      "text/plain": [
       "             Run          ReleaseDate             LoadDate   spots      bases  \\\n",
       "104  SRR28415665  2024-04-04 04:24:09  2024-03-22 05:58:08  219908  590409480   \n",
       "125  SRR28415630  2024-04-04 04:24:09  2024-03-22 05:49:41  156764  224066343   \n",
       "\n",
       "     spots_with_mates  avgLength  size_MB  AssemblyName  \\\n",
       "104                 0       2684      492           NaN   \n",
       "125                 0       1429      199           NaN   \n",
       "\n",
       "                                         download_path  ... Affection_Status  \\\n",
       "104  https://sra-downloadb.be-md.ncbi.nlm.nih.gov/s...  ...              NaN   \n",
       "125  https://sra-downloadb.be-md.ncbi.nlm.nih.gov/s...  ...              NaN   \n",
       "\n",
       "    Analyte_Type Histological_Type Body_Site            CenterName  \\\n",
       "104          NaN               NaN       NaN  UNIVERSITY OF EXETER   \n",
       "125          NaN               NaN       NaN  UNIVERSITY OF EXETER   \n",
       "\n",
       "     Submission  dbgap_study_accession  Consent  \\\n",
       "104  SRA1831207                    NaN   public   \n",
       "125  SRA1831207                    NaN   public   \n",
       "\n",
       "                              RunHash                          ReadHash  \n",
       "104  61E8A884574D9B291CA552D04DABF7AB  12126B9BA2828ACBD4EE0F5B6C6898F7  \n",
       "125  2C08A86B60D2C7B5C37CB2AFFC35ED3F  E2E5F33E4BE3131A92F79A393C9D873C  \n",
       "\n",
       "[2 rows x 47 columns]"
      ]
     },
     "metadata": {},
     "output_type": "display_data"
    },
    {
     "data": {
      "text/html": [
       "<div>\n",
       "<style scoped>\n",
       "    .dataframe tbody tr th:only-of-type {\n",
       "        vertical-align: middle;\n",
       "    }\n",
       "\n",
       "    .dataframe tbody tr th {\n",
       "        vertical-align: top;\n",
       "    }\n",
       "\n",
       "    .dataframe thead th {\n",
       "        text-align: right;\n",
       "    }\n",
       "</style>\n",
       "<table border=\"1\" class=\"dataframe\">\n",
       "  <thead>\n",
       "    <tr style=\"text-align: right;\">\n",
       "      <th></th>\n",
       "      <th>Run</th>\n",
       "      <th>ReleaseDate</th>\n",
       "      <th>LoadDate</th>\n",
       "      <th>spots</th>\n",
       "      <th>bases</th>\n",
       "      <th>spots_with_mates</th>\n",
       "      <th>avgLength</th>\n",
       "      <th>size_MB</th>\n",
       "      <th>AssemblyName</th>\n",
       "      <th>download_path</th>\n",
       "      <th>...</th>\n",
       "      <th>Affection_Status</th>\n",
       "      <th>Analyte_Type</th>\n",
       "      <th>Histological_Type</th>\n",
       "      <th>Body_Site</th>\n",
       "      <th>CenterName</th>\n",
       "      <th>Submission</th>\n",
       "      <th>dbgap_study_accession</th>\n",
       "      <th>Consent</th>\n",
       "      <th>RunHash</th>\n",
       "      <th>ReadHash</th>\n",
       "    </tr>\n",
       "  </thead>\n",
       "  <tbody>\n",
       "    <tr>\n",
       "      <th>4</th>\n",
       "      <td>SRR28223365</td>\n",
       "      <td>2024-10-09 00:30:14</td>\n",
       "      <td>2024-03-05 03:20:30</td>\n",
       "      <td>1453236</td>\n",
       "      <td>283197290</td>\n",
       "      <td>0</td>\n",
       "      <td>194</td>\n",
       "      <td>300</td>\n",
       "      <td>NaN</td>\n",
       "      <td>https://sra-downloadb.be-md.ncbi.nlm.nih.gov/s...</td>\n",
       "      <td>...</td>\n",
       "      <td>NaN</td>\n",
       "      <td>NaN</td>\n",
       "      <td>NaN</td>\n",
       "      <td>NaN</td>\n",
       "      <td>UNIVERSITY OF EXETER</td>\n",
       "      <td>SRA1812356</td>\n",
       "      <td>NaN</td>\n",
       "      <td>public</td>\n",
       "      <td>1C96ECEFADB6A5A81A3B9779418C4A3B</td>\n",
       "      <td>6D66547223CF37787A9749F2430E2646</td>\n",
       "    </tr>\n",
       "    <tr>\n",
       "      <th>34</th>\n",
       "      <td>SRR28223359</td>\n",
       "      <td>2024-10-09 00:30:15</td>\n",
       "      <td>2024-03-05 03:20:50</td>\n",
       "      <td>2916327</td>\n",
       "      <td>594503386</td>\n",
       "      <td>0</td>\n",
       "      <td>203</td>\n",
       "      <td>608</td>\n",
       "      <td>NaN</td>\n",
       "      <td>https://sra-downloadb.be-md.ncbi.nlm.nih.gov/s...</td>\n",
       "      <td>...</td>\n",
       "      <td>NaN</td>\n",
       "      <td>NaN</td>\n",
       "      <td>NaN</td>\n",
       "      <td>NaN</td>\n",
       "      <td>UNIVERSITY OF EXETER</td>\n",
       "      <td>SRA1812356</td>\n",
       "      <td>NaN</td>\n",
       "      <td>public</td>\n",
       "      <td>14B5C9548E9E97EE4593471CAFADC570</td>\n",
       "      <td>743CED5DF72AFCB3DCE7D8CF999ED03E</td>\n",
       "    </tr>\n",
       "  </tbody>\n",
       "</table>\n",
       "<p>2 rows × 47 columns</p>\n",
       "</div>"
      ],
      "text/plain": [
       "            Run          ReleaseDate             LoadDate    spots      bases  \\\n",
       "4   SRR28223365  2024-10-09 00:30:14  2024-03-05 03:20:30  1453236  283197290   \n",
       "34  SRR28223359  2024-10-09 00:30:15  2024-03-05 03:20:50  2916327  594503386   \n",
       "\n",
       "    spots_with_mates  avgLength  size_MB  AssemblyName  \\\n",
       "4                  0        194      300           NaN   \n",
       "34                 0        203      608           NaN   \n",
       "\n",
       "                                        download_path  ... Affection_Status  \\\n",
       "4   https://sra-downloadb.be-md.ncbi.nlm.nih.gov/s...  ...              NaN   \n",
       "34  https://sra-downloadb.be-md.ncbi.nlm.nih.gov/s...  ...              NaN   \n",
       "\n",
       "   Analyte_Type Histological_Type Body_Site            CenterName  Submission  \\\n",
       "4           NaN               NaN       NaN  UNIVERSITY OF EXETER  SRA1812356   \n",
       "34          NaN               NaN       NaN  UNIVERSITY OF EXETER  SRA1812356   \n",
       "\n",
       "    dbgap_study_accession  Consent                           RunHash  \\\n",
       "4                     NaN   public  1C96ECEFADB6A5A81A3B9779418C4A3B   \n",
       "34                    NaN   public  14B5C9548E9E97EE4593471CAFADC570   \n",
       "\n",
       "                            ReadHash  \n",
       "4   6D66547223CF37787A9749F2430E2646  \n",
       "34  743CED5DF72AFCB3DCE7D8CF999ED03E  \n",
       "\n",
       "[2 rows x 47 columns]"
      ]
     },
     "metadata": {},
     "output_type": "display_data"
    }
   ],
   "source": [
    "display(dna_selected.head())\n",
    "display(rna_selected.head())"
   ]
  },
  {
   "cell_type": "markdown",
   "id": "3a35b3d2-0016-4236-9d07-7f4c524969b9",
   "metadata": {},
   "source": [
    "**Download readsets with ```fastq-dump```**"
   ]
  },
  {
   "cell_type": "markdown",
   "id": "e06356b1-897b-4e3b-9487-792cae4d5fba",
   "metadata": {},
   "source": [
    "**Heathland**"
   ]
  },
  {
   "cell_type": "markdown",
   "id": "9d7412be-20bc-4288-9aab-7b7839cb7519",
   "metadata": {},
   "source": [
    "Metagenomic (DNA)\n",
    "```\n",
    "fasterq-dump SRR28415665 --split-files --threads 4\n",
    "spots read      : 219,908\n",
    "reads read      : 219,908\n",
    "reads written   : 219,908\n",
    "\n",
    "```\n",
    "Metatranscriptomic (RNA)\n",
    "```\n",
    "fasterq-dump SRR28223365 --split-files --threads 4\n",
    "spots read      : 1,453,236\n",
    "reads read      : 1,453,236\n",
    "reads written   : 1,453,236\n",
    "```"
   ]
  },
  {
   "cell_type": "markdown",
   "id": "5a4d35eb-1da4-43bc-b6ce-4792ebce68ca",
   "metadata": {},
   "source": [
    "**Woodland**"
   ]
  },
  {
   "cell_type": "markdown",
   "id": "d446f48f-20d4-470d-946b-dd650ddc0ac9",
   "metadata": {},
   "source": [
    "Metagenomic (DNA)\n",
    "```\n",
    "fasterq-dump SRR28415630 --split-files --threads 4\n",
    "spots read      : 156,764\n",
    "reads read      : 156,764\n",
    "reads written   : 156,764\n",
    "```\n",
    "Metatranscriptomic (RNA)\n",
    "```\n",
    "fasterq-dump SRR28223359 --split-files --threads 4\n",
    "spots read      : 2,916,327\n",
    "reads read      : 2,916,327\n",
    "reads written   : 2,916,327\n",
    "```"
   ]
  }
 ],
 "metadata": {
  "kernelspec": {
   "display_name": "Python 3 (ipykernel)",
   "language": "python",
   "name": "python3"
  },
  "language_info": {
   "codemirror_mode": {
    "name": "ipython",
    "version": 3
   },
   "file_extension": ".py",
   "mimetype": "text/x-python",
   "name": "python",
   "nbconvert_exporter": "python",
   "pygments_lexer": "ipython3",
   "version": "3.10.18"
  }
 },
 "nbformat": 4,
 "nbformat_minor": 5
}
