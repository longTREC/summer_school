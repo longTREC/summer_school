{
 "cells": [
  {
   "cell_type": "markdown",
   "id": "f8b28e91-add6-49b2-b41d-86e24be5d921",
   "metadata": {},
   "source": [
    "# Taxonomic and functional analysis"
   ]
  },
  {
   "cell_type": "markdown",
   "id": "17014672-cf2e-4df3-a666-e135540bf0a7",
   "metadata": {},
   "source": [
    "### Objectives:\n",
    "1- **Taxonomic assignment:**\n",
    "\n",
    "- Identify which species are actively expressing genes in each sample (heathland and woodland) using [Centrifuge](https://ccb.jhu.edu/software/centrifuge/manual.shtml)\n",
    "\n",
    "- Visualize the taxonomic classification using [Krona](https://github.com/marbl/Krona/wiki)\n",
    "\n",
    "- Compare some species between the two environments.\n",
    "\n",
    "2- **Functional Analysis Using hmmscan + Pfam**\n",
    "\n",
    "- Determine which biological processes (e.g., GO terms, KEGG pathways) or metabolic pathways are actively expressed.\n",
    "\n",
    "- Compare the active functions or pathways between heathland and woodland samples."
   ]
  },
  {
   "cell_type": "code",
   "execution_count": 2,
   "id": "a708832f-98fa-4bf9-b111-d8a13afd965e",
   "metadata": {},
   "outputs": [],
   "source": [
    "! seqkit fq2fa ../../data/metatranscriptomics/preprocessing/metaT_heath_porechop_sortmerna.fastq -o ../../data/metatranscriptomics/preprocessing/metaT_heath_porechop_sortmerna.fasta"
   ]
  },
  {
   "cell_type": "markdown",
   "id": "bbc40e2a-a220-4a56-89b9-412d97a91490",
   "metadata": {},
   "source": [
    "# **1- Taxonomic assignation: Centrifuge and Krona** "
   ]
  },
  {
   "cell_type": "markdown",
   "id": "2a315ca1-7b36-4d43-8457-8c4426096cc1",
   "metadata": {},
   "source": [
    "[Centrifuge](https://ccb.jhu.edu/software/centrifuge/) uses an indexing method based on the Burrows-Wheeler Transform (BWT) and Ferragina-Manzini (FM) index, optimized for metagenomic classification. It assigns an NCBI Taxonomy label to sequences when possible. If the sequence is not similar to any genomic sequence in the database, no label will be assigned.\n",
    "\n",
    "Another tool that can be used for taxonomic classification is [Kraken2](https://www.ccb.jhu.edu/software/kraken2/)."
   ]
  },
  {
   "cell_type": "markdown",
   "id": "0e76648c-2ad5-425e-98e7-65949894dc50",
   "metadata": {},
   "source": [
    "Outputs:\n",
    "- **Classification file (.class):** taxonomic assignments for each read.\n",
    "- **Report file (.out):** summary of taxa detected with counts and relative abundances."
   ]
  },
  {
   "cell_type": "markdown",
   "id": "20eb01d5-17de-4311-8dbd-2ff0c5d05e02",
   "metadata": {},
   "source": [
    "### **1.1 Download and extract the pre-build database**"
   ]
  },
  {
   "cell_type": "markdown",
   "id": "c643408a-95b4-4b44-b439-023d06796963",
   "metadata": {},
   "source": [
    "The Centrifuge database (nt) must be downloaded and indexed beforehand. Read [manual](https://ccb.jhu.edu/software/centrifuge/manual.shtml)"
   ]
  },
  {
   "cell_type": "markdown",
   "id": "f0f1dc99-ed7f-42e2-8b07-fa99048cb713",
   "metadata": {},
   "source": [
    "### **1.2- Classify metaT_heath and metaT_wood datasets**"
   ]
  },
  {
   "cell_type": "markdown",
   "id": "3aebeeb5-eb2f-4fa6-ab32-00fdfb1c917b",
   "metadata": {},
   "source": [
    "This command runs Centrifuge to perform taxonomic classification on cleaned metaT reads (non-rRNA). \n",
    "\n",
    "``` -q ``` Input file is in FASTQ format\n",
    "\n",
    "``` -x PATH ``` Path to Centrifuge index \n",
    "\n",
    "```--threads INT ```  Number of CPU threads to use\n",
    "\n",
    "``` -U FILE ``` Input file\n",
    "\n",
    "```-k INT``` Report up to INT classification of reads \n",
    "\n",
    "```-S FILE ``` Output file for classification results  "
   ]
  },
  {
   "cell_type": "markdown",
   "id": "6f3fd21e-e0dc-4725-bce2-810e03ca079b",
   "metadata": {},
   "source": [
    "```\n",
    "centrifuge -q \\\n",
    "-x /db/centrifuge/nr/nr_latest/nt \\\n",
    "--threads 12 \\\n",
    "-U ../../data/metatranscriptomics/preprocessing/metaT_heath_porechop_sortmerna.fastq \\\n",
    "-k 15 \\\n",
    "-S ../../data/metatranscriptomics/taxfun/metaT_heath_porechop_sortmerna_all_centrifuge.class"
   ]
  },
  {
   "cell_type": "markdown",
   "id": "9ddd89e7-67dc-4ceb-ad03-ce0eec61eefb",
   "metadata": {},
   "source": [
    "```\n",
    "centrifuge -q \\\n",
    "-x /db/centrifuge/nr/nr_latest/nt \\\n",
    "--threads 12 \\\n",
    "-U ../../data/metatranscriptomics/preprocessing/metaT_wood_porechop_sortmerna.fastq \\\n",
    "-k 15 \\\n",
    "-S ../../data/metatranscriptomics/taxfun/metaT_wood_porechop_sortmerna_all_centrifuge.class "
   ]
  },
  {
   "cell_type": "code",
   "execution_count": 3,
   "id": "898849dd-7ea3-472a-aa19-8faa779c942b",
   "metadata": {},
   "outputs": [
    {
     "name": "stdout",
     "output_type": "stream",
     "text": [
      "readID          seqID         taxID    score  2ndBestScore  hitLength  queryLength  numMatches\n",
      "SRR28223365.1   unclassified  0        0      0             0          94           1\n",
      "SRR28223365.13  unclassified  0        0      0             0          32           1\n",
      "SRR28223365.2   unclassified  0        0      0             0          131          1\n",
      "SRR28223365.9   OX352306.1    1870148  2025   0             60         90           1\n",
      "SRR28223365.7   unclassified  0        0      0             0          130          1\n",
      "SRR28223365.20  unclassified  0        0      0             0          15           1\n",
      "SRR28223365.19  unclassified  0        0      0             0          122          1\n",
      "SRR28223365.10  CP099840.1    41070    81     0             24         141          1\n",
      "SRR28223365.28  unclassified  0        0      0             0          14           1\n"
     ]
    }
   ],
   "source": [
    "!head ../../data/metatranscriptomics/taxfun/metaT_heath_porechop_sortmerna_all_centrifuge.class | column -t"
   ]
  },
  {
   "cell_type": "markdown",
   "id": "e7d31388-6944-4b6f-b670-6e9ad0e73097",
   "metadata": {},
   "source": [
    "This table shows results from Centrifuge assigning sequencing reads to taxa.\n",
    "\n",
    "| Column         | Description                                                                                  |\n",
    "|----------------|----------------------------------------------------------------------------------------------|\n",
    "| **readID**     | Identifier of the sequencing read .                                 |\n",
    "| **seqID**      | Reference sequence ID assigned or `unclassified` if no assignment.                         |\n",
    "| **taxID**      | NCBI taxonomy ID of the assigned reference (0 if unclassified).                           |\n",
    "| **score**      | Score of the best hit (indicates match quality).                                          |\n",
    "| **2ndBestScore**| Score of the second-best hit (useful to evaluate assignment confidence).                  |\n",
    "| **hitLength**  | Length of the matching region to the reference sequence.                                  |\n",
    "| **queryLength**| Length of the query read.                                                                  |\n",
    "| **numMatches** | Number of hits found."
   ]
  },
  {
   "cell_type": "markdown",
   "id": "31f9f4e6-c50d-4daf-bf38-7994469fe347",
   "metadata": {},
   "source": [
    "### **1.3- Generate a kreport to visualize the results with Krona**"
   ]
  },
  {
   "cell_type": "markdown",
   "id": "361537a9-4894-43c4-ae18-31cefb28fd8c",
   "metadata": {},
   "source": [
    "Krona is an interactive visualization tool designed to explore complex hierarchical data, especially biological taxonomies. It creates zoomable, multi-layered pie charts that allow users to intuitively browse through taxonomic classifications and abundances.  "
   ]
  },
  {
   "cell_type": "markdown",
   "id": "897857c5-35f0-44d0-8c60-3944b9c3a52e",
   "metadata": {},
   "source": [
    "```\n",
    "centrifuge-kreport -x /db/centrifuge/nr/nr_latest/nt  ../../data/metatranscriptomics/taxfun/metaT_heath_porechop_sortmerna_all_centrifuge.class  > ../../data/metatranscriptomics/taxfun/metaT_heath_porechop_sortmerna.kreport\n",
    "\n",
    "centrifuge-kreport -x /db/centrifuge/nr/nr_latest/nt ../../data/metatranscriptomics/taxfun/metaT_wood_porechop_sortmerna_all_centrifuge.class  > ../../data/metatranscriptomics/taxfun/metaT_wood_porechop_sortmerna.kreport"
   ]
  },
  {
   "cell_type": "code",
   "execution_count": 5,
   "id": "b7ef0d87-089b-42f8-b116-4e8d175a35aa",
   "metadata": {},
   "outputs": [
    {
     "name": "stdout",
     "output_type": "stream",
     "text": [
      " 19.18\t24451\t24451\tU\t0\tunclassified\n",
      " 80.82\t103003\t2181\t-\t1\troot\n",
      " 78.77\t100397\t4699\t-\t131567\t  cellular organisms\n",
      " 72.45\t92335\t20924\tD\t2759\t    Eukaryota\n",
      " 51.24\t65303\t2847\t-\t33154\t      Opisthokonta\n",
      " 47.92\t61081\t63\tK\t33208\t        Metazoa\n",
      " 47.86\t61004\t114\t-\t6072\t          Eumetazoa\n",
      " 47.73\t60830\t11895\t-\t33213\t            Bilateria\n",
      " 27.45\t34986\t1408\t-\t33317\t              Protostomia\n",
      " 25.09\t31975\t71\t-\t1206794\t                Ecdysozoa\n"
     ]
    }
   ],
   "source": [
    "!head ../../data/metatranscriptomics/taxfun/metaT_wood_porechop_sortmerna.kreport"
   ]
  },
  {
   "cell_type": "markdown",
   "id": "94b0ea05-9e14-4f34-9e31-4b37596036db",
   "metadata": {},
   "source": [
    "### **1.4- Visualize Hierarchically with Krona**"
   ]
  },
  {
   "cell_type": "markdown",
   "id": "32cec5b7-93b4-4128-8726-a4b17e2eb214",
   "metadata": {},
   "source": [
    "Krona generates a hierarchical multi-layered pie chart that allow us to interactively explore all taxonomic classifications inthe a web browser."
   ]
  },
  {
   "cell_type": "markdown",
   "id": "b03c1a72-1804-4439-b086-534000278a93",
   "metadata": {},
   "source": [
    "```\n",
    "ktImportTaxonomy -n Heath ../../data/metatranscriptomics/taxfun/metaT_heath_porechop_sortmerna.kreport -o ../../data/metatranscriptomics/taxfun/metaT_heath_bacteria_krona.html\n",
    "ktImportTaxonomy -n Wood ../../data/metatranscriptomics/taxfun/metaT_wood_porechop_sortmerna.kreport -o ../../data/metatranscriptomics/taxfun/metaT_wood_bacteria_krona.html"
   ]
  },
  {
   "cell_type": "code",
   "execution_count": 6,
   "id": "88e1ce9e-8ba1-4630-8adc-628a4954c51f",
   "metadata": {},
   "outputs": [],
   "source": [
    "from IPython.display import HTML"
   ]
  },
  {
   "cell_type": "code",
   "execution_count": 2,
   "id": "c5b37b31-d348-46dc-b0e4-10adae6cb2f7",
   "metadata": {},
   "outputs": [],
   "source": [
    "file_path_wood = '../../data/metatranscriptomics/analysis_tax_fun/metaT_wood_krona.html'\n",
    "file_path_heath = '../../data/metatranscriptomics/analysis_tax_fun/metaT_heath_krona.html'"
   ]
  },
  {
   "cell_type": "markdown",
   "id": "6e885157-3f58-4687-96fc-6f23b1cad444",
   "metadata": {},
   "source": [
    "When analyzing metagenomics or metatranscriptomics data, you often get taxonomic classifications spanning multiple levels. Krona helps visualize these complex relationships clearly and interactively, making it easier to identify dominant taxa or interesting patterns in your data."
   ]
  },
  {
   "cell_type": "markdown",
   "id": "dc29d212-53a3-4119-926b-d8119d929860",
   "metadata": {},
   "source": [
    "| Feature                  | Wood Soil (Forest)                                    | Heath Soil (Shrubland)                              |\n",
    "|--------------------------|------------------------------------------------------|----------------------------------------------------|\n",
    "| **Soil pH**              | Neutral to slightly acidic (5.5–7)                    | Acidic (3.5–5.5)                                   |\n",
    "| **Organic Matter**       | High, rich in lignin and cellulose                    | Moderate to low, more recalcitrant organic matter  |\n",
    "| **Vegetation**           | Trees, leaf litter                                    | Shrubs, mosses, lichens                            |"
   ]
  },
  {
   "cell_type": "markdown",
   "id": "72432504-60a9-40de-bd89-72d81d63974c",
   "metadata": {},
   "source": [
    "### **Bacteria**:\n",
    "##### Acidobacteria (Soil-associated bacteria) :\n",
    "\n",
    "[*\"The phylum of the Acidobacteria is one of the bacterial lineages that has profited most from the cultivation-independent interrogation of environmental samples. Indeed, in the past two decades, this phylum has grown from being virtually unknown to being recognized as one of the most abundant and diverse on Earth.\"*](https://www.frontiersin.org/journals/microbiology/articles/10.3389/fmicb.2016.00744/full)\n",
    "They are often abundant in acidic, nutrient-poor soils. Likely more dominant in heathland environments."
   ]
  },
  {
   "cell_type": "code",
   "execution_count": 15,
   "id": "627da3eb-2c8b-41bb-9f9a-f56f140e23ca",
   "metadata": {},
   "outputs": [
    {
     "name": "stdout",
     "output_type": "stream",
     "text": [
      "  0.19\t248\t35\tF\t204434\t            Acidobacteriaceae\n",
      "  0.00\t1\t0\t-\t112074\t              unclassified Acidobacteriaceae\n",
      "  0.00\t1\t1\tS\t2883246\t                Acidobacteriaceae bacterium ZG23-2\n",
      "  0.00\t1\t1\tS\t194844\t                uncultured Acidobacteriaceae bacterium\n"
     ]
    }
   ],
   "source": [
    "! grep Acidobacteria ../../data/metatranscriptomics/taxfun/metaT_wood_porechop_sortmerna.kreport"
   ]
  },
  {
   "cell_type": "code",
   "execution_count": 16,
   "id": "10e42eea-0e80-47b2-a2d2-482b8c6f3baa",
   "metadata": {},
   "outputs": [
    {
     "name": "stdout",
     "output_type": "stream",
     "text": [
      "  0.28\t1348\t309\tF\t204434\t            Acidobacteriaceae\n",
      "  0.00\t21\t0\t-\t112074\t              unclassified Acidobacteriaceae\n",
      "  0.00\t21\t21\tS\t2883246\t                Acidobacteriaceae bacterium ZG23-2\n",
      "  0.00\t16\t16\tS\t194844\t                uncultured Acidobacteriaceae bacterium\n",
      "  0.00\t7\t7\tS\t710731\t          uncultured Acidobacteria bacterium HF4000_26D02\n",
      "  0.00\t1\t1\tS\t1665086\t          uncultured Acidobacteria bacterium Rifle_16ft_4_minimus_33681\n",
      "  0.00\t2\t2\tS\t1660251\t            Acidobacteria bacterium Mor1\n"
     ]
    }
   ],
   "source": [
    "! grep Acidobacteria ../../data/metatranscriptomics/taxfun/metaT_heath_porechop_sortmerna.kreport"
   ]
  },
  {
   "cell_type": "markdown",
   "id": "bfc80844-4256-4e0e-9540-62c8e86c4541",
   "metadata": {},
   "source": [
    "The relative abundance of Acidobacteria is higher in heathland with respect to woodland (0.28% vs 0.19%, 1348 reads assigned vs 248). The subgroups detected are also higher."
   ]
  },
  {
   "cell_type": "code",
   "execution_count": 16,
   "id": "7e76daad-a612-467a-88ba-0bd2a4ead287",
   "metadata": {},
   "outputs": [
    {
     "name": "stdout",
     "output_type": "stream",
     "text": [
      "  0.03\t44\t13\tG\t374\t              Bradyrhizobium\n",
      "  0.01\t17\t3\t-\t2631580\t                unclassified Bradyrhizobium\n",
      "  0.00\t3\t3\tS\t1404888\t                  Bradyrhizobium sp. 1(2017)\n",
      "  0.00\t2\t2\tS\t288000\t                  Bradyrhizobium sp. BTAi1\n",
      "  0.00\t1\t1\tS\t83637\t                  Bradyrhizobium genosp. L\n",
      "  0.00\t1\t1\tS\t574727\t                  Bradyrhizobium sp. C-145\n",
      "  0.00\t1\t1\tS\t1325111\t                  Bradyrhizobium sp. CCBAU 53338\n",
      "  0.00\t1\t1\tS\t1325120\t                  Bradyrhizobium sp. CCBAU 53421\n",
      "  0.00\t1\t1\tS\t2782643\t                  Bradyrhizobium sp. 172\n",
      "  0.00\t1\t1\tS\t2782662\t                  Bradyrhizobium sp. 195\n",
      "  0.00\t1\t1\tS\t2782665\t                  Bradyrhizobium sp. 200\n",
      "  0.00\t1\t1\tS\t3039154\t                  Bradyrhizobium sp. CB1717\n",
      "  0.00\t1\t1\tS\t3039159\t                  Bradyrhizobium sp. CB82\n",
      "  0.00\t4\t4\tS\t2840469\t                Bradyrhizobium sediminis\n",
      "  0.00\t3\t3\tS\t255045\t                Bradyrhizobium canariense\n",
      "  0.00\t2\t2\tS\t1355477\t                Bradyrhizobium diazoefficiens\n",
      "  0.00\t2\t2\tS\t1437360\t                Bradyrhizobium erythrophlei\n",
      "  0.00\t1\t1\tS\t375\t                Bradyrhizobium japonicum\n",
      "  0.00\t1\t1\tS\t858423\t                Bradyrhizobium arachidis\n",
      "  0.00\t1\t1\tS\t1404411\t                Bradyrhizobium septentrionale\n"
     ]
    }
   ],
   "source": [
    "! grep Bradyrhizobium   Summer_School/analysis_tax_fun/metaT_wood_porechop_sortmerna.kreport"
   ]
  },
  {
   "cell_type": "markdown",
   "id": "9bf8c828-9036-4695-a1c6-c9fdce976828",
   "metadata": {},
   "source": [
    "Bradyrhizobium is more abundant in heathland (319 reads vs. 44 reads) and taxonomic diversity is also higher in heathland (64 vs. 18 variants). \n"
   ]
  },
  {
   "cell_type": "markdown",
   "id": "81367e09-e56a-4f9c-9d87-fbd31cbd996c",
   "metadata": {},
   "source": [
    "# **2- Functional Annotation with HMMER and Pfam** "
   ]
  },
  {
   "cell_type": "markdown",
   "id": "dc17848f-fc4c-4d61-85c5-1775c769a223",
   "metadata": {},
   "source": [
    "To functionally annotate the metatranscriptomic reads from the wood and heath environments, we can use HMMER’s ```hmmscan``` tool to search against the Pfam-A databasem which contains manually curated protein domain models."
   ]
  },
  {
   "cell_type": "markdown",
   "id": "b3a420de-7780-4b18-bdf2-c0241e51a565",
   "metadata": {},
   "source": [
    "## 2.1. **Pfam-A database Setup**"
   ]
  },
  {
   "cell_type": "markdown",
   "id": "831bf179-99ed-42ff-a804-006dfc7dec1f",
   "metadata": {},
   "source": [
    "First, we need to download the latest version of the **Pfam-A HMM database** from Pfam, which contains manually curated Hidden Markov Models (HMMs) representing conserved protein domains"
   ]
  },
  {
   "cell_type": "markdown",
   "id": "3b602d84-b7ad-4073-a144-5a163dd06b7c",
   "metadata": {},
   "source": [
    "```\n",
    "wget https://ftp.ebi.ac.uk/pub/databases/Pfam/current_release/Pfam-A.hmm.gz\n",
    "gunzip Pfam-A.hmm.gz\n",
    "```"
   ]
  },
  {
   "cell_type": "markdown",
   "id": "c2e0aad2-adf4-4edf-96c3-c5c67787ae86",
   "metadata": {},
   "source": [
    "HMM database is now compressed and indexed for fast scanning with hmmscan."
   ]
  },
  {
   "cell_type": "markdown",
   "id": "61b3f98d-0543-4ef8-871c-8c1753ded273",
   "metadata": {},
   "source": [
    "## **2.2. Run hmmscan** "
   ]
  },
  {
   "cell_type": "markdown",
   "id": "08083bf7-3a3f-495e-9e5e-c629350c2e50",
   "metadata": {},
   "source": [
    "``` -cpu INT ``` Number of CPU threads to use \n",
    "\n",
    "``` -domblout FILE ``` Output file for domain table results (tabular format)\n",
    "\n",
    "```-Pfam-A.hmm ```  HMM profile database (Pfam-A) used for protein domain search\n",
    "\n",
    "``` INPUT_FILE ``` Query sequences in FASTA or FASTQ format\n"
   ]
  },
  {
   "cell_type": "markdown",
   "id": "14f16440-2da3-43c8-a6bc-0e5c5b58f397",
   "metadata": {},
   "source": [
    "```\n",
    "hmmscan --cpu 12 \\\n",
    "    --domtblout ../../data/metatranscriptomics/taxfun/pfam_wood.domtblout \\\n",
    "    Pfam-A.hmm \\\n",
    "    ../../data/metatranscriptomics/preprocessing/metaT_wood_porechop_sortmerna.fastq\n",
    "\n",
    "hmmscan --cpu 12 \\\n",
    "    --domtblout ../../data/metatranscriptomics/taxfun/pfam_heath.domtblout \\\n",
    "    Pfam-A.hmm \\\n",
    "    ../../data/metatranscriptomics/preprocessing/metaT_heath_porechop_sortmerna.fastq"
   ]
  },
  {
   "cell_type": "code",
   "execution_count": 18,
   "id": "c23a0a50-dc5e-4423-a3e6-e1863340aea4",
   "metadata": {},
   "outputs": [
    {
     "name": "stdout",
     "output_type": "stream",
     "text": [
      "The history saving thread hit an unexpected error (OperationalError('attempt to write a readonly database')).History will not be written to the database.\n",
      "#                                                                            --- full sequence --- -------------- this domain -------------   hmm coord   ali coord   env coord\n",
      "# target name        accession   tlen query name           accession   qlen   E-value  score  bias   #  of  c-Evalue  i-Evalue  score  bias  from    to  from    to  from    to  acc description of target\n",
      "#------------------- ---------- ----- -------------------- ---------- ----- --------- ------ ----- --- --- --------- --------- ------ ----- ----- ----- ----- ----- ----- ----- ---- ---------------------\n",
      "DUF6465              PF20069.4    130 SRR28223359.15       -             89       2.4    8.6  17.3   1   1   0.00012       2.9    8.4  17.3    11    55     6    50     1    65 0.26 Family of unknown function (DUF6465)\n",
      "Ribosomal_60s        PF00428.24    88 SRR28223359.21       -             72       1.7    9.7  17.3   1   1   0.00011       2.6    9.1  17.3    47    68    41    64    26    68 0.47 60s Acidic ribosomal protein\n",
      "CFAP143              PF22584.1    437 SRR28223359.32       -            225       1.5    8.9  30.9   1   1   0.00016         2    8.5  30.9    17   168    50   199    36   211 0.28 Cilia- and flagella-associated protein 143\n",
      "DDHD                 PF02862.22   258 SRR28223359.32       -            225       8.9    6.8   7.9   1   1   0.00082        10    6.6   7.9   119   165    79   136    53   202 0.40 DDHD domain\n",
      "Ribosomal_60s        PF00428.24    88 SRR28223359.37       -             42       1.5    9.8  18.9   1   1   6.1e-05       1.5    9.8  18.9    44    67    20    40     5    42 0.39 60s Acidic ribosomal protein\n",
      "DUF7206              PF23836.1    107 SRR28223359.40       -            122       7.5    7.6   9.2   1   1   0.00049        12    7.0   9.2    51   106    64   111    39   120 0.38 Family of unknown function (DUF7206)\n",
      "PRCC                 PF10253.14   189 SRR28223359.46       -            146       8.9    7.5   7.3   1   1   0.00037         9    7.5   7.3    11    63    10    62     1   119 0.44 Mitotic checkpoint regulator, MAD2B-interacting\n"
     ]
    }
   ],
   "source": [
    "! head ../../data/metatranscriptomics/taxfun/pfam_wood.domtblout "
   ]
  },
  {
   "cell_type": "code",
   "execution_count": 20,
   "id": "70fef7b5-0bb4-49d0-90bb-afe75c3ff2ca",
   "metadata": {},
   "outputs": [],
   "source": [
    "import pandas as pd\n",
    "\n",
    "columns = [\n",
    "    \"target_name\", \"target_accession\", \"tlen\",\n",
    "    \"query_name\", \"query_accession\", \"qlen\",\n",
    "    \"E_value_full_sequence\", \"score_full_sequence\", \"bias_full_sequence\",\n",
    "    \"domain_num\", \"domain_total\",\n",
    "    \"c_Evalue_domain\", \"i_Evalue_domain\", \"score_domain\", \"bias_domain\",\n",
    "    \"hmm_from\", \"hmm_to\",\n",
    "    \"ali_from\", \"ali_to\",\n",
    "    \"env_from\", \"env_to\",\n",
    "    \"acc\",\n",
    "    \"description_of_target\"\n",
    "]\n",
    "\n",
    "rows = []\n",
    "with open('../../data/metatranscriptomics/taxfun/pfam_wood.domtblout') as file:\n",
    "    for line in file:\n",
    "        if line.startswith(\"#\"):\n",
    "            continue\n",
    "        parts = line.strip().split()\n",
    "        description = \" \".join(parts[22:])\n",
    "        fixed_cols = parts[:22]\n",
    "        rows.append(fixed_cols + [description])\n",
    "\n",
    "\n",
    "df_wood = pd.DataFrame(rows, columns=columns)\n",
    "\n",
    "num_cols = [\"tlen\", \"qlen\", \"E_value_full_sequence\", \"score_full_sequence\", \"bias_full_sequence\",\n",
    "            \"domain_num\", \"domain_total\", \"c_Evalue_domain\", \"i_Evalue_domain\",\n",
    "            \"score_domain\", \"bias_domain\", \"hmm_from\", \"hmm_to\", \"ali_from\", \"ali_to\",\n",
    "            \"env_from\", \"env_to\", \"acc\"]\n",
    "for col in num_cols:\n",
    "    df_wood[col] = pd.to_numeric(df_wood[col], errors='coerce')\n"
   ]
  },
  {
   "cell_type": "code",
   "execution_count": 21,
   "id": "b0bb3a63-89d9-4bba-97c8-9b34be38dba6",
   "metadata": {},
   "outputs": [
    {
     "data": {
      "text/html": [
       "<div>\n",
       "<style scoped>\n",
       "    .dataframe tbody tr th:only-of-type {\n",
       "        vertical-align: middle;\n",
       "    }\n",
       "\n",
       "    .dataframe tbody tr th {\n",
       "        vertical-align: top;\n",
       "    }\n",
       "\n",
       "    .dataframe thead th {\n",
       "        text-align: right;\n",
       "    }\n",
       "</style>\n",
       "<table border=\"1\" class=\"dataframe\">\n",
       "  <thead>\n",
       "    <tr style=\"text-align: right;\">\n",
       "      <th></th>\n",
       "      <th>target_name</th>\n",
       "      <th>target_accession</th>\n",
       "      <th>tlen</th>\n",
       "      <th>query_name</th>\n",
       "      <th>query_accession</th>\n",
       "      <th>qlen</th>\n",
       "      <th>E_value_full_sequence</th>\n",
       "      <th>score_full_sequence</th>\n",
       "      <th>bias_full_sequence</th>\n",
       "      <th>domain_num</th>\n",
       "      <th>...</th>\n",
       "      <th>score_domain</th>\n",
       "      <th>bias_domain</th>\n",
       "      <th>hmm_from</th>\n",
       "      <th>hmm_to</th>\n",
       "      <th>ali_from</th>\n",
       "      <th>ali_to</th>\n",
       "      <th>env_from</th>\n",
       "      <th>env_to</th>\n",
       "      <th>acc</th>\n",
       "      <th>description_of_target</th>\n",
       "    </tr>\n",
       "  </thead>\n",
       "  <tbody>\n",
       "    <tr>\n",
       "      <th>0</th>\n",
       "      <td>DUF6465</td>\n",
       "      <td>PF20069.4</td>\n",
       "      <td>130</td>\n",
       "      <td>SRR28223359.15</td>\n",
       "      <td>-</td>\n",
       "      <td>89</td>\n",
       "      <td>2.400</td>\n",
       "      <td>8.6</td>\n",
       "      <td>17.3</td>\n",
       "      <td>1</td>\n",
       "      <td>...</td>\n",
       "      <td>8.4</td>\n",
       "      <td>17.3</td>\n",
       "      <td>11</td>\n",
       "      <td>55</td>\n",
       "      <td>6</td>\n",
       "      <td>50</td>\n",
       "      <td>1</td>\n",
       "      <td>65</td>\n",
       "      <td>0.26</td>\n",
       "      <td>Family of unknown function (DUF6465)</td>\n",
       "    </tr>\n",
       "    <tr>\n",
       "      <th>1</th>\n",
       "      <td>Ribosomal_60s</td>\n",
       "      <td>PF00428.24</td>\n",
       "      <td>88</td>\n",
       "      <td>SRR28223359.21</td>\n",
       "      <td>-</td>\n",
       "      <td>72</td>\n",
       "      <td>1.700</td>\n",
       "      <td>9.7</td>\n",
       "      <td>17.3</td>\n",
       "      <td>1</td>\n",
       "      <td>...</td>\n",
       "      <td>9.1</td>\n",
       "      <td>17.3</td>\n",
       "      <td>47</td>\n",
       "      <td>68</td>\n",
       "      <td>41</td>\n",
       "      <td>64</td>\n",
       "      <td>26</td>\n",
       "      <td>68</td>\n",
       "      <td>0.47</td>\n",
       "      <td>60s Acidic ribosomal protein</td>\n",
       "    </tr>\n",
       "    <tr>\n",
       "      <th>2</th>\n",
       "      <td>CFAP143</td>\n",
       "      <td>PF22584.1</td>\n",
       "      <td>437</td>\n",
       "      <td>SRR28223359.32</td>\n",
       "      <td>-</td>\n",
       "      <td>225</td>\n",
       "      <td>1.500</td>\n",
       "      <td>8.9</td>\n",
       "      <td>30.9</td>\n",
       "      <td>1</td>\n",
       "      <td>...</td>\n",
       "      <td>8.5</td>\n",
       "      <td>30.9</td>\n",
       "      <td>17</td>\n",
       "      <td>168</td>\n",
       "      <td>50</td>\n",
       "      <td>199</td>\n",
       "      <td>36</td>\n",
       "      <td>211</td>\n",
       "      <td>0.28</td>\n",
       "      <td>Cilia- and flagella-associated protein 143</td>\n",
       "    </tr>\n",
       "    <tr>\n",
       "      <th>3</th>\n",
       "      <td>DDHD</td>\n",
       "      <td>PF02862.22</td>\n",
       "      <td>258</td>\n",
       "      <td>SRR28223359.32</td>\n",
       "      <td>-</td>\n",
       "      <td>225</td>\n",
       "      <td>8.900</td>\n",
       "      <td>6.8</td>\n",
       "      <td>7.9</td>\n",
       "      <td>1</td>\n",
       "      <td>...</td>\n",
       "      <td>6.6</td>\n",
       "      <td>7.9</td>\n",
       "      <td>119</td>\n",
       "      <td>165</td>\n",
       "      <td>79</td>\n",
       "      <td>136</td>\n",
       "      <td>53</td>\n",
       "      <td>202</td>\n",
       "      <td>0.40</td>\n",
       "      <td>DDHD domain</td>\n",
       "    </tr>\n",
       "    <tr>\n",
       "      <th>4</th>\n",
       "      <td>Ribosomal_60s</td>\n",
       "      <td>PF00428.24</td>\n",
       "      <td>88</td>\n",
       "      <td>SRR28223359.37</td>\n",
       "      <td>-</td>\n",
       "      <td>42</td>\n",
       "      <td>1.500</td>\n",
       "      <td>9.8</td>\n",
       "      <td>18.9</td>\n",
       "      <td>1</td>\n",
       "      <td>...</td>\n",
       "      <td>9.8</td>\n",
       "      <td>18.9</td>\n",
       "      <td>44</td>\n",
       "      <td>67</td>\n",
       "      <td>20</td>\n",
       "      <td>40</td>\n",
       "      <td>5</td>\n",
       "      <td>42</td>\n",
       "      <td>0.39</td>\n",
       "      <td>60s Acidic ribosomal protein</td>\n",
       "    </tr>\n",
       "    <tr>\n",
       "      <th>...</th>\n",
       "      <td>...</td>\n",
       "      <td>...</td>\n",
       "      <td>...</td>\n",
       "      <td>...</td>\n",
       "      <td>...</td>\n",
       "      <td>...</td>\n",
       "      <td>...</td>\n",
       "      <td>...</td>\n",
       "      <td>...</td>\n",
       "      <td>...</td>\n",
       "      <td>...</td>\n",
       "      <td>...</td>\n",
       "      <td>...</td>\n",
       "      <td>...</td>\n",
       "      <td>...</td>\n",
       "      <td>...</td>\n",
       "      <td>...</td>\n",
       "      <td>...</td>\n",
       "      <td>...</td>\n",
       "      <td>...</td>\n",
       "      <td>...</td>\n",
       "    </tr>\n",
       "    <tr>\n",
       "      <th>1572</th>\n",
       "      <td>Plasmodium_Vir</td>\n",
       "      <td>PF05795.16</td>\n",
       "      <td>377</td>\n",
       "      <td>SRR28223359.14762</td>\n",
       "      <td>-</td>\n",
       "      <td>160</td>\n",
       "      <td>9.800</td>\n",
       "      <td>6.0</td>\n",
       "      <td>6.8</td>\n",
       "      <td>1</td>\n",
       "      <td>...</td>\n",
       "      <td>5.8</td>\n",
       "      <td>6.8</td>\n",
       "      <td>231</td>\n",
       "      <td>300</td>\n",
       "      <td>76</td>\n",
       "      <td>133</td>\n",
       "      <td>34</td>\n",
       "      <td>148</td>\n",
       "      <td>0.34</td>\n",
       "      <td>Plasmodium vivax Vir protein</td>\n",
       "    </tr>\n",
       "    <tr>\n",
       "      <th>1573</th>\n",
       "      <td>PRCC</td>\n",
       "      <td>PF10253.14</td>\n",
       "      <td>189</td>\n",
       "      <td>SRR28223359.14768</td>\n",
       "      <td>-</td>\n",
       "      <td>182</td>\n",
       "      <td>1.900</td>\n",
       "      <td>9.7</td>\n",
       "      <td>4.6</td>\n",
       "      <td>1</td>\n",
       "      <td>...</td>\n",
       "      <td>9.5</td>\n",
       "      <td>4.6</td>\n",
       "      <td>21</td>\n",
       "      <td>62</td>\n",
       "      <td>16</td>\n",
       "      <td>57</td>\n",
       "      <td>1</td>\n",
       "      <td>105</td>\n",
       "      <td>0.42</td>\n",
       "      <td>Mitotic checkpoint regulator, MAD2B-interacting</td>\n",
       "    </tr>\n",
       "    <tr>\n",
       "      <th>1574</th>\n",
       "      <td>GP38</td>\n",
       "      <td>PF05268.17</td>\n",
       "      <td>218</td>\n",
       "      <td>SRR28223359.14785</td>\n",
       "      <td>-</td>\n",
       "      <td>59</td>\n",
       "      <td>2.600</td>\n",
       "      <td>8.2</td>\n",
       "      <td>15.5</td>\n",
       "      <td>1</td>\n",
       "      <td>...</td>\n",
       "      <td>8.2</td>\n",
       "      <td>15.5</td>\n",
       "      <td>106</td>\n",
       "      <td>153</td>\n",
       "      <td>9</td>\n",
       "      <td>54</td>\n",
       "      <td>3</td>\n",
       "      <td>59</td>\n",
       "      <td>0.68</td>\n",
       "      <td>Phage tail fibre adhesin Gp38</td>\n",
       "    </tr>\n",
       "    <tr>\n",
       "      <th>1575</th>\n",
       "      <td>TrAA12</td>\n",
       "      <td>PF22807.2</td>\n",
       "      <td>463</td>\n",
       "      <td>SRR28223359.14803</td>\n",
       "      <td>-</td>\n",
       "      <td>118</td>\n",
       "      <td>0.072</td>\n",
       "      <td>11.8</td>\n",
       "      <td>28.8</td>\n",
       "      <td>1</td>\n",
       "      <td>...</td>\n",
       "      <td>11.6</td>\n",
       "      <td>28.8</td>\n",
       "      <td>387</td>\n",
       "      <td>446</td>\n",
       "      <td>23</td>\n",
       "      <td>82</td>\n",
       "      <td>14</td>\n",
       "      <td>112</td>\n",
       "      <td>0.57</td>\n",
       "      <td>TrAA12-like</td>\n",
       "    </tr>\n",
       "    <tr>\n",
       "      <th>1576</th>\n",
       "      <td>CFAP143</td>\n",
       "      <td>PF22584.1</td>\n",
       "      <td>437</td>\n",
       "      <td>SRR28223359.14803</td>\n",
       "      <td>-</td>\n",
       "      <td>118</td>\n",
       "      <td>0.090</td>\n",
       "      <td>13.0</td>\n",
       "      <td>6.6</td>\n",
       "      <td>1</td>\n",
       "      <td>...</td>\n",
       "      <td>12.8</td>\n",
       "      <td>6.6</td>\n",
       "      <td>119</td>\n",
       "      <td>171</td>\n",
       "      <td>25</td>\n",
       "      <td>77</td>\n",
       "      <td>7</td>\n",
       "      <td>95</td>\n",
       "      <td>0.41</td>\n",
       "      <td>Cilia- and flagella-associa</td>\n",
       "    </tr>\n",
       "  </tbody>\n",
       "</table>\n",
       "<p>1577 rows × 23 columns</p>\n",
       "</div>"
      ],
      "text/plain": [
       "         target_name target_accession  tlen         query_name  \\\n",
       "0            DUF6465        PF20069.4   130     SRR28223359.15   \n",
       "1      Ribosomal_60s       PF00428.24    88     SRR28223359.21   \n",
       "2            CFAP143        PF22584.1   437     SRR28223359.32   \n",
       "3               DDHD       PF02862.22   258     SRR28223359.32   \n",
       "4      Ribosomal_60s       PF00428.24    88     SRR28223359.37   \n",
       "...              ...              ...   ...                ...   \n",
       "1572  Plasmodium_Vir       PF05795.16   377  SRR28223359.14762   \n",
       "1573            PRCC       PF10253.14   189  SRR28223359.14768   \n",
       "1574            GP38       PF05268.17   218  SRR28223359.14785   \n",
       "1575          TrAA12        PF22807.2   463  SRR28223359.14803   \n",
       "1576         CFAP143        PF22584.1   437  SRR28223359.14803   \n",
       "\n",
       "     query_accession  qlen  E_value_full_sequence  score_full_sequence  \\\n",
       "0                  -    89                  2.400                  8.6   \n",
       "1                  -    72                  1.700                  9.7   \n",
       "2                  -   225                  1.500                  8.9   \n",
       "3                  -   225                  8.900                  6.8   \n",
       "4                  -    42                  1.500                  9.8   \n",
       "...              ...   ...                    ...                  ...   \n",
       "1572               -   160                  9.800                  6.0   \n",
       "1573               -   182                  1.900                  9.7   \n",
       "1574               -    59                  2.600                  8.2   \n",
       "1575               -   118                  0.072                 11.8   \n",
       "1576               -   118                  0.090                 13.0   \n",
       "\n",
       "      bias_full_sequence  domain_num  ...  score_domain  bias_domain  \\\n",
       "0                   17.3           1  ...           8.4         17.3   \n",
       "1                   17.3           1  ...           9.1         17.3   \n",
       "2                   30.9           1  ...           8.5         30.9   \n",
       "3                    7.9           1  ...           6.6          7.9   \n",
       "4                   18.9           1  ...           9.8         18.9   \n",
       "...                  ...         ...  ...           ...          ...   \n",
       "1572                 6.8           1  ...           5.8          6.8   \n",
       "1573                 4.6           1  ...           9.5          4.6   \n",
       "1574                15.5           1  ...           8.2         15.5   \n",
       "1575                28.8           1  ...          11.6         28.8   \n",
       "1576                 6.6           1  ...          12.8          6.6   \n",
       "\n",
       "      hmm_from  hmm_to  ali_from  ali_to  env_from  env_to   acc  \\\n",
       "0           11      55         6      50         1      65  0.26   \n",
       "1           47      68        41      64        26      68  0.47   \n",
       "2           17     168        50     199        36     211  0.28   \n",
       "3          119     165        79     136        53     202  0.40   \n",
       "4           44      67        20      40         5      42  0.39   \n",
       "...        ...     ...       ...     ...       ...     ...   ...   \n",
       "1572       231     300        76     133        34     148  0.34   \n",
       "1573        21      62        16      57         1     105  0.42   \n",
       "1574       106     153         9      54         3      59  0.68   \n",
       "1575       387     446        23      82        14     112  0.57   \n",
       "1576       119     171        25      77         7      95  0.41   \n",
       "\n",
       "                                description_of_target  \n",
       "0                Family of unknown function (DUF6465)  \n",
       "1                        60s Acidic ribosomal protein  \n",
       "2          Cilia- and flagella-associated protein 143  \n",
       "3                                         DDHD domain  \n",
       "4                        60s Acidic ribosomal protein  \n",
       "...                                               ...  \n",
       "1572                     Plasmodium vivax Vir protein  \n",
       "1573  Mitotic checkpoint regulator, MAD2B-interacting  \n",
       "1574                    Phage tail fibre adhesin Gp38  \n",
       "1575                                      TrAA12-like  \n",
       "1576                      Cilia- and flagella-associa  \n",
       "\n",
       "[1577 rows x 23 columns]"
      ]
     },
     "execution_count": 21,
     "metadata": {},
     "output_type": "execute_result"
    }
   ],
   "source": [
    "df_wood"
   ]
  },
  {
   "cell_type": "code",
   "execution_count": 24,
   "id": "0d4d1438-0aeb-4d55-9448-594e83ab54de",
   "metadata": {
    "scrolled": true
   },
   "outputs": [
    {
     "data": {
      "image/png": "[encoded data removed]",
      "text/plain": [
       "<Figure size 1000x600 with 1 Axes>"
      ]
     },
     "metadata": {},
     "output_type": "display_data"
    }
   ],
   "source": [
    "import matplotlib.pyplot as plt\n",
    "import seaborn as sns\n",
    "\n",
    "plt.figure(figsize=(10,6))\n",
    "top_domains = df_wood['description_of_target'].value_counts().nlargest(15)\n",
    "sns.barplot(x=top_domains.values, y=top_domains.index, hue= top_domains.index, palette='viridis')\n",
    "plt.xlabel(\"Frequency\")\n",
    "plt.ylabel(\"Pfam domain\")\n",
    "plt.title(\"Top 15 more frequent Pfam domains\")\n",
    "plt.tight_layout()\n",
    "plt.show()"
   ]
  },
  {
   "cell_type": "markdown",
   "id": "54cfa3a5-40c2-4e20-a623-c275f1e7069c",
   "metadata": {},
   "source": [
    "We can identify the most represented functional domains in our sample. The most frequent domains might be linked to key biological functions or ecological processes active in the sampled environment."
   ]
  }
 ],
 "metadata": {
  "kernelspec": {
   "display_name": "Python 3 (ipykernel)",
   "language": "python",
   "name": "python3"
  },
  "language_info": {
   "codemirror_mode": {
    "name": "ipython",
    "version": 3
   },
   "file_extension": ".py",
   "mimetype": "text/x-python",
   "name": "python",
   "nbconvert_exporter": "python",
   "pygments_lexer": "ipython3",
   "version": "3.10.18"
  }
 },
 "nbformat": 4,
 "nbformat_minor": 5
}
