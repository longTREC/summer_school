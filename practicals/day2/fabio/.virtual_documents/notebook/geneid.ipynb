


reference_assembly = '../data/NC_059190.1_ref.fna'
reference_annotaton = '../data/NC_059190.1_RefSeq.gff' 
# nanopore_reads 
geneid_parameters = "../data/Daphnia_magna.param"
isoquant_models = "../data/NC_059190.1_isquant_models.gff"





! time geneid -3P $geneid_parameters $reference_assembly > ../results/geneid_simple.gff3





! grep -v '#' ../results/geneid_simple.gff3 | cut -f 3 | sort | uniq -c 


! bash ../scripts/extract_features.sh 


! bash ../scripts/extract_features.sh ../results/geneid_simple.gff3 $reference_assembly


13296/2914

















! grep -v '#' $isoquant_models  | cut -f 3 | sort | uniq -c 


! bash ../scripts/extract_features.sh $isoquant_models $reference_assembly











! agat_sp_keep_longest_isoform.pl --gff $isoquant_models -o ../intermediate/isoquant_longest.gff


! bash ../scripts/extract_features.sh ../intermediate/isoquant_longest.gff $reference_assembly





! awk '$3 == "exon"' ../intermediate/isoquant_longest.gff > ../intermediate/isoquant_exons.gff


! gawk 'BEGIN { FS=OFS="\t" } /^#/ { print; next } { match($9, /transcript_id=([^;]+)/, a); $9 = a[1]; print }' ../intermediate/isoquant_exons.gff > ../intermediate/isoquant_exons_geneid.gff 





from collections import defaultdict
import csv

# Input/output files
input_file = "../intermediate/isoquant_exons_geneid.gff"
output_file = "../intermediate/isoquant_exons_geneid_class.gff"

# Group exons by transcript
transcript_exons = defaultdict(list)

with open(input_file) as f:
    for line in f:
        if line.startswith("#") or not line.strip():
            continue
        parts = line.strip().split('\t')
        transcript_id = parts[8].strip()  # Assuming 9th column is just the transcript name
        transcript_exons[transcript_id].append(parts)

# Process and label exons
with open(output_file, 'w', newline='') as out:
    writer = csv.writer(out, delimiter='\t', quoting=csv.QUOTE_NONE, escapechar='\\')

    for transcript, exons in transcript_exons.items():

        strand = exons[0][6]
        
        for i, exon in enumerate(exons):
            if i == 0 :
                if strand == '+':
                    exon[2] = "First"
                else:
                    exon[2] = "Terminal"                 
            elif i == len(exons) - 1:
                if strand == '+':
                    exon[2] = "Terminal"
                else:
                    exon[2] = "First"
            else:
                exon[2] = "Internal"
            writer.writerow(exon)


! grep '+' ../intermediate/isoquant_exons_geneid_class.gff > ../intermediate/isoquant_exons_geneid_class_FW.gff


! grep '' ../intermediate/isoquant_exons_geneid_class.gff > ../intermediate/isoquant_exons_geneid_class_RW.gff





! time geneid -3P $geneid_parameters -R ../intermediate/isoquant_exons_geneid_class_FW.gff $reference_assembly > ../results/geneid_fw.gff3



























