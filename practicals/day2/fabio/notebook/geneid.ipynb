{
 "cells": [
  {
   "cell_type": "markdown",
   "id": "0445009c-8d62-4215-bbb9-a2aa0abfb7d8",
   "metadata": {},
   "source": [
    "# Data"
   ]
  },
  {
   "cell_type": "code",
   "execution_count": 62,
   "id": "acb93230-e2bf-4e8c-956f-9acd39858e14",
   "metadata": {},
   "outputs": [],
   "source": [
    "reference_assembly = '../data/NC_059190.1_ref.fna'\n",
    "reference_annotaton = '../data/NC_059190.1_RefSeq.gff' \n",
    "# nanopore_reads \n",
    "geneid_parameters = \"../data/Daphnia_magna.param\"\n",
    "isoquant_models = \"../data/NC_059190.1_isquant_models.gff\""
   ]
  },
  {
   "cell_type": "markdown",
   "id": "98999b2b-9cc0-4012-93ac-b637c92b31dc",
   "metadata": {},
   "source": [
    "# Get geneid"
   ]
  },
  {
   "cell_type": "code",
   "execution_count": 46,
   "id": "4e4dc2d4-2028-4441-85f1-628635e7ca64",
   "metadata": {
    "collapsed": true,
    "jupyter": {
     "outputs_hidden": true
    }
   },
   "outputs": [
    {
     "name": "stdout",
     "output_type": "stream",
     "text": [
      "Cloning into 'geneid'...\n",
      "remote: Enumerating objects: 21502, done.\u001b[K\n",
      "remote: Counting objects: 100% (3/3), done.\u001b[K\n",
      "remote: Compressing objects: 100% (3/3), done.\u001b[K\n",
      "remote: Total 21502 (delta 0), reused 0 (delta 0), pack-reused 21499 (from 1)\u001b[K\n",
      "Receiving objects: 100% (21502/21502), 119.37 MiB | 10.76 MiB/s, done.\n",
      "Resolving deltas: 100% (11251/11251), done.\n"
     ]
    }
   ],
   "source": [
    "! git clone https://github.com/guigolab/geneid.git"
   ]
  },
  {
   "cell_type": "code",
   "execution_count": 47,
   "id": "9a1ee4fe-f1a2-4c3b-9242-1bfb66aec460",
   "metadata": {
    "collapsed": true,
    "jupyter": {
     "outputs_hidden": true
    },
    "scrolled": true
   },
   "outputs": [
    {
     "name": "stdout",
     "output_type": "stream",
     "text": [
      "mkdir ./objects; \n",
      "gcc -c -I./include -Wall -O3 ./src/geneid.c -o ./objects/geneid.o \n",
      "gcc -c -I./include -Wall -O3 ./src/BackupGenes.c -o ./objects/BackupGenes.o\n",
      "gcc -c -I./include -Wall -O3 ./src/PeakEdgeScore.c -o ./objects/PeakEdgeScore.o\n",
      "gcc -c -I./include -Wall -O3 ./src/GetTranscriptTermini-usingslopes.c -o ./objects/GetTranscriptTermini-usingslopes.o\n",
      "gcc -c -I./include -Wall -O3 ./src/BuildAcceptors.c -o ./objects/BuildAcceptors.o\n",
      "gcc -c -I./include -Wall -O3 ./src/BuildU12Acceptors.c -o ./objects/BuildU12Acceptors.o\n",
      "gcc -c -I./include -Wall -O3 ./src/BuildDonors.c -o ./objects/BuildDonors.o\n",
      "gcc -c -I./include -Wall -O3 ./src/BuildInitialExons.c -o ./objects/BuildInitialExons.o\n",
      "gcc -c -I./include -Wall -O3 ./src/BuildInternalExons.c -o ./objects/BuildInternalExons.o\n",
      "gcc -c -I./include -Wall -O3 ./src/BuildZeroLengthExons.c -o ./objects/BuildZeroLengthExons.o\n",
      "\u001b[01m\u001b[K./src/BuildZeroLengthExons.c:\u001b[m\u001b[K In function ‘\u001b[01m\u001b[KBuildZeroLengthExons\u001b[m\u001b[K’:\n",
      "\u001b[01m\u001b[K./src/BuildZeroLengthExons.c:62:14:\u001b[m\u001b[K \u001b[01;35m\u001b[Kwarning: \u001b[m\u001b[Kvariable ‘\u001b[01m\u001b[Kjs\u001b[m\u001b[K’ set but not used [\u001b[01;35m\u001b[K\u001b]8;;https://gcc.gnu.org/onlinedocs/gcc/Warning-Options.html#index-Wunused-but-set-variable\u0007-Wunused-but-set-variable\u001b]8;;\u0007\u001b[m\u001b[K]\n",
      "   62 |   long i, j, \u001b[01;35m\u001b[Kjs\u001b[m\u001b[K, k;\n",
      "      |              \u001b[01;35m\u001b[K^~\u001b[m\u001b[K\n",
      "\u001b[01m\u001b[K./src/BuildZeroLengthExons.c:55:20:\u001b[m\u001b[K \u001b[01;35m\u001b[Kwarning: \u001b[m\u001b[Kvariable ‘\u001b[01m\u001b[KLowestLocalExon\u001b[m\u001b[K’ set but not used [\u001b[01;35m\u001b[K\u001b]8;;https://gcc.gnu.org/onlinedocs/gcc/Warning-Options.html#index-Wunused-but-set-variable\u0007-Wunused-but-set-variable\u001b]8;;\u0007\u001b[m\u001b[K]\n",
      "   55 |   int nLocalExons, \u001b[01;35m\u001b[KLowestLocalExon\u001b[m\u001b[K;\n",
      "      |                    \u001b[01;35m\u001b[K^~~~~~~~~~~~~~~\u001b[m\u001b[K\n",
      "gcc -c -I./include -Wall -O3 ./src/BuildUTRExons.c -o ./objects/BuildUTRExons.o\n",
      "\u001b[01m\u001b[K./src/BuildUTRExons.c:\u001b[m\u001b[K In function ‘\u001b[01m\u001b[KBuildUTRExons\u001b[m\u001b[K’:\n",
      "\u001b[01m\u001b[K./src/BuildUTRExons.c:57:11:\u001b[m\u001b[K \u001b[01;35m\u001b[Kwarning: \u001b[m\u001b[Kvariable ‘\u001b[01m\u001b[Kj\u001b[m\u001b[K’ set but not used [\u001b[01;35m\u001b[K\u001b]8;;https://gcc.gnu.org/onlinedocs/gcc/Warning-Options.html#index-Wunused-but-set-variable\u0007-Wunused-but-set-variable\u001b]8;;\u0007\u001b[m\u001b[K]\n",
      "   57 |   long i, \u001b[01;35m\u001b[Kj\u001b[m\u001b[K, k, ks;\n",
      "      |           \u001b[01;35m\u001b[K^\u001b[m\u001b[K\n",
      "gcc -c -I./include -Wall -O3 ./src/BuildORFs.c -o ./objects/BuildORFs.o\n",
      "gcc -c -I./include -Wall -O3 ./src/BuildSingles.c -o ./objects/BuildSingles.o\n",
      "gcc -c -I./include -Wall -O3 ./src/BuildSort.c -o ./objects/BuildSort.o\n",
      "gcc -c -I./include -Wall -O3 ./src/BuildTerminalExons.c -o ./objects/BuildTerminalExons.o\n",
      "gcc -c -I./include -Wall -O3 ./src/ComputeStopInfo.c -o ./objects/ComputeStopInfo.o\n",
      "gcc -c -I./include -Wall -O3 ./src/CookingGenes.c -o ./objects/CookingGenes.o\n",
      "\u001b[01m\u001b[K./src/CookingGenes.c:\u001b[m\u001b[K In function ‘\u001b[01m\u001b[KPrintGene\u001b[m\u001b[K’:\n",
      "\u001b[01m\u001b[K./src/CookingGenes.c:702:7:\u001b[m\u001b[K \u001b[01;35m\u001b[Kwarning: \u001b[m\u001b[Kvariable ‘\u001b[01m\u001b[Kfeatnum\u001b[m\u001b[K’ set but not used [\u001b[01;35m\u001b[K\u001b]8;;https://gcc.gnu.org/onlinedocs/gcc/Warning-Options.html#index-Wunused-but-set-variable\u0007-Wunused-but-set-variable\u001b]8;;\u0007\u001b[m\u001b[K]\n",
      "  702 |   int \u001b[01;35m\u001b[Kfeatnum\u001b[m\u001b[K =0;\n",
      "      |       \u001b[01;35m\u001b[K^~~~~~~\u001b[m\u001b[K\n",
      "gcc -c -I./include -Wall -O3 ./src/CorrectExon.c -o ./objects/CorrectExon.o\n",
      "gcc -c -I./include -Wall -O3 ./src/Dictionary.c -o ./objects/Dictionary.o\n",
      "gcc -c -I./include -Wall -O3 ./src/DumpHash.c -o ./objects/DumpHash.o\n",
      "gcc -c -I./include -Wall -O3 ./src/FetchSequence.c -o ./objects/FetchSequence.o\n",
      "gcc -c -I./include -Wall -O3 ./src/GetSitesWithProfile.c -o ./objects/GetSitesWithProfile.o\n",
      "gcc -c -I./include -Wall -O3 ./src/GetStopCodons.c -o ./objects/GetStopCodons.o\n",
      "\u001b[01m\u001b[K./src/GetStopCodons.c:\u001b[m\u001b[K In function ‘\u001b[01m\u001b[KGetStopCodons\u001b[m\u001b[K’:\n",
      "\u001b[01m\u001b[K./src/GetStopCodons.c:214:7:\u001b[m\u001b[K \u001b[01;35m\u001b[Kwarning: \u001b[m\u001b[Kthe comparison will always evaluate as ‘\u001b[01m\u001b[Ktrue\u001b[m\u001b[K’ for the pointer operand in ‘\u001b[01m\u001b[Ks + (sizetype)p->dimension\u001b[m\u001b[K’ must not be NULL [\u001b[01;35m\u001b[K\u001b]8;;https://gcc.gnu.org/onlinedocs/gcc/Warning-Options.html#index-Waddress\u0007-Waddress\u001b]8;;\u0007\u001b[m\u001b[K]\n",
      "  214 |   if (\u001b[01;35m\u001b[K!\u001b[m\u001b[K(s+p->dimension))\n",
      "      |       \u001b[01;35m\u001b[K^\u001b[m\u001b[K\n",
      "gcc -c -I./include -Wall -O3 ./src/Output.c -o ./objects/Output.o\n",
      "gcc -c -I./include -Wall -O3 ./src/PrintExons.c -o ./objects/PrintExons.o\n",
      "gcc -c -I./include -Wall -O3 ./src/PrintSites.c -o ./objects/PrintSites.o\n",
      "gcc -c -I./include -Wall -O3 ./src/ReadExonsGFF.c -o ./objects/ReadExonsGFF.o\n",
      "gcc -c -I./include -Wall -O3 ./src/ReadGeneModel.c -o ./objects/ReadGeneModel.o\n",
      "gcc -c -I./include -Wall -O3 ./src/ReadSequence.c -o ./objects/ReadSequence.o\n",
      "gcc -c -I./include -Wall -O3 ./src/ReadHSP.c -o ./objects/ReadHSP.o\n",
      "\u001b[01m\u001b[K./src/ReadHSP.c:\u001b[m\u001b[K In function ‘\u001b[01m\u001b[KReadHSP\u001b[m\u001b[K’:\n",
      "\u001b[01m\u001b[K./src/ReadHSP.c:101:9:\u001b[m\u001b[K \u001b[01;35m\u001b[Kwarning: \u001b[m\u001b[Kvariable ‘\u001b[01m\u001b[Kline9\u001b[m\u001b[K’ set but not used [\u001b[01;35m\u001b[K\u001b]8;;https://gcc.gnu.org/onlinedocs/gcc/Warning-Options.html#index-Wunused-but-set-variable\u0007-Wunused-but-set-variable\u001b]8;;\u0007\u001b[m\u001b[K]\n",
      "  101 |   char *\u001b[01;35m\u001b[Kline9\u001b[m\u001b[K;\n",
      "      |         \u001b[01;35m\u001b[K^~~~~\u001b[m\u001b[K\n",
      "gcc -c -I./include -Wall -O3 ./src/RecomputePositions.c -o ./objects/RecomputePositions.o\n",
      "gcc -c -I./include -Wall -O3 ./src/RequestMemory.c -o ./objects/RequestMemory.o\n",
      "\u001b[01m\u001b[K./src/RequestMemory.c:\u001b[m\u001b[K In function ‘\u001b[01m\u001b[KRequestMemoryGenes\u001b[m\u001b[K’:\n",
      "\u001b[01m\u001b[K./src/RequestMemory.c:657:7:\u001b[m\u001b[K \u001b[01;35m\u001b[Kwarning: \u001b[m\u001b[Kthis ‘\u001b[01m\u001b[Kif\u001b[m\u001b[K’ clause does not guard... [\u001b[01;35m\u001b[K\u001b]8;;https://gcc.gnu.org/onlinedocs/gcc/Warning-Options.html#index-Wmisleading-indentation\u0007-Wmisleading-indentation\u001b]8;;\u0007\u001b[m\u001b[K]\n",
      "  657 |       \u001b[01;35m\u001b[Kif\u001b[m\u001b[K ((pg->Ga[aux][aux2] = (exonGFF* *)calloc(SPLICECLASSES, sizeof(exonGFF*))) == NULL)\n",
      "      |       \u001b[01;35m\u001b[K^~\u001b[m\u001b[K\n",
      "\u001b[01m\u001b[K./src/RequestMemory.c:660:9:\u001b[m\u001b[K \u001b[01;36m\u001b[Knote: \u001b[m\u001b[K...this statement, but the latter is misleadingly indented as if it were guarded by the ‘\u001b[01m\u001b[Kif\u001b[m\u001b[K’\n",
      "  660 |         \u001b[01;36m\u001b[Kfor\u001b[m\u001b[K(aux3=0; aux3 < SPLICECLASSES; aux3++){\n",
      "      |         \u001b[01;36m\u001b[K^~~\u001b[m\u001b[K\n",
      "gcc -c -I./include -Wall -O3 ./src/ProcessHSPs.c -o ./objects/ProcessHSPs.o\n",
      "gcc -c -I./include -Wall -O3 ./src/ScoreExons.c -o ./objects/ScoreExons.o\n",
      "\u001b[01m\u001b[K./src/ScoreExons.c:\u001b[m\u001b[K In function ‘\u001b[01m\u001b[KScore\u001b[m\u001b[K’:\n",
      "\u001b[01m\u001b[K./src/ScoreExons.c:384:7:\u001b[m\u001b[K \u001b[01;35m\u001b[Kwarning: \u001b[m\u001b[Kvariable ‘\u001b[01m\u001b[Krss\u001b[m\u001b[K’ set but not used [\u001b[01;35m\u001b[K\u001b]8;;https://gcc.gnu.org/onlinedocs/gcc/Warning-Options.html#index-Wunused-but-set-variable\u0007-Wunused-but-set-variable\u001b]8;;\u0007\u001b[m\u001b[K]\n",
      "  384 |   int \u001b[01;35m\u001b[Krss\u001b[m\u001b[K = 0;\n",
      "      |       \u001b[01;35m\u001b[K^~~\u001b[m\u001b[K\n",
      "gcc -c -I./include -Wall -O3 ./src/SearchEvidenceExons.c -o ./objects/SearchEvidenceExons.o\n",
      "gcc -c -I./include -Wall -O3 ./src/SetRatios.c -o ./objects/SetRatios.o\n",
      "gcc -c -I./include -Wall -O3 ./src/SortExons.c -o ./objects/SortExons.o\n",
      "gcc -c -I./include -Wall -O3 ./src/SortSites.c -o ./objects/SortSites.o\n",
      "gcc -c -I./include -Wall -O3 ./src/SortHSPs.c -o ./objects/SortHSPs.o\n",
      "gcc -c -I./include -Wall -O3 ./src/SwitchFrames.c -o ./objects/SwitchFrames.o\n",
      "gcc -c -I./include -Wall -O3 ./src/SwitchPositions.c -o ./objects/SwitchPositions.o\n",
      "gcc -c -I./include -Wall -O3 ./src/Translate.c -o ./objects/Translate.o\n",
      "gcc -c -I./include -Wall -O3 ./src/account.c -o ./objects/account.o\n",
      "gcc -c -I./include -Wall -O3 ./src/beggar.c -o ./objects/beggar.o\n",
      "gcc -c -I./include -Wall -O3 ./src/genamic.c -o ./objects/genamic.o\n",
      "gcc -c -I./include -Wall -O3 ./src/manager.c -o ./objects/manager.o\n",
      "gcc -c -I./include -Wall -O3 ./src/readparam.c -o ./objects/readparam.o\n",
      "\u001b[01m\u001b[K./src/readparam.c:\u001b[m\u001b[K In function ‘\u001b[01m\u001b[KReadProfileSpliceSites\u001b[m\u001b[K’:\n",
      "\u001b[01m\u001b[K./src/readparam.c:534:72:\u001b[m\u001b[K \u001b[01;35m\u001b[Kwarning: \u001b[m\u001b[K‘\u001b[01m\u001b[K%s\u001b[m\u001b[K’ directive writing up to 599 bytes into a region of size 573 [\u001b[01;35m\u001b[K\u001b]8;;https://gcc.gnu.org/onlinedocs/gcc/Warning-Options.html#index-Wformat-overflow=\u0007-Wformat-overflow=\u001b]8;;\u0007\u001b[m\u001b[K]\n",
      "  534 |                    sprintf(mess,\"Wrong format: profile name \u001b[01;35m\u001b[K%s\u001b[m\u001b[K \\n\\tis not admitted for donors [only %s, %s, %s, %s, %s, %s or %s]\",\n",
      "      |                                                             \u001b[01;35m\u001b[K^~\u001b[m\u001b[K\n",
      "\n",
      "  535 |                            \u001b[32m\u001b[Kheader\u001b[m\u001b[K, sprofileDON, sprofileU12gtagDON, sprofileU12atacDON,sprofileU2gcagDON,sprofileU2gtaDON,sprofileU2gtgDON,sprofileU2gtyDON);\n",
      "      |                            \u001b[32m\u001b[K~~~~~~\u001b[m\u001b[K                            \n",
      "\n",
      "\u001b[01m\u001b[K./src/readparam.c:534:31:\u001b[m\u001b[K \u001b[01;36m\u001b[Knote: \u001b[m\u001b[K‘\u001b[01m\u001b[Ksprintf\u001b[m\u001b[K’ output between 211 and 810 bytes into a destination of size 600\n",
      "  534 |                               \u001b[01;36m\u001b[Ksprintf(mess,\"Wrong format: profile name %s \\n\\tis not admitted for donors [only %s, %s, %s, %s, %s, %s or %s]\",\u001b[m\u001b[K\n",
      "      |                               \u001b[01;36m\u001b[K^~~~~~~~~~~~~~~~~~~~~~~~~~~~~~~~~~~~~~~~~~~~~~~~~~~~~~~~~~~~~~~~~~~~~~~~~~~~~~~~~~~~~~~~~~~~~~~~~~~~~~~~~~~~~~~~\u001b[m\u001b[K\n",
      "  535 | \u001b[01;36m\u001b[K                                      header, sprofileDON, sprofileU12gtagDON, sprofileU12atacDON,sprofileU2gcagDON,sprofileU2gtaDON,sprofileU2gtgDON,sprofileU2gtyDON)\u001b[m\u001b[K;\n",
      "      |                                       \u001b[01;36m\u001b[K~~~~~~~~~~~~~~~~~~~~~~~~~~~~~~~~~~~~~~~~~~~~~~~~~~~~~~~~~~~~~~~~~~~~~~~~~~~~~~~~~~~~~~~~~~~~~~~~~~~~~~~~~~~~~~~~~~~~~~~~~~~~~~~~~\u001b[m\u001b[K\n",
      "\u001b[01m\u001b[K./src/readparam.c:434:114:\u001b[m\u001b[K \u001b[01;35m\u001b[Kwarning: \u001b[m\u001b[K‘\u001b[01m\u001b[K%s\u001b[m\u001b[K’ directive writing up to 599 bytes into a region of size 573 [\u001b[01;35m\u001b[K\u001b]8;;https://gcc.gnu.org/onlinedocs/gcc/Warning-Options.html#index-Wformat-overflow=\u0007-Wformat-overflow=\u001b]8;;\u0007\u001b[m\u001b[K]\n",
      "  434 |                    sprintf(mess,\"Wrong format: profile name \u001b[01;35m\u001b[K%s\u001b[m\u001b[K \\n\\tis not admitted for acceptors [only %s, %s, %s, %s, %s or %s]\",\n",
      "      |                                                             \u001b[01;35m\u001b[K^~\u001b[m\u001b[K\n",
      "\n",
      "  435 |                    \u001b[32m\u001b[Kheader\u001b[m\u001b[K, sprofileACC, sprofilePPT, sprofileBP, sprofileU12BP, sprofileU12gtagACC, sprofileU12atacACC);\n",
      "      |                    \u001b[32m\u001b[K~~~~~~\u001b[m\u001b[K                                    \n",
      "\n",
      "\u001b[01m\u001b[K./src/readparam.c:434:73:\u001b[m\u001b[K \u001b[01;36m\u001b[Knote: \u001b[m\u001b[K‘\u001b[01m\u001b[Ksprintf\u001b[m\u001b[K’ output between 217 and 816 bytes into a destination of size 600\n",
      "  434 |                                                             \u001b[01;36m\u001b[Ksprintf(mess,\"Wrong format: profile name %s \\n\\tis not admitted for acceptors [only %s, %s, %s, %s, %s or %s]\",\u001b[m\u001b[K\n",
      "      |                                                             \u001b[01;36m\u001b[K^~~~~~~~~~~~~~~~~~~~~~~~~~~~~~~~~~~~~~~~~~~~~~~~~~~~~~~~~~~~~~~~~~~~~~~~~~~~~~~~~~~~~~~~~~~~~~~~~~~~~~~~~~~~~~~\u001b[m\u001b[K\n",
      "\n",
      "  435 |     \u001b[01;36m\u001b[K                                                        header, sprofileACC, sprofilePPT, sprofileBP, sprofileU12BP, sprofileU12gtagACC, sprofileU12atacACC)\u001b[m\u001b[K;\n",
      "      |                                                             \u001b[01;36m\u001b[K~~~~~~~~~~~~~~~~~~~~~~~~~~~~~~~~~~~~~~~~~~~~~~~~~~~~~~~~~~~~~~~~~~~~~~~~~~~~~~~~~~~~~~~~~~~~~~~~~~~~\u001b[m\u001b[K\n",
      "\n",
      "\u001b[01m\u001b[K./src/readparam.c:\u001b[m\u001b[K In function ‘\u001b[01m\u001b[KReadIsochore\u001b[m\u001b[K’:\n",
      "\u001b[01m\u001b[K./src/readparam.c:859:47:\u001b[m\u001b[K \u001b[01;35m\u001b[Kwarning: \u001b[m\u001b[K‘\u001b[01m\u001b[K%s\u001b[m\u001b[K’ directive writing up to 999 bytes into a region of size 579 [\u001b[01;35m\u001b[K\u001b]8;;https://gcc.gnu.org/onlinedocs/gcc/Warning-Options.html#index-Wformat-overflow=\u0007-Wformat-overflow=\u001b]8;;\u0007\u001b[m\u001b[K]\n",
      "  859 |           sprintf(mess, \"Wrong format/nunber (\u001b[01;35m\u001b[K%s\u001b[m\u001b[K): Initial Markov value\", \u001b[32m\u001b[Kline\u001b[m\u001b[K);\n",
      "      |                                               \u001b[01;35m\u001b[K^~\u001b[m\u001b[K                          \u001b[32m\u001b[K~~~~\u001b[m\u001b[K\n",
      "\u001b[01m\u001b[K./src/readparam.c:859:11:\u001b[m\u001b[K \u001b[01;36m\u001b[Knote: \u001b[m\u001b[K‘\u001b[01m\u001b[Ksprintf\u001b[m\u001b[K’ output between 45 and 1044 bytes into a destination of size 600\n",
      "  859 |           \u001b[01;36m\u001b[Ksprintf(mess, \"Wrong format/nunber (%s): Initial Markov value\", line)\u001b[m\u001b[K;\n",
      "      |           \u001b[01;36m\u001b[K^~~~~~~~~~~~~~~~~~~~~~~~~~~~~~~~~~~~~~~~~~~~~~~~~~~~~~~~~~~~~~~~~~~~~\u001b[m\u001b[K\n",
      "\u001b[01m\u001b[K./src/readparam.c:880:47:\u001b[m\u001b[K \u001b[01;35m\u001b[Kwarning: \u001b[m\u001b[K‘\u001b[01m\u001b[K%s\u001b[m\u001b[K’ directive writing up to 999 bytes into a region of size 579 [\u001b[01;35m\u001b[K\u001b]8;;https://gcc.gnu.org/onlinedocs/gcc/Warning-Options.html#index-Wformat-overflow=\u0007-Wformat-overflow=\u001b]8;;\u0007\u001b[m\u001b[K]\n",
      "  880 |           sprintf(mess, \"Wrong format/number (\u001b[01;35m\u001b[K%s\u001b[m\u001b[K): Transition Markov value\", \u001b[32m\u001b[Kline\u001b[m\u001b[K);\n",
      "      |                                               \u001b[01;35m\u001b[K^~\u001b[m\u001b[K                             \u001b[32m\u001b[K~~~~\u001b[m\u001b[K\n",
      "\u001b[01m\u001b[K./src/readparam.c:880:11:\u001b[m\u001b[K \u001b[01;36m\u001b[Knote: \u001b[m\u001b[K‘\u001b[01m\u001b[Ksprintf\u001b[m\u001b[K’ output between 48 and 1047 bytes into a destination of size 600\n",
      "  880 |           \u001b[01;36m\u001b[Ksprintf(mess, \"Wrong format/number (%s): Transition Markov value\", line)\u001b[m\u001b[K;\n",
      "      |           \u001b[01;36m\u001b[K^~~~~~~~~~~~~~~~~~~~~~~~~~~~~~~~~~~~~~~~~~~~~~~~~~~~~~~~~~~~~~~~~~~~~~~~\u001b[m\u001b[K\n",
      "gcc -c -I./include -Wall -O3 ./src/readargv.c -o ./objects/readargv.o\n",
      "gcc -I./include -Wall -O3 -o ./bin/geneid ./objects/geneid.o ./objects/BackupGenes.o ./objects/PeakEdgeScore.o ./objects/GetTranscriptTermini-usingslopes.o ./objects/BuildAcceptors.o ./objects/BuildU12Acceptors.o ./objects/BuildDonors.o ./objects/BuildInitialExons.o ./objects/BuildInternalExons.o ./objects/BuildZeroLengthExons.o ./objects/BuildUTRExons.o ./objects/BuildORFs.o ./objects/BuildSingles.o ./objects/BuildSort.o ./objects/BuildTerminalExons.o ./objects/ComputeStopInfo.o ./objects/CookingGenes.o ./objects/CorrectExon.o ./objects/Dictionary.o ./objects/DumpHash.o ./objects/FetchSequence.o ./objects/GetSitesWithProfile.o ./objects/GetStopCodons.o ./objects/Output.o ./objects/PrintExons.o ./objects/PrintSites.o ./objects/ReadExonsGFF.o ./objects/ReadGeneModel.o ./objects/ReadSequence.o ./objects/ReadHSP.o ./objects/RecomputePositions.o ./objects/RequestMemory.o ./objects/ProcessHSPs.o ./objects/ScoreExons.o ./objects/SearchEvidenceExons.o ./objects/SetRatios.o ./objects/SortExons.o ./objects/SortSites.o ./objects/SortHSPs.o ./objects/SwitchFrames.o ./objects/SwitchPositions.o ./objects/Translate.o ./objects/account.o ./objects/beggar.o ./objects/genamic.o ./objects/manager.o ./objects/readparam.o ./objects/readargv.o  -lm\n"
     ]
    }
   ],
   "source": [
    "! cd geneid/ && make"
   ]
  },
  {
   "cell_type": "code",
   "execution_count": 48,
   "id": "ad811f25-8958-431d-af09-1790e743fb82",
   "metadata": {},
   "outputs": [
    {
     "name": "stdout",
     "output_type": "stream",
     "text": [
      "Error: One filename is required (DNA sequence, Fasta format)\n",
      "NAME\n",
      "\tgeneid - a program to annotate genomic sequences\n",
      "SYNOPSIS\n",
      "\tgeneid\t[-bdaefitnxszru]\n",
      "\t\t[-TDAZU]\n",
      "\t\t[-p gene_prefix]\n",
      "\t\t[-G] [-3] [-X] [-M] [-m]\n",
      "\t\t[-WCF] [-o]\n",
      "\t\t[-j lower_bound_coord]\n",
      "\t\t[-k upper_bound_coord]\n",
      "\t\t[-N numer_nt_mapped]\n",
      "\t\t[-O <gff_exons_file>]\n",
      "\t\t[-R <gff_annotation-file>]\n",
      "\t\t[-S <gff_homology_file>]\n",
      "\t\t[-P <parameter_file>]\n",
      "\t\t[-E exonweight]\n",
      "\t\t[-V evidence_exonweight]\n",
      "\t\t[-Bv] [-h]\n",
      "\t\t<locus_seq_in_fasta_format>\n",
      "RELEASE\n",
      "\tgeneid v 1.4\n",
      "\n"
     ]
    }
   ],
   "source": [
    "! ./geneid/bin/geneid"
   ]
  },
  {
   "cell_type": "code",
   "execution_count": 64,
   "id": "b37d78c2-b64b-4ac5-9f2a-ec27587869c8",
   "metadata": {},
   "outputs": [],
   "source": [
    "# create a valiable with geneid executable path\n",
    "# in a real case scenario, add it to your PATH\n",
    "geneid = './geneid/bin/geneid'"
   ]
  },
  {
   "cell_type": "markdown",
   "id": "da221ffe-d73a-4e36-b18d-80eb7355d51c",
   "metadata": {},
   "source": [
    "# Predict genes with geneid"
   ]
  },
  {
   "cell_type": "code",
   "execution_count": 65,
   "id": "4fde9d2b-1b4e-4614-ac4d-4f57958e58e2",
   "metadata": {},
   "outputs": [
    {
     "name": "stdout",
     "output_type": "stream",
     "text": [
      "\n",
      "real\t0m8.297s\n",
      "user\t0m7.575s\n",
      "sys\t0m0.079s\n"
     ]
    }
   ],
   "source": [
    "! time $geneid -3P $geneid_parameters $reference_assembly > ../results/geneid_simple.gff3"
   ]
  },
  {
   "cell_type": "markdown",
   "id": "40a8f0ba-221b-4998-80ef-d8788179e593",
   "metadata": {},
   "source": [
    "#### Check simple stats"
   ]
  },
  {
   "cell_type": "code",
   "execution_count": 66,
   "id": "c26fd605-e9d0-439f-a1e0-682da519a9a7",
   "metadata": {},
   "outputs": [
    {
     "name": "stdout",
     "output_type": "stream",
     "text": [
      "  13296 CDS\n",
      "  13296 exon\n",
      "   2914 gene\n",
      "   2914 mRNA\n"
     ]
    }
   ],
   "source": [
    "! grep -v '#' ../results/geneid_simple.gff3 | cut -f 3 | sort | uniq -c "
   ]
  },
  {
   "cell_type": "code",
   "execution_count": 67,
   "id": "1808457e-15f0-481c-8c0a-eb5ccd870bc5",
   "metadata": {},
   "outputs": [
    {
     "name": "stdout",
     "output_type": "stream",
     "text": [
      "Usage: ../scripts/extract_features.sh <gff_file> <fasta_file/genome_size_in_bp>\n"
     ]
    }
   ],
   "source": [
    "! bash ../scripts/extract_features.sh "
   ]
  },
  {
   "cell_type": "code",
   "execution_count": 68,
   "id": "f7297b8a-cd63-4696-9018-6fae4b59d296",
   "metadata": {},
   "outputs": [
    {
     "name": "stdout",
     "output_type": "stream",
     "text": [
      "Feature\tFeatures_Count\tTotal_Feature_Length\tAverage_Feature_Length\tGenome_Percentage\n",
      "mRNA\t2914\t7203206\t2471.93\t69.98\n",
      "exon\t13296\t3463047\t260.46\t33.65\n",
      "CDS\t13296\t3463047\t260.46\t33.65\n",
      "gene\t2914\t7203206\t2471.93\t69.98\n"
     ]
    }
   ],
   "source": [
    "! bash ../scripts/extract_features.sh ../results/geneid_simple.gff3 $reference_assembly"
   ]
  },
  {
   "cell_type": "code",
   "execution_count": 69,
   "id": "18f5c010-1b32-4193-a061-670531b58e15",
   "metadata": {},
   "outputs": [
    {
     "data": {
      "text/plain": [
       "4.562800274536719"
      ]
     },
     "execution_count": 69,
     "metadata": {},
     "output_type": "execute_result"
    }
   ],
   "source": [
    "13296/2914"
   ]
  },
  {
   "cell_type": "markdown",
   "id": "af1cdcc2-00c1-45f5-853e-a3376a1dbd0b",
   "metadata": {},
   "source": [
    "# Build Transcitps models with IsoQuant"
   ]
  },
  {
   "cell_type": "code",
   "execution_count": null,
   "id": "f5e463f7-8cdd-42b8-9e99-1e709e60081b",
   "metadata": {},
   "outputs": [],
   "source": []
  },
  {
   "cell_type": "markdown",
   "id": "72525eb6-68bb-4c45-8f34-e1b607e337fa",
   "metadata": {},
   "source": [
    "#### The Isoquant Output"
   ]
  },
  {
   "cell_type": "code",
   "execution_count": null,
   "id": "07a8042d-6e6f-4a2d-9a62-fbbaa4c8b7bd",
   "metadata": {},
   "outputs": [],
   "source": []
  },
  {
   "cell_type": "markdown",
   "id": "f5f4ecb4-089c-42a7-9976-4ff6bd5692b0",
   "metadata": {},
   "source": [
    "#### Check simple stats"
   ]
  },
  {
   "cell_type": "code",
   "execution_count": 6,
   "id": "eb07f7d3-7612-46fb-b185-0069d80a4313",
   "metadata": {},
   "outputs": [
    {
     "name": "stdout",
     "output_type": "stream",
     "text": [
      "5718 exon\n",
      " 797 gene\n",
      "1349 transcript\n"
     ]
    }
   ],
   "source": [
    "! grep -v '#' $isoquant_models  | cut -f 3 | sort | uniq -c "
   ]
  },
  {
   "cell_type": "code",
   "execution_count": 10,
   "id": "7c91a2ac-7d05-4c4e-9fb3-62dc644a3546",
   "metadata": {},
   "outputs": [
    {
     "name": "stdout",
     "output_type": "stream",
     "text": [
      "Feature\tFeatures_Count\tTotal_Feature_Length\tAverage_Feature_Length\tGenome_Percentage\n",
      "exon\t5718\t1185519\t207.33\t11.52\n",
      "transcript\t1349\t5689555\t4217.61\t55.28\n",
      "gene\t797\t3950119\t4956.23\t38.38\n"
     ]
    }
   ],
   "source": [
    "! bash ../scripts/extract_features.sh $isoquant_models $reference_assembly"
   ]
  },
  {
   "cell_type": "markdown",
   "id": "05338fec-9c0c-4484-a8b2-d440ad620303",
   "metadata": {},
   "source": [
    "# Inform geneid with IsoQuant models "
   ]
  },
  {
   "cell_type": "markdown",
   "id": "e68fc388-1227-4b1e-a6e6-05e539d566a6",
   "metadata": {},
   "source": [
    "### Prepare models"
   ]
  },
  {
   "cell_type": "markdown",
   "id": "ee1eb29f-0eca-45c5-aabf-3385469dc7f6",
   "metadata": {},
   "source": [
    "#### Get longest transcript (check --no_check)"
   ]
  },
  {
   "cell_type": "code",
   "execution_count": 33,
   "id": "823efca9-f2be-4e7a-bc66-e7371309789f",
   "metadata": {},
   "outputs": [
    {
     "name": "stdout",
     "output_type": "stream",
     "text": [
      "docker: Error response from daemon: invalid volume specification: '/host_mnt/Users/fzanarello/work/projects/summer_school/practicals/day2/fabio/notebook:~': invalid mount config for type \"bind\": invalid mount path: '~' mount path must be absolute.\n",
      "See 'docker run --help'.\n"
     ]
    }
   ],
   "source": [
    "! agat_sp_keep_longest_isoform.pl --gff ../data/NC_059190.1_isquant_models.gff -o ../intermediate/isoquant_longest.gff"
   ]
  },
  {
   "cell_type": "code",
   "execution_count": 11,
   "id": "29db424c-cc7b-47c7-bbeb-32dac616ced7",
   "metadata": {},
   "outputs": [
    {
     "name": "stdout",
     "output_type": "stream",
     "text": [
      "Feature\tFeatures_Count\tTotal_Feature_Length\tAverage_Feature_Length\tGenome_Percentage\n",
      "exon\t3546\t783245\t220.88\t7.61\n",
      "gene\t797\t3950119\t4956.23\t38.38\n",
      "transcript\t797\t3294312\t4133.39\t32.01\n"
     ]
    }
   ],
   "source": [
    "! bash ../scripts/extract_features.sh ../intermediate/isoquant_longest.gff ../data/NC_059190.1_ref.fna"
   ]
  },
  {
   "cell_type": "markdown",
   "id": "87338bc2-11bc-41b5-b406-a3cf4a0ffb75",
   "metadata": {},
   "source": [
    "#### Get exons"
   ]
  },
  {
   "cell_type": "code",
   "execution_count": 13,
   "id": "097ffda7-bd5a-4c09-b9ef-c6fc9c61c9e3",
   "metadata": {},
   "outputs": [],
   "source": [
    "! awk '$3 == \"exon\"' ../intermediate/isoquant_longest.gff > ../intermediate/isoquant_exons.gff"
   ]
  },
  {
   "cell_type": "code",
   "execution_count": 14,
   "id": "ce1d54e1-42f8-45b8-8a7a-1a926b90a94f",
   "metadata": {},
   "outputs": [],
   "source": [
    "! gawk 'BEGIN { FS=OFS=\"\\t\" } /^#/ { print; next } { match($9, /transcript_id=([^;]+)/, a); $9 = a[1]; print }' ../intermediate/isoquant_exons.gff > ../intermediate/isoquant_exons_geneid.gff "
   ]
  },
  {
   "cell_type": "code",
   "execution_count": 15,
   "id": "5cb0781a-7203-454d-a378-dbfe6f6a89fd",
   "metadata": {},
   "outputs": [
    {
     "name": "stdout",
     "output_type": "stream",
     "text": [
      "Feature\tFeatures_Count\tTotal_Feature_Length\tAverage_Feature_Length\tGenome_Percentage\n",
      "exon\t3546\t783245\t220.88\t7.61\n"
     ]
    }
   ],
   "source": [
    "! bash ../scripts/extract_features.sh ../intermediate/isoquant_exons_geneid.gff  ../data/NC_059190.1_ref.fna"
   ]
  },
  {
   "cell_type": "markdown",
   "id": "6d7cda38-2388-4949-a276-2cbea708b75c",
   "metadata": {},
   "source": [
    "#### Label with geneid categories"
   ]
  },
  {
   "cell_type": "code",
   "execution_count": 64,
   "id": "6f507c9d-ad6a-4eda-a28f-b0ee6fb35202",
   "metadata": {},
   "outputs": [],
   "source": [
    "from collections import defaultdict\n",
    "import csv\n",
    "\n",
    "# Input/output files\n",
    "input_file = \"../intermediate/isoquant_exons_geneid.gff\"\n",
    "output_file = \"../intermediate/isoquant_exons_geneid_class.gff\"\n",
    "\n",
    "# Group exons by transcript\n",
    "transcript_exons = defaultdict(list)\n",
    "\n",
    "with open(input_file) as f:\n",
    "    for line in f:\n",
    "        if line.startswith(\"#\") or not line.strip():\n",
    "            continue\n",
    "        parts = line.strip().split('\\t')\n",
    "        transcript_id = parts[8].strip()  # Assuming 9th column is just the transcript name\n",
    "        transcript_exons[transcript_id].append(parts)\n",
    "\n",
    "# Process and label exons\n",
    "with open(output_file, 'w', newline='') as out:\n",
    "    writer = csv.writer(out, delimiter='\\t', quoting=csv.QUOTE_NONE, escapechar='\\\\')\n",
    "\n",
    "    for transcript, exons in transcript_exons.items():\n",
    "\n",
    "        strand = exons[0][6]\n",
    "        \n",
    "        for i, exon in enumerate(exons):\n",
    "            if i == 0 :\n",
    "                if strand == '+':\n",
    "                    exon[2] = \"First\"\n",
    "                else:\n",
    "                    exon[2] = \"Terminal\"                 \n",
    "            elif i == len(exons) - 1:\n",
    "                if strand == '+':\n",
    "                    exon[2] = \"Terminal\"\n",
    "                else:\n",
    "                    exon[2] = \"First\"\n",
    "            else:\n",
    "                exon[2] = \"Internal\"\n",
    "            writer.writerow(exon)"
   ]
  },
  {
   "cell_type": "code",
   "execution_count": 71,
   "id": "f4ccdb94-b9f1-440d-87a0-80c0a0bd0234",
   "metadata": {},
   "outputs": [],
   "source": [
    "! grep '+' ../intermediate/isoquant_exons_geneid_class.gff > ../intermediate/isoquant_exons_geneid_class_FW.gff"
   ]
  },
  {
   "cell_type": "code",
   "execution_count": 72,
   "id": "c869dc18-6341-4ba1-a5ee-104e0c77b0c4",
   "metadata": {},
   "outputs": [],
   "source": [
    "! grep '' ../intermediate/isoquant_exons_geneid_class.gff > ../intermediate/isoquant_exons_geneid_class_RW.gff"
   ]
  },
  {
   "cell_type": "markdown",
   "id": "ed1cf505-2737-41f0-b6af-46a0336b29eb",
   "metadata": {},
   "source": [
    "### Predict with geneid and -R parameter"
   ]
  },
  {
   "cell_type": "code",
   "execution_count": 73,
   "id": "2c4682d0-6eb8-4004-9cde-d8bb0d34ec71",
   "metadata": {},
   "outputs": [
    {
     "name": "stdout",
     "output_type": "stream",
     "text": [
      "Error: Order violation: annotations (starting position 149468):\n",
      "-->NC_059190.1\tIsoQuant\tFirst\t148639\t148954\t.\t+\t.\ttranscript8984.NC_059190.1.nnic\n",
      "\n",
      "\n",
      "geneid -3P ../data/Daphnia_magna.param -R  ../data/NC_059190.1_ref.fna >   0.06s user 0.08s system 91% cpu 0.155 total\n"
     ]
    }
   ],
   "source": [
    "! time geneid -3P $geneid_parameters -R ../intermediate/isoquant_exons_geneid_class_FW.gff $reference_assembly > ../results/geneid_fw.gff3"
   ]
  },
  {
   "cell_type": "markdown",
   "id": "1f86f6c0-d18f-45a7-a093-91870098bc67",
   "metadata": {},
   "source": [
    "#### Check simple stats"
   ]
  },
  {
   "cell_type": "markdown",
   "id": "57e72d0d-da89-435b-9b5a-a7136b469d1f",
   "metadata": {},
   "source": [
    "# Run full comparison with compann-nf"
   ]
  },
  {
   "cell_type": "markdown",
   "id": "c76e3dac-9fa4-4247-ab7b-a0bfd53a0aa6",
   "metadata": {},
   "source": [
    "### Get reference annotation"
   ]
  },
  {
   "cell_type": "markdown",
   "id": "7c5d7073-fb13-4ce4-8468-44048ef2c5dd",
   "metadata": {},
   "source": [
    "#### Get info about the taxon"
   ]
  },
  {
   "cell_type": "markdown",
   "id": "c00420f7-d171-42b9-9c85-8767c11962d0",
   "metadata": {},
   "source": [
    "#### Get annotation for the species of iterest"
   ]
  },
  {
   "cell_type": "markdown",
   "id": "1c36355f-212c-4136-8ae9-5995dca4002c",
   "metadata": {},
   "source": [
    "#### Prepare input"
   ]
  },
  {
   "cell_type": "markdown",
   "id": "9cf3b466-e820-492a-a31e-c202a602e2ca",
   "metadata": {},
   "source": [
    "### Run Pipeline"
   ]
  },
  {
   "cell_type": "markdown",
   "id": "e9bee4c1-04ee-4b9a-afcc-20ac42082da3",
   "metadata": {},
   "source": [
    "### Inspect results"
   ]
  },
  {
   "cell_type": "code",
   "execution_count": null,
   "id": "9fd93526-022e-4a45-a7b9-89028957e1b0",
   "metadata": {},
   "outputs": [],
   "source": []
  }
 ],
 "metadata": {
  "kernelspec": {
   "display_name": "annotation",
   "language": "python",
   "name": "annotation"
  },
  "language_info": {
   "codemirror_mode": {
    "name": "ipython",
    "version": 3
   },
   "file_extension": ".py",
   "mimetype": "text/x-python",
   "name": "python",
   "nbconvert_exporter": "python",
   "pygments_lexer": "ipython3",
   "version": "3.13.3"
  }
 },
 "nbformat": 4,
 "nbformat_minor": 5
}
