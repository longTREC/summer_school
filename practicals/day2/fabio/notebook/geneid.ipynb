{
 "cells": [
  {
   "cell_type": "markdown",
   "id": "0445009c-8d62-4215-bbb9-a2aa0abfb7d8",
   "metadata": {},
   "source": [
    "# Data"
   ]
  },
  {
   "cell_type": "code",
   "execution_count": 80,
   "id": "acb93230-e2bf-4e8c-956f-9acd39858e14",
   "metadata": {},
   "outputs": [],
   "source": [
    "reference_assembly = '../data/NC_059190.1_ref.fna'\n",
    "reference_annotaton = '../data/NC_059190.1_RefSeq.gff' \n",
    "# nanopore_reads \n",
    "geneid_parameters = \"../data/Daphnia_magna.param\"\n",
    "isoquant_models = \"../data/NC_059190.1_isquant_models.gff\""
   ]
  },
  {
   "cell_type": "markdown",
   "id": "98999b2b-9cc0-4012-93ac-b637c92b31dc",
   "metadata": {},
   "source": [
    "# Get geneid"
   ]
  },
  {
   "cell_type": "code",
   "execution_count": 83,
   "id": "4e4dc2d4-2028-4441-85f1-628635e7ca64",
   "metadata": {
    "collapsed": true,
    "jupyter": {
     "outputs_hidden": true
    }
   },
   "outputs": [
    {
     "name": "stdout",
     "output_type": "stream",
     "text": [
      "--2025-05-15 19:43:41--  https://github.com/guigolab/geneid/archive/refs/heads/master.zip\n",
      "Resolving github.com (github.com)... 140.82.121.3\n",
      "Connecting to github.com (github.com)|140.82.121.3|:443... connected.\n",
      "HTTP request sent, awaiting response... 302 Found\n",
      "Location: https://codeload.github.com/guigolab/geneid/zip/refs/heads/master [following]\n",
      "--2025-05-15 19:43:42--  https://codeload.github.com/guigolab/geneid/zip/refs/heads/master\n",
      "Resolving codeload.github.com (codeload.github.com)... 140.82.121.9\n",
      "Connecting to codeload.github.com (codeload.github.com)|140.82.121.9|:443... connected.\n",
      "HTTP request sent, awaiting response... 200 OK\n",
      "Length: unspecified [application/zip]\n",
      "Saving to: ‘master.zip’\n",
      "\n",
      "master.zip              [         <=>        ]  15.92M  7.90MB/s    in 2.0s    \n",
      "\n",
      "2025-05-15 19:43:44 (7.90 MB/s) - ‘master.zip’ saved [16696283]\n",
      "\n"
     ]
    }
   ],
   "source": [
    "! wget https://github.com/guigolab/geneid/archive/refs/heads/master.zip"
   ]
  },
  {
   "cell_type": "code",
   "execution_count": 84,
   "id": "df3daa1d-3c5e-4f4e-9e29-b86736b8f8dd",
   "metadata": {
    "collapsed": true,
    "jupyter": {
     "outputs_hidden": true
    },
    "scrolled": true
   },
   "outputs": [
    {
     "name": "stdout",
     "output_type": "stream",
     "text": [
      "Archive:  master.zip\n",
      "5e01c2a3da3da15795f13fb34b0571b217c6f7ed\n",
      "   creating: /Users/fzanarello/work/projects/summer_school/practicals/day2/fabio/notebook/geneid-master\n",
      "  inflating: geneid-master/.gitignore  \n",
      "  inflating: geneid-master/GNU_PL    \n",
      "  inflating: geneid-master/Makefile  \n",
      "  inflating: geneid-master/README.md  \n",
      "  inflating: geneid-master/README.software_geneid  \n",
      "   creating: /Users/fzanarello/work/projects/summer_school/practicals/day2/fabio/notebook/geneid-master/bin\n",
      "  inflating: geneid-master/bin/geneid  \n",
      "   creating: /Users/fzanarello/work/projects/summer_school/practicals/day2/fabio/notebook/geneid-master/docker\n",
      "  inflating: geneid-master/docker/Dockerfile  \n",
      "   creating: /Users/fzanarello/work/projects/summer_school/practicals/day2/fabio/notebook/geneid-master/docs\n",
      "   creating: /Users/fzanarello/work/projects/summer_school/practicals/day2/fabio/notebook/geneid-master/docs/chapter1\n",
      "  inflating: geneid-master/docs/chapter1/index.html  \n",
      "   creating: /Users/fzanarello/work/projects/summer_school/practicals/day2/fabio/notebook/geneid-master/docs/chapter10\n",
      "  inflating: geneid-master/docs/chapter10/index.html  \n",
      "   creating: /Users/fzanarello/work/projects/summer_school/practicals/day2/fabio/notebook/geneid-master/docs/chapter2\n",
      "  inflating: geneid-master/docs/chapter2/index.html  \n",
      "   creating: /Users/fzanarello/work/projects/summer_school/practicals/day2/fabio/notebook/geneid-master/docs/chapter3\n",
      "  inflating: geneid-master/docs/chapter3/index.html  \n",
      "   creating: /Users/fzanarello/work/projects/summer_school/practicals/day2/fabio/notebook/geneid-master/docs/chapter4\n",
      "   creating: /Users/fzanarello/work/projects/summer_school/practicals/day2/fabio/notebook/geneid-master/docs/chapter4/formats_html\n",
      "  inflating: geneid-master/docs/chapter4/formats_html/extended.html  \n",
      "  inflating: geneid-master/docs/chapter4/formats_html/geneid.html  \n",
      "  inflating: geneid-master/docs/chapter4/formats_html/gff.html  \n",
      "  inflating: geneid-master/docs/chapter4/formats_html/xml.html  \n",
      "  inflating: geneid-master/docs/chapter4/index.html  \n",
      "   creating: /Users/fzanarello/work/projects/summer_school/practicals/day2/fabio/notebook/geneid-master/docs/chapter4/samples_html\n",
      "  inflating: geneid-master/docs/chapter4/samples_html/acceptors.html  \n",
      "  inflating: geneid-master/docs/chapter4/samples_html/evidences.html  \n",
      "  inflating: geneid-master/docs/chapter4/samples_html/exons.html  \n",
      "  inflating: geneid-master/docs/chapter4/samples_html/genes.html  \n",
      "  inflating: geneid-master/docs/chapter4/samples_html/sr.html  \n",
      "   creating: /Users/fzanarello/work/projects/summer_school/practicals/day2/fabio/notebook/geneid-master/docs/chapter4/sequence\n",
      "  inflating: geneid-master/docs/chapter4/sequence/5seqs.fa  \n",
      "  inflating: geneid-master/docs/chapter4/sequence/test.fa  \n",
      "  inflating: geneid-master/docs/chapter4/sequence/tmp.evi  \n",
      "  inflating: geneid-master/docs/chapter4/sequence/tmp.hsp  \n",
      "   creating: /Users/fzanarello/work/projects/summer_school/practicals/day2/fabio/notebook/geneid-master/docs/chapter5\n",
      "  inflating: geneid-master/docs/chapter5/index.html  \n",
      "   creating: /Users/fzanarello/work/projects/summer_school/practicals/day2/fabio/notebook/geneid-master/docs/chapter6\n",
      "  inflating: geneid-master/docs/chapter6/index.html  \n",
      "   creating: /Users/fzanarello/work/projects/summer_school/practicals/day2/fabio/notebook/geneid-master/docs/chapter7\n",
      "  inflating: geneid-master/docs/chapter7/index.html  \n",
      "   creating: /Users/fzanarello/work/projects/summer_school/practicals/day2/fabio/notebook/geneid-master/docs/chapter8\n",
      "  inflating: geneid-master/docs/chapter8/index.html  \n",
      "   creating: /Users/fzanarello/work/projects/summer_school/practicals/day2/fabio/notebook/geneid-master/docs/chapter9\n",
      "   creating: /Users/fzanarello/work/projects/summer_school/practicals/day2/fabio/notebook/geneid-master/docs/chapter9/code_html\n",
      "  inflating: geneid-master/docs/chapter9/code_html/BackupGenes.html  \n",
      "  inflating: geneid-master/docs/chapter9/code_html/BuildAcceptors.html  \n",
      "  inflating: geneid-master/docs/chapter9/code_html/BuildInitialExons.html  \n",
      "  inflating: geneid-master/docs/chapter9/code_html/BuildInternalExons.html  \n",
      "  inflating: geneid-master/docs/chapter9/code_html/BuildORFs.html  \n",
      "  inflating: geneid-master/docs/chapter9/code_html/BuildSingles.html  \n",
      "  inflating: geneid-master/docs/chapter9/code_html/BuildSort.html  \n",
      "  inflating: geneid-master/docs/chapter9/code_html/BuildTerminalExons.html  \n",
      "  inflating: geneid-master/docs/chapter9/code_html/ComputeStopInfo.html  \n",
      "  inflating: geneid-master/docs/chapter9/code_html/CookingGenes.html  \n",
      "  inflating: geneid-master/docs/chapter9/code_html/CorrectExon.html  \n",
      "  inflating: geneid-master/docs/chapter9/code_html/Dictionary.html  \n",
      "  inflating: geneid-master/docs/chapter9/code_html/DumpHash.html  \n",
      "  inflating: geneid-master/docs/chapter9/code_html/FetchSequence.html  \n",
      "  inflating: geneid-master/docs/chapter9/code_html/GetSitesWithProfile.html  \n",
      "  inflating: geneid-master/docs/chapter9/code_html/GetStopCodons.html  \n",
      "  inflating: geneid-master/docs/chapter9/code_html/Output.html  \n",
      "  inflating: geneid-master/docs/chapter9/code_html/PrintExons.html  \n",
      "  inflating: geneid-master/docs/chapter9/code_html/PrintSites.html  \n",
      "  inflating: geneid-master/docs/chapter9/code_html/ReadExonsGFF.html  \n",
      "  inflating: geneid-master/docs/chapter9/code_html/ReadGeneModel.html  \n",
      "  inflating: geneid-master/docs/chapter9/code_html/ReadHSP.html  \n",
      "  inflating: geneid-master/docs/chapter9/code_html/ReadSR.html  \n",
      "  inflating: geneid-master/docs/chapter9/code_html/ReadSequence.html  \n",
      "  inflating: geneid-master/docs/chapter9/code_html/RecomputePositions.html  \n",
      "  inflating: geneid-master/docs/chapter9/code_html/RequestMemory.html  \n",
      "  inflating: geneid-master/docs/chapter9/code_html/ScoreExons.html  \n",
      "  inflating: geneid-master/docs/chapter9/code_html/SearchEvidenceExons.html  \n",
      "  inflating: geneid-master/docs/chapter9/code_html/SetRatios.html  \n",
      "  inflating: geneid-master/docs/chapter9/code_html/SortExons.html  \n",
      "  inflating: geneid-master/docs/chapter9/code_html/SortHSPs.html  \n",
      "  inflating: geneid-master/docs/chapter9/code_html/SwitchFrames.html  \n",
      "  inflating: geneid-master/docs/chapter9/code_html/SwitchPositions.html  \n",
      "  inflating: geneid-master/docs/chapter9/code_html/Translate.html  \n",
      "  inflating: geneid-master/docs/chapter9/code_html/account.html  \n",
      "  inflating: geneid-master/docs/chapter9/code_html/beggar.html  \n",
      "  inflating: geneid-master/docs/chapter9/code_html/genamic.html  \n",
      "  inflating: geneid-master/docs/chapter9/code_html/geneid.h.html  \n",
      "  inflating: geneid-master/docs/chapter9/code_html/geneid.html  \n",
      "  inflating: geneid-master/docs/chapter9/code_html/manager.html  \n",
      "  inflating: geneid-master/docs/chapter9/code_html/readargv.html  \n",
      "  inflating: geneid-master/docs/chapter9/code_html/readparam.html  \n",
      "   creating: /Users/fzanarello/work/projects/summer_school/practicals/day2/fabio/notebook/geneid-master/docs/chapter9/images\n",
      "  inflating: geneid-master/docs/chapter9/images/V_orange.gif  \n",
      "  inflating: geneid-master/docs/chapter9/images/V_silver.gif  \n",
      "  inflating: geneid-master/docs/chapter9/index.html  \n",
      "   creating: /Users/fzanarello/work/projects/summer_school/practicals/day2/fabio/notebook/geneid-master/docs/images\n",
      "  inflating: geneid-master/docs/images/SR.jpg  \n",
      "  inflating: geneid-master/docs/images/geneid.jpg  \n",
      "  inflating: geneid-master/docs/index.html  \n",
      "   creating: /Users/fzanarello/work/projects/summer_school/practicals/day2/fabio/notebook/geneid-master/include\n",
      "  inflating: geneid-master/include/geneid.h  \n",
      "   creating: /Users/fzanarello/work/projects/summer_school/practicals/day2/fabio/notebook/geneid-master/param\n",
      "  inflating: geneid-master/param/dictyostelium.param  \n",
      "  inflating: geneid-master/param/dros.param  \n",
      "  inflating: geneid-master/param/drosophila.U12.070102.param  \n",
      "  inflating: geneid-master/param/human.061209.param  \n",
      "  inflating: geneid-master/param/human.070606.u2branch.ppt.param  \n",
      "  inflating: geneid-master/param/human.101007.scoring.param  \n",
      "  inflating: geneid-master/param/human.rnaseq.param  \n",
      "  inflating: geneid-master/param/human1iso.param  \n",
      "  inflating: geneid-master/param/human3iso.param  \n",
      "  inflating: geneid-master/param/human3isoU12.param  \n",
      "  inflating: geneid-master/param/plasmodium.param  \n",
      "  inflating: geneid-master/param/tetraodon.param  \n",
      "  inflating: geneid-master/param/wheat.param  \n",
      "   creating: /Users/fzanarello/work/projects/summer_school/practicals/day2/fabio/notebook/geneid-master/samples\n",
      " extracting: geneid-master/samples/ENCFF001.1.MORC.bam  \n",
      "  inflating: geneid-master/samples/ENCFF001.1.MORC.introns.gff  \n",
      "  inflating: geneid-master/samples/ENCFF001.1.MORC.stranded.expression.shuffled.gff  \n",
      "  inflating: geneid-master/samples/GRCh38.chr21.fa.gz  \n",
      "  inflating: geneid-master/samples/MORC.annotation.CDS.gff3  \n",
      "  inflating: geneid-master/samples/example1.fa  \n",
      " extracting: geneid-master/samples/example1.fa.fai  \n",
      "  inflating: geneid-master/samples/example2.evidences.gff  \n",
      "  inflating: geneid-master/samples/example2.fa  \n",
      "  inflating: geneid-master/samples/example3.EST1.gff  \n",
      "  inflating: geneid-master/samples/example3.EST2.gff  \n",
      "  inflating: geneid-master/samples/example3.EST3.gff  \n",
      "  inflating: geneid-master/samples/example3.fa  \n",
      " extracting: geneid-master/samples/example3.promoter.gff  \n",
      "  inflating: geneid-master/samples/hg38.genome  \n",
      "   creating: /Users/fzanarello/work/projects/summer_school/practicals/day2/fabio/notebook/geneid-master/scripts\n",
      "   creating: /Users/fzanarello/work/projects/summer_school/practicals/day2/fabio/notebook/geneid-master/scripts/Geneid\n",
      "  inflating: geneid-master/scripts/Geneid/GeneModel.pm  \n",
      "  inflating: geneid-master/scripts/Geneid/Isocore.bak.pm  \n",
      "  inflating: geneid-master/scripts/Geneid/Isocore.pm  \n",
      "  inflating: geneid-master/scripts/Geneid/Param.pm  \n",
      "  inflating: geneid-master/scripts/SeqOp.pm  \n",
      "  inflating: geneid-master/scripts/bed12toAnnotation.awk  \n",
      "  inflating: geneid-master/scripts/classifyIntrons.pl  \n",
      "  inflating: geneid-master/scripts/convertParam2U12.pl  \n",
      "  inflating: geneid-master/scripts/dirRNAseq2geneid.sh  \n",
      "   creating: /Users/fzanarello/work/projects/summer_school/practicals/day2/fabio/notebook/geneid-master/src\n",
      "  inflating: geneid-master/src/BackupGenes.c  \n",
      "  inflating: geneid-master/src/BuildAcceptors.c  \n",
      "  inflating: geneid-master/src/BuildDonors.c  \n",
      "  inflating: geneid-master/src/BuildInitialExons.c  \n",
      "  inflating: geneid-master/src/BuildInternalExons.c  \n",
      "  inflating: geneid-master/src/BuildORFs.c  \n",
      "  inflating: geneid-master/src/BuildSingles.c  \n",
      "  inflating: geneid-master/src/BuildSort.c  \n",
      "  inflating: geneid-master/src/BuildTerminalExons.c  \n",
      "  inflating: geneid-master/src/BuildU12Acceptors.c  \n",
      "  inflating: geneid-master/src/BuildUTRExons.c  \n",
      "  inflating: geneid-master/src/BuildZeroLengthExons.c  \n",
      "  inflating: geneid-master/src/ComputeStopInfo.c  \n",
      "  inflating: geneid-master/src/CookingGenes.c  \n",
      "  inflating: geneid-master/src/CorrectExon.c  \n",
      "  inflating: geneid-master/src/Dictionary.c  \n",
      "  inflating: geneid-master/src/DumpHash.c  \n",
      "  inflating: geneid-master/src/FetchSequence.c  \n",
      "  inflating: geneid-master/src/GetSitesWithProfile.c  \n",
      "  inflating: geneid-master/src/GetStopCodons.c  \n",
      "  inflating: geneid-master/src/GetTranscriptTermini-usingslopes.c  \n",
      "  inflating: geneid-master/src/GetTranscriptTermini.c  \n",
      "  inflating: geneid-master/src/Output.c  \n",
      "  inflating: geneid-master/src/PeakEdgeScore.c  \n",
      "  inflating: geneid-master/src/PrintExons.c  \n",
      "  inflating: geneid-master/src/PrintSites.c  \n",
      "  inflating: geneid-master/src/ProcessHSPs.c  \n",
      "  inflating: geneid-master/src/ReadExonsGFF.c  \n",
      "  inflating: geneid-master/src/ReadGeneModel.c  \n",
      "  inflating: geneid-master/src/ReadHSP.c  \n",
      "  inflating: geneid-master/src/ReadSequence.c  \n",
      "  inflating: geneid-master/src/RecomputePositions.c  \n",
      "  inflating: geneid-master/src/RequestMemory.c  \n",
      "  inflating: geneid-master/src/ScoreExons.c  \n",
      "  inflating: geneid-master/src/SearchEvidenceExons.c  \n",
      "  inflating: geneid-master/src/SetRatios.c  \n",
      "  inflating: geneid-master/src/SortExons.c  \n",
      "  inflating: geneid-master/src/SortHSPs.c  \n",
      "  inflating: geneid-master/src/SortSites.c  \n",
      "  inflating: geneid-master/src/SwitchFrames.c  \n",
      "  inflating: geneid-master/src/SwitchPositions.c  \n",
      "  inflating: geneid-master/src/Translate.c  \n",
      "  inflating: geneid-master/src/account.c  \n",
      "  inflating: geneid-master/src/beggar.c  \n",
      "  inflating: geneid-master/src/genamic.c  \n",
      "  inflating: geneid-master/src/geneid.c  \n",
      "  inflating: geneid-master/src/manager.c  \n",
      "  inflating: geneid-master/src/readargv.c  \n",
      "  inflating: geneid-master/src/readparam.c  \n"
     ]
    }
   ],
   "source": [
    "! unzip master.zip"
   ]
  },
  {
   "cell_type": "code",
   "execution_count": 85,
   "id": "8b591c2b-3738-4379-a5d9-ad71ba99d022",
   "metadata": {
    "collapsed": true,
    "jupyter": {
     "outputs_hidden": true
    }
   },
   "outputs": [
    {
     "name": "stdout",
     "output_type": "stream",
     "text": [
      "mkdir ./objects; \n",
      "gcc -c -I./include -Wall -O3 ./src/geneid.c -o ./objects/geneid.o \n",
      "gcc -c -I./include -Wall -O3 ./src/BackupGenes.c -o ./objects/BackupGenes.o\n",
      "\u001b[1m./src/BackupGenes.c:109:18: \u001b[0m\u001b[0;1;35mwarning: \u001b[0m\u001b[1mequality comparison\n",
      "      with extraneous parentheses [-Wparentheses-equality]\u001b[0m\n",
      "  109 |   \u001b[0;34mif\u001b[0m ((E->Strand == \u001b[0;32m'*'\u001b[0m)) \u001b[0;33m/* ||(E->Strand != '+')||(E->Strand != '-')) */\u001b[0m\n",
      "      | \u001b[0;1;32m       ~~~~~~~~~~^~~~~~\n",
      "\u001b[0m\u001b[1m./src/BackupGenes.c:109:18: \u001b[0m\u001b[0;1;36mnote: \u001b[0mremove extraneous\n",
      "      parentheses around the comparison to silence this warning\u001b[0m\n",
      "  109 |   \u001b[0;34mif\u001b[0m ((E->Strand == \u001b[0;32m'*'\u001b[0m)) \u001b[0;33m/* ||(E->Strand != '+')||(E->Strand != '-')) */\u001b[0m\n",
      "      | \u001b[0;1;32m      ~          ^     ~\n",
      "\u001b[0m\u001b[1m./src/BackupGenes.c:109:18: \u001b[0m\u001b[0;1;36mnote: \u001b[0muse '=' to turn this\n",
      "      equality comparison into an assignment\u001b[0m\n",
      "  109 |   \u001b[0;34mif\u001b[0m ((E->Strand == \u001b[0;32m'*'\u001b[0m)) \u001b[0;33m/* ||(E->Strand != '+')||(E->Strand != '-')) */\u001b[0m\n",
      "      | \u001b[0;1;32m                 ^~\n",
      "\u001b[0m      | \u001b[0;32m                 =\n",
      "\u001b[0m1 warning generated.\n",
      "gcc -c -I./include -Wall -O3 ./src/PeakEdgeScore.c -o ./objects/PeakEdgeScore.o\n",
      "gcc -c -I./include -Wall -O3 ./src/GetTranscriptTermini-usingslopes.c -o ./objects/GetTranscriptTermini-usingslopes.o\n",
      "gcc -c -I./include -Wall -O3 ./src/BuildAcceptors.c -o ./objects/BuildAcceptors.o\n",
      "\u001b[1m./src/BuildAcceptors.c:76:53: \u001b[0m\u001b[0;1;35mwarning: \u001b[0m\u001b[1mabsolute value\n",
      "      function 'abs' given an argument of type 'long' but has parameter of type\n",
      "      'int' which may cause truncation of value [-Wabsolute-value]\u001b[0m\n",
      "   76 |       score = score - p->penalty_factor * (((\u001b[0;34mfloat\u001b[0m)(abs(i + p->offset -O...\u001b[0m\n",
      "      | \u001b[0;1;32m                                                    ^\n",
      "\u001b[0m\u001b[1m./src/BuildAcceptors.c:76:53: \u001b[0m\u001b[0;1;36mnote: \u001b[0muse function 'labs'\n",
      "      instead\u001b[0m\n",
      "   76 |       score = score - p->penalty_factor * (((\u001b[0;34mfloat\u001b[0m)(abs(i + p->offset -O...\u001b[0m\n",
      "      | \u001b[0;1;32m                                                    ^~~\n",
      "\u001b[0m      | \u001b[0;32m                                                    labs\n",
      "\u001b[0m\u001b[1m./src/BuildAcceptors.c:76:140: \u001b[0m\u001b[0;1;35mwarning: \u001b[0m\u001b[1mabsolute value\n",
      "      function 'abs' given an argument of type 'long' but has parameter of type\n",
      "      'int' which may cause truncation of value [-Wabsolute-value]\u001b[0m\n",
      "   76 |   ...- p->offset - p->opt_dist)))*((float)(ab\u001b[0;34ms(i +\u001b[0m p->offset\u001b[0m\n",
      "      | \u001b[0;1;32m                                           ^\n",
      "\u001b[0m\u001b[1m./src/BuildAcceptors.c:76:140: \u001b[0m\u001b[0;1;36mnote: \u001b[0muse function 'labs'\n",
      "      instead\u001b[0m\n",
      "   76 |   ...- p->offset - p->opt_dist)))*((float)(ab\u001b[0;34ms(i +\u001b[0m p->offset\u001b[0m\n",
      "      | \u001b[0;1;32m                                           ^~~\n",
      "\u001b[0m      | \u001b[0;32m                                           labs\n",
      "\u001b[0m2 warnings generated.\n",
      "gcc -c -I./include -Wall -O3 ./src/BuildU12Acceptors.c -o ./objects/BuildU12Acceptors.o\n",
      "\u001b[1m./src/BuildU12Acceptors.c:77:53: \u001b[0m\u001b[0;1;35mwarning: \u001b[0m\u001b[1mabsolute value\n",
      "      function 'abs' given an argument of type 'long' but has parameter of type\n",
      "      'int' which may cause truncation of value [-Wabsolute-value]\u001b[0m\n",
      "   77 |       score = score - p->penalty_factor * (((\u001b[0;34mfloat\u001b[0m)(abs(i + p->offset -O...\u001b[0m\n",
      "      | \u001b[0;1;32m                                                    ^\n",
      "\u001b[0m\u001b[1m./src/BuildU12Acceptors.c:77:53: \u001b[0m\u001b[0;1;36mnote: \u001b[0muse function 'labs'\n",
      "      instead\u001b[0m\n",
      "   77 |       score = score - p->penalty_factor * (((\u001b[0;34mfloat\u001b[0m)(abs(i + p->offset -O...\u001b[0m\n",
      "      | \u001b[0;1;32m                                                    ^~~\n",
      "\u001b[0m      | \u001b[0;32m                                                    labs\n",
      "\u001b[0m\u001b[1m./src/BuildU12Acceptors.c:77:140: \u001b[0m\u001b[0;1;35mwarning: \u001b[0m\u001b[1mabsolute value\n",
      "      function 'abs' given an argument of type 'long' but has parameter of type\n",
      "      'int' which may cause truncation of value [-Wabsolute-value]\u001b[0m\n",
      "   77 |   ...- p->offset - p->opt_dist)))*((float)(ab\u001b[0;34ms(i +\u001b[0m p->offset\u001b[0m\n",
      "      | \u001b[0;1;32m                                           ^\n",
      "\u001b[0m\u001b[1m./src/BuildU12Acceptors.c:77:140: \u001b[0m\u001b[0;1;36mnote: \u001b[0muse function 'labs'\n",
      "      instead\u001b[0m\n",
      "   77 |   ...- p->offset - p->opt_dist)))*((float)(ab\u001b[0;34ms(i +\u001b[0m p->offset\u001b[0m\n",
      "      | \u001b[0;1;32m                                           ^~~\n",
      "\u001b[0m      | \u001b[0;32m                                           labs\n",
      "\u001b[0m2 warnings generated.\n",
      "gcc -c -I./include -Wall -O3 ./src/BuildDonors.c -o ./objects/BuildDonors.o\n",
      "gcc -c -I./include -Wall -O3 ./src/BuildInitialExons.c -o ./objects/BuildInitialExons.o\n",
      "gcc -c -I./include -Wall -O3 ./src/BuildInternalExons.c -o ./objects/BuildInternalExons.o\n",
      "gcc -c -I./include -Wall -O3 ./src/BuildZeroLengthExons.c -o ./objects/BuildZeroLengthExons.o\n",
      "\u001b[1m./src/BuildZeroLengthExons.c:55:20: \u001b[0m\u001b[0;1;35mwarning: \u001b[0m\u001b[1mvariable\n",
      "      'LowestLocalExon' set but not used [-Wunused-but-set-variable]\u001b[0m\n",
      "   55 |   \u001b[0;34mint\u001b[0m nLocalExons, LowestLocalExon;\u001b[0m\n",
      "      | \u001b[0;1;32m                   ^\n",
      "\u001b[0m\u001b[1m./src/BuildZeroLengthExons.c:62:14: \u001b[0m\u001b[0;1;35mwarning: \u001b[0m\u001b[1mvariable 'js'\n",
      "      set but not used [-Wunused-but-set-variable]\u001b[0m\n",
      "   62 |   \u001b[0;34mlong\u001b[0m i, j, js, k;\u001b[0m\n",
      "      | \u001b[0;1;32m             ^\n",
      "\u001b[0m2 warnings generated.\n",
      "gcc -c -I./include -Wall -O3 ./src/BuildUTRExons.c -o ./objects/BuildUTRExons.o\n",
      "gcc -c -I./include -Wall -O3 ./src/BuildORFs.c -o ./objects/BuildORFs.o\n",
      "gcc -c -I./include -Wall -O3 ./src/BuildSingles.c -o ./objects/BuildSingles.o\n",
      "gcc -c -I./include -Wall -O3 ./src/BuildSort.c -o ./objects/BuildSort.o\n",
      "gcc -c -I./include -Wall -O3 ./src/BuildTerminalExons.c -o ./objects/BuildTerminalExons.o\n",
      "gcc -c -I./include -Wall -O3 ./src/ComputeStopInfo.c -o ./objects/ComputeStopInfo.o\n",
      "gcc -c -I./include -Wall -O3 ./src/CookingGenes.c -o ./objects/CookingGenes.o\n",
      "\u001b[1m./src/CookingGenes.c:702:7: \u001b[0m\u001b[0;1;35mwarning: \u001b[0m\u001b[1mvariable 'featnum' set\n",
      "      but not used [-Wunused-but-set-variable]\u001b[0m\n",
      "  702 |   \u001b[0;34mint\u001b[0m featnum =\u001b[0;32m0\u001b[0m;\u001b[0m\n",
      "      | \u001b[0;1;32m      ^\n",
      "\u001b[0m1 warning generated.\n",
      "gcc -c -I./include -Wall -O3 ./src/CorrectExon.c -o ./objects/CorrectExon.o\n",
      "gcc -c -I./include -Wall -O3 ./src/Dictionary.c -o ./objects/Dictionary.o\n",
      "gcc -c -I./include -Wall -O3 ./src/DumpHash.c -o ./objects/DumpHash.o\n",
      "gcc -c -I./include -Wall -O3 ./src/FetchSequence.c -o ./objects/FetchSequence.o\n",
      "gcc -c -I./include -Wall -O3 ./src/GetSitesWithProfile.c -o ./objects/GetSitesWithProfile.o\n",
      "gcc -c -I./include -Wall -O3 ./src/GetStopCodons.c -o ./objects/GetStopCodons.o\n",
      "gcc -c -I./include -Wall -O3 ./src/Output.c -o ./objects/Output.o\n",
      "gcc -c -I./include -Wall -O3 ./src/PrintExons.c -o ./objects/PrintExons.o\n",
      "gcc -c -I./include -Wall -O3 ./src/PrintSites.c -o ./objects/PrintSites.o\n",
      "gcc -c -I./include -Wall -O3 ./src/ReadExonsGFF.c -o ./objects/ReadExonsGFF.o\n",
      "gcc -c -I./include -Wall -O3 ./src/ReadGeneModel.c -o ./objects/ReadGeneModel.o\n",
      "gcc -c -I./include -Wall -O3 ./src/ReadSequence.c -o ./objects/ReadSequence.o\n",
      "gcc -c -I./include -Wall -O3 ./src/ReadHSP.c -o ./objects/ReadHSP.o\n",
      "\u001b[1m./src/ReadHSP.c:101:9: \u001b[0m\u001b[0;1;35mwarning: \u001b[0m\u001b[1mvariable 'line9' set but\n",
      "      not used [-Wunused-but-set-variable]\u001b[0m\n",
      "  101 |   \u001b[0;34mchar\u001b[0m *line9;\u001b[0m\n",
      "      | \u001b[0;1;32m        ^\n",
      "\u001b[0m1 warning generated.\n",
      "gcc -c -I./include -Wall -O3 ./src/RecomputePositions.c -o ./objects/RecomputePositions.o\n",
      "gcc -c -I./include -Wall -O3 ./src/RequestMemory.c -o ./objects/RequestMemory.o\n",
      "gcc -c -I./include -Wall -O3 ./src/ProcessHSPs.c -o ./objects/ProcessHSPs.o\n",
      "gcc -c -I./include -Wall -O3 ./src/ScoreExons.c -o ./objects/ScoreExons.o\n",
      "\u001b[1m./src/ScoreExons.c:384:7: \u001b[0m\u001b[0;1;35mwarning: \u001b[0m\u001b[1mvariable 'rss' set but\n",
      "      not used [-Wunused-but-set-variable]\u001b[0m\n",
      "  384 |   \u001b[0;34mint\u001b[0m rss = \u001b[0;32m0\u001b[0m;\u001b[0m\n",
      "      | \u001b[0;1;32m      ^\n",
      "\u001b[0m1 warning generated.\n",
      "gcc -c -I./include -Wall -O3 ./src/SearchEvidenceExons.c -o ./objects/SearchEvidenceExons.o\n",
      "gcc -c -I./include -Wall -O3 ./src/SetRatios.c -o ./objects/SetRatios.o\n",
      "gcc -c -I./include -Wall -O3 ./src/SortExons.c -o ./objects/SortExons.o\n",
      "gcc -c -I./include -Wall -O3 ./src/SortSites.c -o ./objects/SortSites.o\n",
      "gcc -c -I./include -Wall -O3 ./src/SortHSPs.c -o ./objects/SortHSPs.o\n",
      "gcc -c -I./include -Wall -O3 ./src/SwitchFrames.c -o ./objects/SwitchFrames.o\n",
      "gcc -c -I./include -Wall -O3 ./src/SwitchPositions.c -o ./objects/SwitchPositions.o\n",
      "gcc -c -I./include -Wall -O3 ./src/Translate.c -o ./objects/Translate.o\n",
      "gcc -c -I./include -Wall -O3 ./src/account.c -o ./objects/account.o\n",
      "gcc -c -I./include -Wall -O3 ./src/beggar.c -o ./objects/beggar.o\n",
      "gcc -c -I./include -Wall -O3 ./src/genamic.c -o ./objects/genamic.o\n",
      "gcc -c -I./include -Wall -O3 ./src/manager.c -o ./objects/manager.o\n",
      "gcc -c -I./include -Wall -O3 ./src/readparam.c -o ./objects/readparam.o\n",
      "gcc -c -I./include -Wall -O3 ./src/readargv.c -o ./objects/readargv.o\n",
      "\u001b[1m./src/readargv.c:54:10: \u001b[0m\u001b[0;1;35mwarning: \u001b[0m\u001b[1mformat string is not a\n",
      "      string literal (potentially insecure) [-Wformat-security]\u001b[0m\n",
      "   54 |   printf(USAGE);\u001b[0m\n",
      "      | \u001b[0;1;32m         ^~~~~\n",
      "\u001b[0m\u001b[1m./src/readargv.c:54:10: \u001b[0m\u001b[0;1;36mnote: \u001b[0mtreat the string as an\n",
      "      argument to avoid this\u001b[0m\n",
      "   54 |   printf(USAGE);\u001b[0m\n",
      "      | \u001b[0;1;32m         ^\n",
      "\u001b[0m      | \u001b[0;32m         \"%s\", \n",
      "\u001b[0m1 warning generated.\n",
      "gcc -I./include -Wall -O3 -o ./bin/geneid ./objects/geneid.o ./objects/BackupGenes.o ./objects/PeakEdgeScore.o ./objects/GetTranscriptTermini-usingslopes.o ./objects/BuildAcceptors.o ./objects/BuildU12Acceptors.o ./objects/BuildDonors.o ./objects/BuildInitialExons.o ./objects/BuildInternalExons.o ./objects/BuildZeroLengthExons.o ./objects/BuildUTRExons.o ./objects/BuildORFs.o ./objects/BuildSingles.o ./objects/BuildSort.o ./objects/BuildTerminalExons.o ./objects/ComputeStopInfo.o ./objects/CookingGenes.o ./objects/CorrectExon.o ./objects/Dictionary.o ./objects/DumpHash.o ./objects/FetchSequence.o ./objects/GetSitesWithProfile.o ./objects/GetStopCodons.o ./objects/Output.o ./objects/PrintExons.o ./objects/PrintSites.o ./objects/ReadExonsGFF.o ./objects/ReadGeneModel.o ./objects/ReadSequence.o ./objects/ReadHSP.o ./objects/RecomputePositions.o ./objects/RequestMemory.o ./objects/ProcessHSPs.o ./objects/ScoreExons.o ./objects/SearchEvidenceExons.o ./objects/SetRatios.o ./objects/SortExons.o ./objects/SortSites.o ./objects/SortHSPs.o ./objects/SwitchFrames.o ./objects/SwitchPositions.o ./objects/Translate.o ./objects/account.o ./objects/beggar.o ./objects/genamic.o ./objects/manager.o ./objects/readparam.o ./objects/readargv.o  -lm\n"
     ]
    }
   ],
   "source": [
    "! cd geneid-master/ && make"
   ]
  },
  {
   "cell_type": "code",
   "execution_count": 86,
   "id": "ad811f25-8958-431d-af09-1790e743fb82",
   "metadata": {},
   "outputs": [
    {
     "name": "stdout",
     "output_type": "stream",
     "text": [
      "Error: One filename is required (DNA sequence, Fasta format)\n",
      "NAME\n",
      "\tgeneid - a program to annotate genomic sequences\n",
      "SYNOPSIS\n",
      "\tgeneid\t[-bdaefitnxszru]\n",
      "\t\t[-TDAZU]\n",
      "\t\t[-p gene_prefix]\n",
      "\t\t[-G] [-3] [-X] [-M] [-m]\n",
      "\t\t[-WCF] [-o]\n",
      "\t\t[-j lower_bound_coord]\n",
      "\t\t[-k upper_bound_coord]\n",
      "\t\t[-N numer_nt_mapped]\n",
      "\t\t[-O <gff_exons_file>]\n",
      "\t\t[-R <gff_annotation-file>]\n",
      "\t\t[-S <gff_homology_file>]\n",
      "\t\t[-P <parameter_file>]\n",
      "\t\t[-E exonweight]\n",
      "\t\t[-V evidence_exonweight]\n",
      "\t\t[-Bv] [-h]\n",
      "\t\t<locus_seq_in_fasta_format>\n",
      "RELEASE\n",
      "\tgeneid v 1.4\n",
      "\n"
     ]
    }
   ],
   "source": [
    "! ./geneid-master/bin/geneid"
   ]
  },
  {
   "cell_type": "code",
   "execution_count": 87,
   "id": "b37d78c2-b64b-4ac5-9f2a-ec27587869c8",
   "metadata": {},
   "outputs": [],
   "source": [
    "# create a valiable with geneid executable path\n",
    "# in a real case scenario, add it to your PATH\n",
    "geneid = './geneid-master/bin/geneid'"
   ]
  },
  {
   "cell_type": "markdown",
   "id": "da221ffe-d73a-4e36-b18d-80eb7355d51c",
   "metadata": {},
   "source": [
    "# Predict genes with geneid"
   ]
  },
  {
   "cell_type": "code",
   "execution_count": 88,
   "id": "4fde9d2b-1b4e-4614-ac4d-4f57958e58e2",
   "metadata": {},
   "outputs": [
    {
     "name": "stdout",
     "output_type": "stream",
     "text": [
      "./geneid-master/bin/geneid -3P ../data/Daphnia_magna.param  >   5.83s user 0.13s system 99% cpu 6.009 total\n"
     ]
    }
   ],
   "source": [
    "! time $geneid -3P $geneid_parameters $reference_assembly > ../results/geneid_simple.gff3"
   ]
  },
  {
   "cell_type": "markdown",
   "id": "40a8f0ba-221b-4998-80ef-d8788179e593",
   "metadata": {},
   "source": [
    "#### Check simple stats"
   ]
  },
  {
   "cell_type": "code",
   "execution_count": 66,
   "id": "c26fd605-e9d0-439f-a1e0-682da519a9a7",
   "metadata": {},
   "outputs": [
    {
     "name": "stdout",
     "output_type": "stream",
     "text": [
      "  13296 CDS\n",
      "  13296 exon\n",
      "   2914 gene\n",
      "   2914 mRNA\n"
     ]
    }
   ],
   "source": [
    "! grep -v '#' ../results/geneid_simple.gff3 | cut -f 3 | sort | uniq -c "
   ]
  },
  {
   "cell_type": "code",
   "execution_count": 67,
   "id": "1808457e-15f0-481c-8c0a-eb5ccd870bc5",
   "metadata": {},
   "outputs": [
    {
     "name": "stdout",
     "output_type": "stream",
     "text": [
      "Usage: ../scripts/extract_features.sh <gff_file> <fasta_file/genome_size_in_bp>\n"
     ]
    }
   ],
   "source": [
    "! bash ../scripts/extract_features.sh "
   ]
  },
  {
   "cell_type": "code",
   "execution_count": 68,
   "id": "f7297b8a-cd63-4696-9018-6fae4b59d296",
   "metadata": {},
   "outputs": [
    {
     "name": "stdout",
     "output_type": "stream",
     "text": [
      "Feature\tFeatures_Count\tTotal_Feature_Length\tAverage_Feature_Length\tGenome_Percentage\n",
      "mRNA\t2914\t7203206\t2471.93\t69.98\n",
      "exon\t13296\t3463047\t260.46\t33.65\n",
      "CDS\t13296\t3463047\t260.46\t33.65\n",
      "gene\t2914\t7203206\t2471.93\t69.98\n"
     ]
    }
   ],
   "source": [
    "! bash ../scripts/extract_features.sh ../results/geneid_simple.gff3 $reference_assembly"
   ]
  },
  {
   "cell_type": "code",
   "execution_count": 69,
   "id": "18f5c010-1b32-4193-a061-670531b58e15",
   "metadata": {},
   "outputs": [
    {
     "data": {
      "text/plain": [
       "4.562800274536719"
      ]
     },
     "execution_count": 69,
     "metadata": {},
     "output_type": "execute_result"
    }
   ],
   "source": [
    "13296/2914"
   ]
  },
  {
   "cell_type": "markdown",
   "id": "af1cdcc2-00c1-45f5-853e-a3376a1dbd0b",
   "metadata": {},
   "source": [
    "# Build Transcitps models with IsoQuant"
   ]
  },
  {
   "cell_type": "code",
   "execution_count": null,
   "id": "f5e463f7-8cdd-42b8-9e99-1e709e60081b",
   "metadata": {},
   "outputs": [],
   "source": [
    "# isoquant.py --reference GCF_020631705.1_ASM2063170v1.1_genomic.fna \\\n",
    "#     --fastq Daphniamagna_20241107_PASS_1341_X4_FAZ37207_d860e5dc_TRIMMED.fastq.gz \\\n",
    "#     --data_type ont \\\n",
    "#     --output results \\\n",
    "#     --prefix Daphnia_magna_isoquant_ref_free \\\n",
    "#     --threads 8 "
   ]
  },
  {
   "cell_type": "markdown",
   "id": "72525eb6-68bb-4c45-8f34-e1b607e337fa",
   "metadata": {},
   "source": [
    "#### The Isoquant Output"
   ]
  },
  {
   "cell_type": "code",
   "execution_count": null,
   "id": "07a8042d-6e6f-4a2d-9a62-fbbaa4c8b7bd",
   "metadata": {},
   "outputs": [],
   "source": [
    "# results/\n",
    "# ├── alignment.log\n",
    "# ├── Daphnia_magna_isoquant_ref_free\n",
    "# │   ├── aux\n",
    "# │   │   ├── Daphnia_magna_isoquant_ref_free_Daphniamagna_20241107_PASS_1341_X4_FAZ37207_d860e5dc_TRIMMED_2e0789_acf03b.bam\n",
    "# │   │   ├── Daphnia_magna_isoquant_ref_free_Daphniamagna_20241107_PASS_1341_X4_FAZ37207_d860e5dc_TRIMMED_2e0789_acf03b.bam.bai\n",
    "# │   │   └── NC_059190.1_mappings.bam\n",
    "# │   ├── Daphnia_magna_isoquant_ref_free.corrected_reads.bed.gz\n",
    "# │   ├── Daphnia_magna_isoquant_ref_free.transcript_model_counts.tsv\n",
    "# │   ├── Daphnia_magna_isoquant_ref_free.transcript_model_reads.tsv.gz\n",
    "# │   ├── Daphnia_magna_isoquant_ref_free.transcript_models.agat.log\n",
    "# │   ├── Daphnia_magna_isoquant_ref_free.transcript_models.gff\n",
    "# │   ├── Daphnia_magna_isoquant_ref_free.transcript_models.gtf\n",
    "# │   └── Daphnia_magna_isoquant_ref_free.transcript_model_tpm.tsv\n",
    "# ├── GCF_020631705.1_ASM2063170v1.1_genomic_k14_idx\n",
    "# └── isoquant.log"
   ]
  },
  {
   "cell_type": "markdown",
   "id": "f5f4ecb4-089c-42a7-9976-4ff6bd5692b0",
   "metadata": {},
   "source": [
    "#### Check simple stats"
   ]
  },
  {
   "cell_type": "code",
   "execution_count": 6,
   "id": "eb07f7d3-7612-46fb-b185-0069d80a4313",
   "metadata": {},
   "outputs": [
    {
     "name": "stdout",
     "output_type": "stream",
     "text": [
      "5718 exon\n",
      " 797 gene\n",
      "1349 transcript\n"
     ]
    }
   ],
   "source": [
    "! grep -v '#' $isoquant_models  | cut -f 3 | sort | uniq -c "
   ]
  },
  {
   "cell_type": "code",
   "execution_count": 10,
   "id": "7c91a2ac-7d05-4c4e-9fb3-62dc644a3546",
   "metadata": {},
   "outputs": [
    {
     "name": "stdout",
     "output_type": "stream",
     "text": [
      "Feature\tFeatures_Count\tTotal_Feature_Length\tAverage_Feature_Length\tGenome_Percentage\n",
      "exon\t5718\t1185519\t207.33\t11.52\n",
      "transcript\t1349\t5689555\t4217.61\t55.28\n",
      "gene\t797\t3950119\t4956.23\t38.38\n"
     ]
    }
   ],
   "source": [
    "! bash ../scripts/extract_features.sh $isoquant_models $reference_assembly"
   ]
  },
  {
   "cell_type": "markdown",
   "id": "05338fec-9c0c-4484-a8b2-d440ad620303",
   "metadata": {},
   "source": [
    "# Inform geneid with IsoQuant models "
   ]
  },
  {
   "cell_type": "markdown",
   "id": "e68fc388-1227-4b1e-a6e6-05e539d566a6",
   "metadata": {
    "jp-MarkdownHeadingCollapsed": true
   },
   "source": [
    "### Prepare models"
   ]
  },
  {
   "cell_type": "markdown",
   "id": "ee1eb29f-0eca-45c5-aabf-3385469dc7f6",
   "metadata": {},
   "source": [
    "#### Get longest transcript (check --no_check)"
   ]
  },
  {
   "cell_type": "code",
   "execution_count": 2,
   "id": "22c500d5-d903-45ee-8824-2834cf1231d3",
   "metadata": {},
   "outputs": [
    {
     "name": "stdout",
     "output_type": "stream",
     "text": [
      "agat not found\n"
     ]
    }
   ],
   "source": [
    "! which agat"
   ]
  },
  {
   "cell_type": "code",
   "execution_count": 33,
   "id": "823efca9-f2be-4e7a-bc66-e7371309789f",
   "metadata": {},
   "outputs": [
    {
     "name": "stdout",
     "output_type": "stream",
     "text": [
      "docker: Error response from daemon: invalid volume specification: '/host_mnt/Users/fzanarello/work/projects/summer_school/practicals/day2/fabio/notebook:~': invalid mount config for type \"bind\": invalid mount path: '~' mount path must be absolute.\n",
      "See 'docker run --help'.\n"
     ]
    }
   ],
   "source": [
    "! agat_sp_keep_longest_isoform.pl --gff ../data/NC_059190.1_isquant_models.gff -o ../intermediate/isoquant_longest.gff"
   ]
  },
  {
   "cell_type": "code",
   "execution_count": 11,
   "id": "29db424c-cc7b-47c7-bbeb-32dac616ced7",
   "metadata": {},
   "outputs": [
    {
     "name": "stdout",
     "output_type": "stream",
     "text": [
      "Feature\tFeatures_Count\tTotal_Feature_Length\tAverage_Feature_Length\tGenome_Percentage\n",
      "exon\t3546\t783245\t220.88\t7.61\n",
      "gene\t797\t3950119\t4956.23\t38.38\n",
      "transcript\t797\t3294312\t4133.39\t32.01\n"
     ]
    }
   ],
   "source": [
    "! bash ../scripts/extract_features.sh ../intermediate/isoquant_longest.gff ../data/NC_059190.1_ref.fna"
   ]
  },
  {
   "cell_type": "markdown",
   "id": "87338bc2-11bc-41b5-b406-a3cf4a0ffb75",
   "metadata": {},
   "source": [
    "#### Get exons"
   ]
  },
  {
   "cell_type": "code",
   "execution_count": 89,
   "id": "097ffda7-bd5a-4c09-b9ef-c6fc9c61c9e3",
   "metadata": {},
   "outputs": [],
   "source": [
    "! awk '$3 == \"exon\"' ../intermediate/isoquant_longest.gff > ../intermediate/isoquant_exons.gff"
   ]
  },
  {
   "cell_type": "code",
   "execution_count": 90,
   "id": "ce1d54e1-42f8-45b8-8a7a-1a926b90a94f",
   "metadata": {},
   "outputs": [],
   "source": [
    "! gawk 'BEGIN { FS=OFS=\"\\t\" } /^#/ { print; next } { match($9, /transcript_id=([^;]+)/, a); $9 = a[1]; print }' ../intermediate/isoquant_exons.gff > ../intermediate/isoquant_exons_geneid.gff "
   ]
  },
  {
   "cell_type": "code",
   "execution_count": 91,
   "id": "5cb0781a-7203-454d-a378-dbfe6f6a89fd",
   "metadata": {},
   "outputs": [
    {
     "name": "stdout",
     "output_type": "stream",
     "text": [
      "Feature\tFeatures_Count\tTotal_Feature_Length\tAverage_Feature_Length\tGenome_Percentage\n",
      "exon\t3546\t783245\t220.88\t7.61\n"
     ]
    }
   ],
   "source": [
    "! bash ../scripts/extract_features.sh ../intermediate/isoquant_exons_geneid.gff  ../data/NC_059190.1_ref.fna"
   ]
  },
  {
   "cell_type": "markdown",
   "id": "6d7cda38-2388-4949-a276-2cbea708b75c",
   "metadata": {},
   "source": [
    "#### Label with geneid categories"
   ]
  },
  {
   "cell_type": "code",
   "execution_count": 92,
   "id": "6f507c9d-ad6a-4eda-a28f-b0ee6fb35202",
   "metadata": {},
   "outputs": [],
   "source": [
    "from collections import defaultdict\n",
    "import csv\n",
    "\n",
    "# Input/output files\n",
    "input_file = \"../intermediate/isoquant_exons_geneid.gff\"\n",
    "output_file = \"../intermediate/isoquant_exons_geneid_class.gff\"\n",
    "\n",
    "# Group exons by transcript\n",
    "transcript_exons = defaultdict(list)\n",
    "# transcript_exons = {}\n",
    "\n",
    "\n",
    "with open(input_file) as f:\n",
    "    for line in f:\n",
    "        if line.startswith(\"#\") or not line.strip():\n",
    "            continue\n",
    "        parts = line.strip().split('\\t')\n",
    "        transcript_id = parts[8].strip()  # Assuming 9th column is just the transcript name\n",
    "        transcript_exons[transcript_id].append(parts)\n",
    "\n",
    "# Process and label exons\n",
    "with open(output_file, 'w', newline='') as out:\n",
    "    writer = csv.writer(out, delimiter='\\t', quoting=csv.QUOTE_NONE, escapechar='\\\\')\n",
    "\n",
    "    for transcript, exons in transcript_exons.items():\n",
    "\n",
    "        strand = exons[0][6] # extract strand from first exon\n",
    "\n",
    "        if len(exons) == 1:\n",
    "            exon = exons[0]\n",
    "            exon[2] = \"Single\"\n",
    "            writer.writerow(exon)\n",
    "        else:\n",
    "            for i, exon in enumerate(exons):\n",
    "                if i == 0 :\n",
    "                    if strand == '+':\n",
    "                        exon[2] = \"First\"\n",
    "                    else:\n",
    "                        exon[2] = \"Terminal\"                 \n",
    "                elif i == len(exons) - 1:\n",
    "                    if strand == '+':\n",
    "                        exon[2] = \"Terminal\"\n",
    "                    else:\n",
    "                        exon[2] = \"First\"\n",
    "                else:\n",
    "                    exon[2] = \"Internal\"\n",
    "                writer.writerow(exon)"
   ]
  },
  {
   "cell_type": "markdown",
   "id": "ed1cf505-2737-41f0-b6af-46a0336b29eb",
   "metadata": {
    "jp-MarkdownHeadingCollapsed": true
   },
   "source": [
    "### Predict with geneid and -R parameter"
   ]
  },
  {
   "cell_type": "code",
   "execution_count": 93,
   "id": "83613a45-30d0-4fbb-b457-071eb9aba9c4",
   "metadata": {},
   "outputs": [
    {
     "name": "stdout",
     "output_type": "stream",
     "text": [
      "Error: Order violation: annotations (starting position 75394):\n",
      "-->NC_059190.1\tIsoQuant\tTerminal\t72420\t74211\t.\t-\t.\ttranscript8826.NC_059190.1.nnic\n",
      "\n",
      "\n",
      "geneid -3P ../data/Daphnia_magna.param -R  ../data/NC_059190.1_ref.fna >   0.07s user 0.08s system 93% cpu 0.164 total\n"
     ]
    }
   ],
   "source": [
    "! time geneid -3P ../data/Daphnia_magna.param -R ../intermediate/isoquant_exons_geneid_class.gff ../data/NC_059190.1_ref.fna > ../results/geneid.gff3"
   ]
  },
  {
   "cell_type": "markdown",
   "id": "d43c6324-3354-4df3-a6bf-4bb982f6e6c7",
   "metadata": {},
   "source": [
    "#### Split forward and reverse strand and predict separately"
   ]
  },
  {
   "cell_type": "code",
   "execution_count": 94,
   "id": "f4ccdb94-b9f1-440d-87a0-80c0a0bd0234",
   "metadata": {},
   "outputs": [],
   "source": [
    "! grep '+' ../intermediate/isoquant_exons_geneid_class.gff > ../intermediate/isoquant_exons_geneid_class_FW.gff"
   ]
  },
  {
   "cell_type": "code",
   "execution_count": 95,
   "id": "91fbbcb3-eb97-4f46-8517-13c8bc821a40",
   "metadata": {},
   "outputs": [],
   "source": [
    "! grep '-' ../intermediate/isoquant_exons_geneid_class.gff > ../intermediate/isoquant_exons_geneid_class_RW.gff"
   ]
  },
  {
   "cell_type": "markdown",
   "id": "0202a26f-5060-46b1-97cf-16d1e36112e9",
   "metadata": {},
   "source": [
    "##### Forward"
   ]
  },
  {
   "cell_type": "code",
   "execution_count": 96,
   "id": "2c4682d0-6eb8-4004-9cde-d8bb0d34ec71",
   "metadata": {},
   "outputs": [
    {
     "name": "stdout",
     "output_type": "stream",
     "text": [
      "Error: Order violation: annotations (starting position 149468):\n",
      "-->NC_059190.1\tIsoQuant\tFirst\t148639\t148954\t.\t+\t.\ttranscript8984.NC_059190.1.nnic\n",
      "\n",
      "\n",
      "geneid -3P ../data/Daphnia_magna.param -R  ../data/NC_059190.1_ref.fna >   0.07s user 0.08s system 95% cpu 0.160 total\n"
     ]
    }
   ],
   "source": [
    "! time geneid -3P ../data/Daphnia_magna.param -R ../intermediate/isoquant_exons_geneid_class_FW.gff ../data/NC_059190.1_ref.fna > ../intermediate/geneid_fw.gff3"
   ]
  },
  {
   "cell_type": "code",
   "execution_count": 97,
   "id": "7aee9ae8-b7e5-47fb-aee7-94c6a9ae1d22",
   "metadata": {},
   "outputs": [
    {
     "name": "stdout",
     "output_type": "stream",
     "text": [
      "NC_059190.1\tIsoQuant\tFirst\t148639\t148954\t.\t+\t.\ttranscript8984.NC_059190.1.nnic\n",
      "NC_059190.1\tIsoQuant\tTerminal\t150560\t150624\t.\t+\t.\ttranscript8984.NC_059190.1.nnic\n",
      "NC_059190.1\tIsoQuant\tFirst\t148639\t148954\t.\t+\t.\ttranscript9044.NC_059190.1.nnic\n",
      "NC_059190.1\tIsoQuant\tTerminal\t150560\t150624\t.\t+\t.\ttranscript9044.NC_059190.1.nnic\n"
     ]
    }
   ],
   "source": [
    "! grep -A 2 transcript8984.NC_059190.1.nnic ../intermediate/isoquant_exons_geneid_class_FW.gff "
   ]
  },
  {
   "cell_type": "code",
   "execution_count": 98,
   "id": "0bc5230f-0823-42c5-b32a-275a5b790f0e",
   "metadata": {},
   "outputs": [],
   "source": [
    "! grep -v transcript8984.NC_059190.1.nnic ../intermediate/isoquant_exons_geneid_class_FW.gff > ../intermediate/isoquant_exons_geneid_class_FW.gff"
   ]
  },
  {
   "cell_type": "code",
   "execution_count": 99,
   "id": "d9e83d1c-e296-493a-ade8-a3bfd7a0fd96",
   "metadata": {},
   "outputs": [
    {
     "name": "stdout",
     "output_type": "stream",
     "text": [
      "geneid -3P ../data/Daphnia_magna.param -R  ../data/NC_059190.1_ref.fna >   8.03s user 0.21s system 99% cpu 8.250 total\n"
     ]
    }
   ],
   "source": [
    "! time geneid -3P ../data/Daphnia_magna.param -R ../intermediate/isoquant_exons_geneid_class_FW.gff ../data/NC_059190.1_ref.fna > ../intermediate/geneid_fw.gff3"
   ]
  },
  {
   "cell_type": "code",
   "execution_count": 108,
   "id": "37933472-834a-45a8-9cf5-2f39a89992e1",
   "metadata": {},
   "outputs": [
    {
     "name": "stdout",
     "output_type": "stream",
     "text": [
      "Feature\tFeatures_Count\tTotal_Feature_Length\tAverage_Feature_Length\tGenome_Percentage\n",
      "mRNA\t2914\t7203206\t2471.93\t69.98\n",
      "exon\t13296\t3463047\t260.46\t33.65\n",
      "CDS\t13296\t3463047\t260.46\t33.65\n",
      "gene\t2914\t7203206\t2471.93\t69.98\n"
     ]
    }
   ],
   "source": [
    "! bash ../scripts/extract_features.sh ../intermediate/geneid_fw.gff3 ../data/NC_059190.1_ref.fna"
   ]
  },
  {
   "cell_type": "markdown",
   "id": "3752a6ed-acde-4852-a9f8-db7cdb4fd323",
   "metadata": {},
   "source": [
    "##### Reverse"
   ]
  },
  {
   "cell_type": "code",
   "execution_count": 100,
   "id": "0aea28e7-7329-46b7-902b-a2b2477a770f",
   "metadata": {},
   "outputs": [
    {
     "name": "stdout",
     "output_type": "stream",
     "text": [
      "Error: Order violation: annotations (starting position 75394):\n",
      "-->NC_059190.1\tIsoQuant\tTerminal\t72420\t74211\t.\t-\t.\ttranscript8826.NC_059190.1.nnic\n",
      "\n",
      "\n",
      "geneid -3P ../data/Daphnia_magna.param -R  ../data/NC_059190.1_ref.fna >   0.06s user 0.07s system 95% cpu 0.137 total\n"
     ]
    }
   ],
   "source": [
    "! time geneid -3P ../data/Daphnia_magna.param -R ../intermediate/isoquant_exons_geneid_class_RW.gff ../data/NC_059190.1_ref.fna > ../intermediate/geneid_rw.gff3"
   ]
  },
  {
   "cell_type": "code",
   "execution_count": 101,
   "id": "4541c7fc-54d8-44a4-8ea9-772e3ece4ec3",
   "metadata": {},
   "outputs": [
    {
     "name": "stdout",
     "output_type": "stream",
     "text": [
      "NC_059190.1\tIsoQuant\tTerminal\t72420\t74211\t.\t-\t.\ttranscript8761.NC_059190.1.nnic\n",
      "NC_059190.1\tIsoQuant\tInternal\t74311\t74386\t.\t-\t.\ttranscript8761.NC_059190.1.nnic\n",
      "NC_059190.1\tIsoQuant\tInternal\t75027\t75118\t.\t-\t.\ttranscript8761.NC_059190.1.nnic\n",
      "NC_059190.1\tIsoQuant\tInternal\t75183\t75309\t.\t-\t.\ttranscript8761.NC_059190.1.nnic\n",
      "NC_059190.1\tIsoQuant\tFirst\t75394\t75459\t.\t-\t.\ttranscript8761.NC_059190.1.nnic\n",
      "NC_059190.1\tIsoQuant\tTerminal\t72420\t74211\t.\t-\t.\ttranscript8826.NC_059190.1.nnic\n",
      "NC_059190.1\tIsoQuant\tInternal\t74311\t74386\t.\t-\t.\ttranscript8826.NC_059190.1.nnic\n",
      "NC_059190.1\tIsoQuant\tInternal\t75027\t75118\t.\t-\t.\ttranscript8826.NC_059190.1.nnic\n",
      "NC_059190.1\tIsoQuant\tInternal\t75183\t75309\t.\t-\t.\ttranscript8826.NC_059190.1.nnic\n",
      "NC_059190.1\tIsoQuant\tFirst\t75394\t75459\t.\t-\t.\ttranscript8826.NC_059190.1.nnic\n"
     ]
    }
   ],
   "source": [
    "! grep -B 5 transcript8826.NC_059190.1.nnic ../intermediate/isoquant_exons_geneid_class_RW.gff "
   ]
  },
  {
   "cell_type": "code",
   "execution_count": 102,
   "id": "319eb53e-fbb2-4076-bebd-91ced2fb1137",
   "metadata": {},
   "outputs": [],
   "source": [
    "! grep -v transcript8826.NC_059190.1.nnic ../intermediate/isoquant_exons_geneid_class_RW.gff > ../intermediate/isoquant_exons_geneid_class_RW.gff "
   ]
  },
  {
   "cell_type": "code",
   "execution_count": 103,
   "id": "ebea1937-29e4-4548-bea2-242983861eec",
   "metadata": {},
   "outputs": [
    {
     "name": "stdout",
     "output_type": "stream",
     "text": [
      "geneid -3P ../data/Daphnia_magna.param -R  ../data/NC_059190.1_ref.fna >   8.19s user 0.23s system 99% cpu 8.435 total\n"
     ]
    }
   ],
   "source": [
    "! time geneid -3P ../data/Daphnia_magna.param -R ../intermediate/isoquant_exons_geneid_class_RW.gff ../data/NC_059190.1_ref.fna > ../intermediate/geneid_rw.gff3"
   ]
  },
  {
   "cell_type": "code",
   "execution_count": 107,
   "id": "f679fb52-a9ec-47a9-a617-279026a4b7ab",
   "metadata": {},
   "outputs": [
    {
     "name": "stdout",
     "output_type": "stream",
     "text": [
      "Feature\tFeatures_Count\tTotal_Feature_Length\tAverage_Feature_Length\tGenome_Percentage\n",
      "mRNA\t2914\t7203206\t2471.93\t69.98\n",
      "exon\t13296\t3463047\t260.46\t33.65\n",
      "CDS\t13296\t3463047\t260.46\t33.65\n",
      "gene\t2914\t7203206\t2471.93\t69.98\n"
     ]
    }
   ],
   "source": [
    "! bash ../scripts/extract_features.sh ../intermediate/geneid_rw.gff3 ../data/NC_059190.1_ref.fna"
   ]
  },
  {
   "cell_type": "markdown",
   "id": "dccfd0a9-eac9-4a96-b6af-4e148c8b61b1",
   "metadata": {},
   "source": [
    "#### Combine fw and rw"
   ]
  },
  {
   "cell_type": "code",
   "execution_count": 105,
   "id": "1807bf12-a6e9-4ffb-bf1a-9be5ca8eb104",
   "metadata": {},
   "outputs": [
    {
     "name": "stdout",
     "output_type": "stream",
     "text": [
      "Loading query file #1: ../intermediate/geneid_fw.gff3\n",
      "  2914 query transfrags loaded.\n",
      "Loading query file #2: ../intermediate/geneid_rw.gff3\n",
      "  2914 query transfrags loaded.\n"
     ]
    }
   ],
   "source": [
    "! gffcompare -C -p geneid_informed ../intermediate/geneid_fw.gff3 ../intermediate/geneid_rw.gff3"
   ]
  },
  {
   "cell_type": "code",
   "execution_count": 106,
   "id": "c0174413-0d97-4455-a835-ad3c53caf132",
   "metadata": {},
   "outputs": [
    {
     "name": "stdout",
     "output_type": "stream",
     "text": [
      "Feature\tFeatures_Count\tTotal_Feature_Length\tAverage_Feature_Length\tGenome_Percentage\n",
      "exon\t13200\t3463103\t262.36\t33.65\n",
      "transcript\t2914\t7203206\t2471.93\t69.98\n"
     ]
    }
   ],
   "source": [
    "! bash ../scripts/extract_features.sh gffcmp.combined.gtf ../data/NC_059190.1_ref.fna"
   ]
  },
  {
   "cell_type": "markdown",
   "id": "1f86f6c0-d18f-45a7-a093-91870098bc67",
   "metadata": {},
   "source": [
    "#### Check simple stats"
   ]
  },
  {
   "cell_type": "code",
   "execution_count": null,
   "id": "bed3de60-cfb6-46b3-90a9-2e090fd24a25",
   "metadata": {},
   "outputs": [],
   "source": []
  },
  {
   "cell_type": "markdown",
   "id": "54daae2a-192b-43d5-ac49-aac2af23812a",
   "metadata": {},
   "source": [
    "### new approach"
   ]
  },
  {
   "cell_type": "code",
   "execution_count": 51,
   "id": "a3ee4204-b598-4249-9fef-381b4aee04bc",
   "metadata": {},
   "outputs": [],
   "source": [
    "! awk '$3 == \"exon\"' ../data/NC_059190.1_isquant_models.gff > ../intervals/exons.gff"
   ]
  },
  {
   "cell_type": "code",
   "execution_count": 52,
   "id": "6ce8246f-81ad-44a3-a9b5-71c2e59c008d",
   "metadata": {},
   "outputs": [
    {
     "name": "stdout",
     "output_type": "stream",
     "text": [
      "NC_059190.1\tIsoQuant\texon\t44612\t44976\t.\t-\t.\tID=agat-exon-17432;Parent=transcript8752.NC_059190.1.nnic;exon=7;exon_id=NC_059190.1.6256;gene_id=novel_gene_NC_059190.1_8758;transcript_id=transcript8752.NC_059190.1.nnic\n",
      "NC_059190.1\tIsoQuant\texon\t45045\t45161\t.\t-\t.\tID=agat-exon-17431;Parent=transcript8752.NC_059190.1.nnic;exon=6;exon_id=NC_059190.1.6255;gene_id=novel_gene_NC_059190.1_8758;transcript_id=transcript8752.NC_059190.1.nnic\n",
      "NC_059190.1\tIsoQuant\texon\t45226\t45370\t.\t-\t.\tID=agat-exon-17430;Parent=transcript8752.NC_059190.1.nnic;exon=5;exon_id=NC_059190.1.6254;gene_id=novel_gene_NC_059190.1_8758;transcript_id=transcript8752.NC_059190.1.nnic\n",
      "NC_059190.1\tIsoQuant\texon\t45440\t45640\t.\t-\t.\tID=agat-exon-17429;Parent=transcript8752.NC_059190.1.nnic;exon=4;exon_id=NC_059190.1.6253;gene_id=novel_gene_NC_059190.1_8758;transcript_id=transcript8752.NC_059190.1.nnic\n",
      "NC_059190.1\tIsoQuant\texon\t45707\t45922\t.\t-\t.\tID=agat-exon-17428;Parent=transcript8752.NC_059190.1.nnic;exon=3;exon_id=NC_059190.1.6252;gene_id=novel_gene_NC_059190.1_8758;transcript_id=transcript8752.NC_059190.1.nnic\n",
      "NC_059190.1\tIsoQuant\texon\t45994\t46139\t.\t-\t.\tID=agat-exon-17427;Parent=transcript8752.NC_059190.1.nnic;exon=2;exon_id=NC_059190.1.6251;gene_id=novel_gene_NC_059190.1_8758;transcript_id=transcript8752.NC_059190.1.nnic\n",
      "NC_059190.1\tIsoQuant\texon\t46543\t46700\t.\t-\t.\tID=NC_059190.1.6257;Parent=transcript8752.NC_059190.1.nnic;exon=1;exon_id=NC_059190.1.6257;gene_id=novel_gene_NC_059190.1_8758;transcript_id=transcript8752.NC_059190.1.nnic\n",
      "NC_059190.1\tIsoQuant\texon\t44612\t44976\t.\t-\t.\tID=agat-exon-17437;Parent=transcript8757.NC_059190.1.nnic;exon=6;exon_id=NC_059190.1.6256;gene_id=novel_gene_NC_059190.1_8758;transcript_id=transcript8757.NC_059190.1.nnic\n",
      "NC_059190.1\tIsoQuant\texon\t45045\t45161\t.\t-\t.\tID=agat-exon-17436;Parent=transcript8757.NC_059190.1.nnic;exon=5;exon_id=NC_059190.1.6255;gene_id=novel_gene_NC_059190.1_8758;transcript_id=transcript8757.NC_059190.1.nnic\n",
      "NC_059190.1\tIsoQuant\texon\t45226\t45370\t.\t-\t.\tID=agat-exon-17435;Parent=transcript8757.NC_059190.1.nnic;exon=4;exon_id=NC_059190.1.6254;gene_id=novel_gene_NC_059190.1_8758;transcript_id=transcript8757.NC_059190.1.nnic\n"
     ]
    }
   ],
   "source": [
    "! head ../intervals/exons.gff"
   ]
  },
  {
   "cell_type": "code",
   "execution_count": 53,
   "id": "a23c6baf-b419-46c8-8672-f641b52454b7",
   "metadata": {},
   "outputs": [],
   "source": [
    "! bedtools sort -i ../intervals/exons.gff > ../intervals/exons_sorted.gff"
   ]
  },
  {
   "cell_type": "code",
   "execution_count": 54,
   "id": "cb5596b4-53d2-458a-9d16-5dbde4de04db",
   "metadata": {},
   "outputs": [
    {
     "name": "stdout",
     "output_type": "stream",
     "text": [
      "NC_059190.1\tIsoQuant\texon\t44612\t44976\t.\t-\t.\tID=agat-exon-17432;Parent=transcript8752.NC_059190.1.nnic;exon=7;exon_id=NC_059190.1.6256;gene_id=novel_gene_NC_059190.1_8758;transcript_id=transcript8752.NC_059190.1.nnic\n",
      "NC_059190.1\tIsoQuant\texon\t44612\t44976\t.\t-\t.\tID=agat-exon-17437;Parent=transcript8757.NC_059190.1.nnic;exon=6;exon_id=NC_059190.1.6256;gene_id=novel_gene_NC_059190.1_8758;transcript_id=transcript8757.NC_059190.1.nnic\n",
      "NC_059190.1\tIsoQuant\texon\t44612\t44976\t.\t-\t.\tID=NC_059190.1.6256;Parent=transcript8750.NC_059190.1.nnic;exon=7;exon_id=NC_059190.1.6256;gene_id=novel_gene_NC_059190.1_8758;transcript_id=transcript8750.NC_059190.1.nnic\n",
      "NC_059190.1\tIsoQuant\texon\t45045\t45161\t.\t-\t.\tID=agat-exon-17431;Parent=transcript8752.NC_059190.1.nnic;exon=6;exon_id=NC_059190.1.6255;gene_id=novel_gene_NC_059190.1_8758;transcript_id=transcript8752.NC_059190.1.nnic\n",
      "NC_059190.1\tIsoQuant\texon\t45045\t45161\t.\t-\t.\tID=agat-exon-17436;Parent=transcript8757.NC_059190.1.nnic;exon=5;exon_id=NC_059190.1.6255;gene_id=novel_gene_NC_059190.1_8758;transcript_id=transcript8757.NC_059190.1.nnic\n",
      "NC_059190.1\tIsoQuant\texon\t45045\t45161\t.\t-\t.\tID=NC_059190.1.6255;Parent=transcript8750.NC_059190.1.nnic;exon=6;exon_id=NC_059190.1.6255;gene_id=novel_gene_NC_059190.1_8758;transcript_id=transcript8750.NC_059190.1.nnic\n",
      "NC_059190.1\tIsoQuant\texon\t45226\t45370\t.\t-\t.\tID=agat-exon-17430;Parent=transcript8752.NC_059190.1.nnic;exon=5;exon_id=NC_059190.1.6254;gene_id=novel_gene_NC_059190.1_8758;transcript_id=transcript8752.NC_059190.1.nnic\n",
      "NC_059190.1\tIsoQuant\texon\t45226\t45370\t.\t-\t.\tID=agat-exon-17435;Parent=transcript8757.NC_059190.1.nnic;exon=4;exon_id=NC_059190.1.6254;gene_id=novel_gene_NC_059190.1_8758;transcript_id=transcript8757.NC_059190.1.nnic\n",
      "NC_059190.1\tIsoQuant\texon\t45226\t45370\t.\t-\t.\tID=NC_059190.1.6254;Parent=transcript8750.NC_059190.1.nnic;exon=5;exon_id=NC_059190.1.6254;gene_id=novel_gene_NC_059190.1_8758;transcript_id=transcript8750.NC_059190.1.nnic\n",
      "NC_059190.1\tIsoQuant\texon\t45440\t45640\t.\t-\t.\tID=agat-exon-17429;Parent=transcript8752.NC_059190.1.nnic;exon=4;exon_id=NC_059190.1.6253;gene_id=novel_gene_NC_059190.1_8758;transcript_id=transcript8752.NC_059190.1.nnic\n"
     ]
    }
   ],
   "source": [
    "! head ../intervals/exons_sorted.gff"
   ]
  },
  {
   "cell_type": "code",
   "execution_count": 55,
   "id": "ad5ed49c-05f8-4b1b-8edd-59012b0c79a2",
   "metadata": {},
   "outputs": [],
   "source": [
    "! bedtools genomecov -strand + -bg -i ../intervals/exons_sorted.gff -g ../data/NC_059190.1_ref.fna.fai > ../intervals/exon_coverage_plus.bed\n",
    "! bedtools genomecov -strand - -bg -i ../intervals/exons_sorted.gff -g ../data/NC_059190.1_ref.fna.fai > ../intervals/exon_coverage_minus.bed"
   ]
  },
  {
   "cell_type": "code",
   "execution_count": 56,
   "id": "5ce6cd7d-9b92-4c6f-bbed-4d44f1034446",
   "metadata": {},
   "outputs": [],
   "source": [
    "! awk '{print $0 \"\\t+\"}' ../intervals/exon_coverage_plus.bed > ../intervals/exon_coverage_plus_stranded.bed\n",
    "! awk '{print $0 \"\\t-\"}' ../intervals/exon_coverage_minus.bed > ../intervals/exon_coverage_minus_stranded.bed"
   ]
  },
  {
   "cell_type": "code",
   "execution_count": 57,
   "id": "0d7b9148-f561-4984-9478-d3586a5eaf60",
   "metadata": {},
   "outputs": [
    {
     "name": "stdout",
     "output_type": "stream",
     "text": [
      "NC_059190.1\t50990\t51205\t1\t+\n",
      "NC_059190.1\t51312\t51595\t1\t+\n",
      "NC_059190.1\t76508\t76547\t2\t+\n",
      "NC_059190.1\t76547\t76567\t3\t+\n",
      "NC_059190.1\t76567\t76586\t4\t+\n",
      "NC_059190.1\t76586\t76608\t3\t+\n",
      "NC_059190.1\t76608\t76697\t1\t+\n",
      "NC_059190.1\t76697\t76766\t4\t+\n",
      "NC_059190.1\t76824\t76924\t4\t+\n",
      "NC_059190.1\t76924\t76984\t1\t+\n"
     ]
    }
   ],
   "source": [
    "! head ../intervals/exon_coverage_plus_stranded.bed"
   ]
  },
  {
   "cell_type": "code",
   "execution_count": 58,
   "id": "79620094-c3a0-430a-a150-7c24e7fa31d3",
   "metadata": {},
   "outputs": [
    {
     "name": "stdout",
     "output_type": "stream",
     "text": [
      "NC_059190.1\t44611\t44976\t3\t-\n",
      "NC_059190.1\t45044\t45161\t3\t-\n",
      "NC_059190.1\t45225\t45370\t3\t-\n",
      "NC_059190.1\t45439\t45640\t3\t-\n",
      "NC_059190.1\t45706\t45922\t3\t-\n",
      "NC_059190.1\t45993\t46139\t3\t-\n",
      "NC_059190.1\t46139\t46472\t1\t-\n",
      "NC_059190.1\t46472\t46542\t2\t-\n",
      "NC_059190.1\t46542\t46700\t3\t-\n",
      "NC_059190.1\t46700\t46705\t1\t-\n"
     ]
    }
   ],
   "source": [
    "! head ../intervals/exon_coverage_minus_stranded.bed"
   ]
  },
  {
   "cell_type": "code",
   "execution_count": 59,
   "id": "868c08c6-d63e-44f9-925a-d131220b3a20",
   "metadata": {},
   "outputs": [],
   "source": [
    "! cat ../intervals/exon_coverage_plus_stranded.bed ../intervals/exon_coverage_minus_stranded.bed | bedtools sort > ../intervals/exon_coverage_stranded.bed"
   ]
  },
  {
   "cell_type": "code",
   "execution_count": 60,
   "id": "4fed47f6-f0ad-45a8-8821-88869e957f6a",
   "metadata": {},
   "outputs": [
    {
     "name": "stdout",
     "output_type": "stream",
     "text": [
      "NC_059190.1\t44611\t44976\t3\t-\n",
      "NC_059190.1\t45044\t45161\t3\t-\n",
      "NC_059190.1\t45225\t45370\t3\t-\n",
      "NC_059190.1\t45439\t45640\t3\t-\n",
      "NC_059190.1\t45706\t45922\t3\t-\n",
      "NC_059190.1\t45993\t46139\t3\t-\n",
      "NC_059190.1\t46139\t46472\t1\t-\n",
      "NC_059190.1\t46472\t46542\t2\t-\n",
      "NC_059190.1\t46542\t46700\t3\t-\n",
      "NC_059190.1\t46700\t46705\t1\t-\n"
     ]
    }
   ],
   "source": [
    "! head ../intervals/exon_coverage_stranded.bed"
   ]
  },
  {
   "cell_type": "code",
   "execution_count": 64,
   "id": "44bb701c-dfc2-4a07-87db-e52b1cc31ffc",
   "metadata": {},
   "outputs": [],
   "source": [
    "! awk 'BEGIN{OFS=\"\\t\"} {print $1, \"BEDTools\", \"exon\", $2+1, $3, $4, $5, \".\", \".\"}' ../intervals/exon_coverage_plus_stranded.bed > ../intervals/exon_coverage_plus_stranded.gff"
   ]
  },
  {
   "cell_type": "code",
   "execution_count": 65,
   "id": "a68686bd-59a3-43c0-9636-ca46a78a4aa1",
   "metadata": {},
   "outputs": [
    {
     "name": "stdout",
     "output_type": "stream",
     "text": [
      "NC_059190.1\tBEDTools\texon\t50991\t51205\t1\t+\t.\t.\n",
      "NC_059190.1\tBEDTools\texon\t51313\t51595\t1\t+\t.\t.\n",
      "NC_059190.1\tBEDTools\texon\t76509\t76547\t2\t+\t.\t.\n",
      "NC_059190.1\tBEDTools\texon\t76548\t76567\t3\t+\t.\t.\n",
      "NC_059190.1\tBEDTools\texon\t76568\t76586\t4\t+\t.\t.\n",
      "NC_059190.1\tBEDTools\texon\t76587\t76608\t3\t+\t.\t.\n",
      "NC_059190.1\tBEDTools\texon\t76609\t76697\t1\t+\t.\t.\n",
      "NC_059190.1\tBEDTools\texon\t76698\t76766\t4\t+\t.\t.\n",
      "NC_059190.1\tBEDTools\texon\t76825\t76924\t4\t+\t.\t.\n",
      "NC_059190.1\tBEDTools\texon\t76925\t76984\t1\t+\t.\t.\n"
     ]
    }
   ],
   "source": [
    "! head ../intervals/exon_coverage_plus_stranded.gff"
   ]
  },
  {
   "cell_type": "code",
   "execution_count": 71,
   "id": "732131e3-b6fd-4a8e-b17a-deb0d8e60e09",
   "metadata": {},
   "outputs": [],
   "source": [
    "! geneid -3P ../data/Daphnia_magna.param -S ../intervals/exon_coverage_plus_stranded.gff -u ../data/NC_059190.1_ref.fna > ../results/geneid_S.gff3"
   ]
  },
  {
   "cell_type": "code",
   "execution_count": 72,
   "id": "9bd0426c-faf4-4f66-a41b-97f5a644a8b8",
   "metadata": {},
   "outputs": [
    {
     "name": "stdout",
     "output_type": "stream",
     "text": [
      "Feature\tFeatures_Count\tTotal_Feature_Length\tAverage_Feature_Length\tGenome_Percentage\n",
      "mRNA\t2955\t7297271\t2469.47\t70.90\n",
      "exon\t14262\t3557190\t249.42\t34.56\n",
      "CDS\t14262\t3557190\t249.42\t34.56\n",
      "gene\t2955\t7297271\t2469.47\t70.90\n"
     ]
    }
   ],
   "source": [
    "! bash ../scripts/extract_features.sh ../results/geneid_S.gff3 ../data/NC_059190.1_ref.fna"
   ]
  },
  {
   "cell_type": "code",
   "execution_count": 73,
   "id": "37e46424-8934-46d2-a390-5c4ef963e5ac",
   "metadata": {},
   "outputs": [
    {
     "name": "stdout",
     "output_type": "stream",
     "text": [
      "Feature\tFeatures_Count\tTotal_Feature_Length\tAverage_Feature_Length\tGenome_Percentage\n",
      "mRNA\t2914\t7203206\t2471.93\t69.98\n",
      "exon\t13296\t3463047\t260.46\t33.65\n",
      "CDS\t13296\t3463047\t260.46\t33.65\n",
      "gene\t2914\t7203206\t2471.93\t69.98\n"
     ]
    }
   ],
   "source": [
    "! bash ../scripts/extract_features.sh ../results/geneid_simple.gff3 ../data/NC_059190.1_ref.fna"
   ]
  },
  {
   "cell_type": "markdown",
   "id": "57e72d0d-da89-435b-9b5a-a7136b469d1f",
   "metadata": {},
   "source": [
    "# Run full comparison with compann-nf"
   ]
  },
  {
   "cell_type": "markdown",
   "id": "c76e3dac-9fa4-4247-ab7b-a0bfd53a0aa6",
   "metadata": {},
   "source": [
    "### Get reference annotation"
   ]
  },
  {
   "cell_type": "markdown",
   "id": "7c5d7073-fb13-4ce4-8468-44048ef2c5dd",
   "metadata": {},
   "source": [
    "#### Get info about the taxon"
   ]
  },
  {
   "cell_type": "markdown",
   "id": "c00420f7-d171-42b9-9c85-8767c11962d0",
   "metadata": {},
   "source": [
    "#### Get annotation for the species of iterest"
   ]
  },
  {
   "cell_type": "markdown",
   "id": "1c36355f-212c-4136-8ae9-5995dca4002c",
   "metadata": {},
   "source": [
    "#### Prepare input"
   ]
  },
  {
   "cell_type": "markdown",
   "id": "9cf3b466-e820-492a-a31e-c202a602e2ca",
   "metadata": {},
   "source": [
    "### Run Pipeline"
   ]
  },
  {
   "cell_type": "markdown",
   "id": "e9bee4c1-04ee-4b9a-afcc-20ac42082da3",
   "metadata": {},
   "source": [
    "### Inspect results"
   ]
  },
  {
   "cell_type": "code",
   "execution_count": null,
   "id": "9fd93526-022e-4a45-a7b9-89028957e1b0",
   "metadata": {},
   "outputs": [],
   "source": []
  }
 ],
 "metadata": {
  "kernelspec": {
   "display_name": "annotation",
   "language": "python",
   "name": "annotation"
  },
  "language_info": {
   "codemirror_mode": {
    "name": "ipython",
    "version": 3
   },
   "file_extension": ".py",
   "mimetype": "text/x-python",
   "name": "python",
   "nbconvert_exporter": "python",
   "pygments_lexer": "ipython3",
   "version": "3.13.3"
  }
 },
 "nbformat": 4,
 "nbformat_minor": 5
}
