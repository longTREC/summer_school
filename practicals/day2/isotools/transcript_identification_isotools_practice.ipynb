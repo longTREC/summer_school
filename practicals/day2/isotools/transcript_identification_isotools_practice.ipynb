{
 "cells": [
  {
   "cell_type": "markdown",
   "id": "ff81228f",
   "metadata": {},
   "source": [
    "# IsoTools Hands-on Practice\n",
    "\n",
    "This practical exercise has been designed for the LongTREC bioinformatics summer school in Long-reads transcriptomics."
   ]
  },
  {
   "cell_type": "markdown",
   "id": "68415e87",
   "metadata": {},
   "source": [
    "IsoTools\n",
    "\n",
    "- GitHub repository: https://github.com/HerwigLab/IsoTools2\n",
    "- Documentation and tutorial: https://isotools.readthedocs.io/en/latest/index.html\n",
    "- pip package: https://pypi.org/project/isotools/"
   ]
  },
  {
   "cell_type": "markdown",
   "id": "729022d9",
   "metadata": {},
   "source": [
    "This practice include:\n",
    "\n",
    "- transcriptome reconstruction\n",
    "- data export\n",
    "- gene model characteristics\n",
    "- alternative splicing analysis and differential splicing analysis"
   ]
  },
  {
   "cell_type": "markdown",
   "id": "7884d805",
   "metadata": {},
   "source": [
    "To reduce the running time, we only consider a subset of chromosome 8 for demonstration purposes. This was done using `samtools`."
   ]
  },
  {
   "cell_type": "markdown",
   "id": "4d460d13",
   "metadata": {},
   "source": [
    "First, import all the dependencies."
   ]
  },
  {
   "cell_type": "code",
   "execution_count": null,
   "id": "a066830a",
   "metadata": {},
   "outputs": [],
   "source": [
    "from isotools import Transcriptome\n",
    "from isotools._transcriptome_io import write_fasta\n",
    "from isotools.plots import plot_diff_results, plot_embedding, plot_str_var_number, triangle_plot\n",
    "from isotools import __version__ as isotools_version\n",
    "\n",
    "import logging\n",
    "import matplotlib.pyplot as plt\n",
    "import numpy as np\n",
    "import os\n",
    "import pandas as pd\n",
    "\n",
    "logging.basicConfig(format='%(levelname)s:%(message)s', level=logging.INFO)\n",
    "logger = logging.getLogger('isotools')\n",
    "\n",
    "logger.info(f'This practice uses IsoTools version {isotools_version}.')"
   ]
  },
  {
   "cell_type": "markdown",
   "id": "85745a91-484a-432f-b0c4-cca2f9bf29b8",
   "metadata": {},
   "source": [
    "Specify the path to the directory in which the demonstration data and reference are saved. Create a folder to save the output files."
   ]
  },
  {
   "cell_type": "code",
   "execution_count": null,
   "id": "0a5eac71-9d9b-4d6b-934a-9a2e8a9eedfd",
   "metadata": {},
   "outputs": [],
   "source": [
    "path = os.getcwd()\n",
    "\n",
    "out_dir = os.path.join(path, 'output')\n",
    "os.makedirs(out_dir, exist_ok=True)"
   ]
  },
  {
   "cell_type": "markdown",
   "id": "57b2c158",
   "metadata": {},
   "source": [
    "## Transcriptome reconstruction\n",
    "\n",
    "to reconstruct the transcriptome from sample reads."
   ]
  },
  {
   "cell_type": "markdown",
   "id": "c9ddf403",
   "metadata": {},
   "source": [
    "For this exercise, we require the following input files:\n",
    "\n",
    "- genome sequence in `fasta` format (human genome GRCh38.p14 downloaded from Gencode)\n",
    "- reference annotation in `gtf` or `gff3` format, sorted and indexed (Gencode v45)\n",
    "- long-read alignments in `bam` format and corresponding index (raw fastq files downloaded from Encode)"
   ]
  },
  {
   "cell_type": "markdown",
   "id": "da85aff4",
   "metadata": {},
   "source": [
    "### Import of reference annotation\n",
    "\n",
    "to initiate the transcriptome object."
   ]
  },
  {
   "cell_type": "code",
   "execution_count": null,
   "id": "d1c1db31",
   "metadata": {
    "tags": []
   },
   "outputs": [],
   "source": [
    "ref_gtf = \"reference/gencode.v45.chr8.gtf\"\n",
    "\n",
    "transcriptome = Transcriptome.from_reference(ref_gtf)"
   ]
  },
  {
   "cell_type": "markdown",
   "id": "34392469",
   "metadata": {},
   "source": [
    "### Import of sample data\n",
    "\n",
    "We need to know the sample names as well as the corresponding alignment file names and group assignment, which are saved in the file `sample_table_chr8.txt`, in order to tell IsoTools where to find the sample read files and which groups they belong to."
   ]
  },
  {
   "cell_type": "markdown",
   "id": "50239650",
   "metadata": {},
   "source": [
    "First, we import this sample annotation table."
   ]
  },
  {
   "cell_type": "code",
   "execution_count": null,
   "id": "a478e64b",
   "metadata": {
    "tags": []
   },
   "outputs": [],
   "source": [
    "samples = pd.read_csv(f'{path}/sample_table_chr8.txt', sep='\\t')\n",
    "\n",
    "samples"
   ]
  },
  {
   "cell_type": "markdown",
   "id": "2ca32c92",
   "metadata": {},
   "source": [
    "The 'h1' refers to the H1 human embryonic stem (hES) cell line. These cells are undifferentiated and have the ability to develop into any cell type.\n",
    "\n",
    "The 'endo' refers to definitive endoderm derived from H1. These cells can differentiate into various endoderm-derived cell types, including those found in the liver, pancreas and lungs.\n",
    "\n",
    "These two cell lines are at different developmental stages. There are three biological replicates of each."
   ]
  },
  {
   "cell_type": "markdown",
   "id": "11620921-bc07-4661-b917-7dc70b6ce0d4",
   "metadata": {},
   "source": [
    "Next, we start to import the sequencing data and reconstruct the transcriptome."
   ]
  },
  {
   "cell_type": "code",
   "execution_count": null,
   "id": "2585af22",
   "metadata": {
    "tags": []
   },
   "outputs": [],
   "source": [
    "for _,row in samples.iterrows():\n",
    "    transcriptome.add_sample_from_bam(row[\"file\"], sample_name=row[\"id\"], group=row[\"group\"], progress_bar=False)"
   ]
  },
  {
   "cell_type": "markdown",
   "id": "cfaf7858",
   "metadata": {},
   "source": [
    "As you can see here in IsoTools, we have quality control of the alignments. Cleaner alignments reduce the number of reads that are discarded."
   ]
  },
  {
   "cell_type": "markdown",
   "id": "4e1ab541-1ef5-4178-b514-c176b4893585",
   "metadata": {},
   "source": [
    "During transcriptome reconstruction, IsoTools also detects chimeric reads, also known as split reads.\n",
    "\n",
    "These indicate structural variation and mean that one sequencing read aligns to two distinct portions of the genome with little or no overlap.\n",
    "\n",
    "![chimeric read](https://www.drive5.com/usearch/manual/chimera.gif)\n",
    "\n",
    "For this analysis, we will focus on the non-chimeric reads."
   ]
  },
  {
   "cell_type": "markdown",
   "id": "bd8c4f9e",
   "metadata": {},
   "source": [
    "Let's take a look at how many reads have been imported."
   ]
  },
  {
   "cell_type": "code",
   "execution_count": null,
   "id": "28ec34bd-c9d5-4bef-b424-08cf72c1e14a",
   "metadata": {
    "tags": []
   },
   "outputs": [],
   "source": [
    "transcriptome.sample_table"
   ]
  },
  {
   "cell_type": "markdown",
   "id": "c23004da",
   "metadata": {},
   "source": [
    "Let's have a look at the group information, and define colors for groups for visualisation later on."
   ]
  },
  {
   "cell_type": "code",
   "execution_count": null,
   "id": "b73ffa9d",
   "metadata": {},
   "outputs": [],
   "source": [
    "groups = transcriptome.groups()\n",
    "\n",
    "groups"
   ]
  },
  {
   "cell_type": "code",
   "execution_count": null,
   "id": "2ffbb2e0",
   "metadata": {},
   "outputs": [],
   "source": [
    "# choose the colors for the groups\n",
    "\n",
    "group_colors = {'h1': '#f28e2b', 'endo': 'rebeccapurple'}"
   ]
  },
  {
   "attachments": {},
   "cell_type": "markdown",
   "id": "d5a8f13b-459f-44ae-a33e-84add9c1c4e9",
   "metadata": {},
   "source": [
    "## Quality control and filtering\n",
    "\n",
    "Quality control is important for downstream analysis. IsoTools has a built-in function to compute quality control metrics based on the genetic features of reads. It measures:\n",
    "\n",
    "- downstream A content\n",
    "- direct repeat length at junctions\n",
    "- noncanonical splicing\n",
    "- potential fragments\n"
   ]
  },
  {
   "cell_type": "code",
   "execution_count": null,
   "id": "86f2cb6b",
   "metadata": {
    "tags": []
   },
   "outputs": [],
   "source": [
    "genome_fn = f'{path}/reference/GRCh38.p14.chr8.fa'\n",
    "\n",
    "transcriptome.add_qc_metrics(genome_fn, correct_tss=False)"
   ]
  },
  {
   "cell_type": "markdown",
   "id": "ba4e0b4a",
   "metadata": {},
   "source": [
    "We want to remove low-quality transcripts and retain high-quality ones for downstream analysis. IsoTools implements transcript filtering using a flexible query syntax based on logical combinations of tags, which are by convention a single word in capital letters.\n",
    "\n",
    "Some predefined tags are available in IsoTools for common technical artifacts, which are detected based on minimal coverage and the genetic features mentioned above. These include:\n",
    "\n",
    "- Internal priming (IP): unspliced and downstream adenosine content of at least 50%.\n",
    "- Reverse transcriptase template switching (RTTS): non-canonical splicing where neither splice site is in the reference.\n",
    "- Fragments: transcripts contained within other transcripts with no TSS/PAS overlap with the reference annotation.\n",
    "\n",
    "<img src=\"https://www.researchgate.net/publication/337117264/figure/fig3/AS:962623642300428@1606518769874/The-mechanisms-of-internal-priming-and-template-switching-a-Internal-priming-occurs.png\" width=\"400\">"
   ]
  },
  {
   "cell_type": "code",
   "execution_count": null,
   "id": "64c6ffa7",
   "metadata": {
    "tags": []
   },
   "outputs": [],
   "source": [
    "# predefined tags to detect technical artifacts\n",
    "artifact_tags = ['INTERNAL_PRIMING', 'RTTS', 'FRAGMENT']\n",
    "\n",
    "for tag in artifact_tags:\n",
    "    print(f'{tag}: {transcriptome.filter[\"transcript\"][tag]}')"
   ]
  },
  {
   "cell_type": "markdown",
   "id": "d0bb594b",
   "metadata": {},
   "source": [
    "Based on previous experience, we typically observe around 10-15% of artifact transcripts."
   ]
  },
  {
   "cell_type": "markdown",
   "id": "80780242",
   "metadata": {},
   "source": [
    "What percentage of the transcripts in each group are artifacts?"
   ]
  },
  {
   "cell_type": "code",
   "execution_count": null,
   "id": "3acdef39",
   "metadata": {},
   "outputs": [],
   "source": [
    "transcriptome.filter_stats(tags=artifact_tags, groups=groups, weight_by_coverage=False)"
   ]
  },
  {
   "cell_type": "markdown",
   "id": "54a7ab3e",
   "metadata": {},
   "source": [
    "What percentage of the transcripts in each group are novels?\n",
    "\n",
    "Hint: the tag for a 'novel transcript' is 'NOVEL_TRANSCRIPT'."
   ]
  },
  {
   "cell_type": "code",
   "execution_count": null,
   "id": "dc2dc406",
   "metadata": {},
   "outputs": [],
   "source": [
    "transcriptome.filter_stats( ... )"
   ]
  },
  {
   "cell_type": "markdown",
   "id": "fd5ec7b8",
   "metadata": {},
   "source": [
    "Quality control is essential for meaningful biological analysis!\n",
    "\n",
    "There are predefined tags for filtering based on coverage and on whether a transcript is affected by technical artifacts."
   ]
  },
  {
   "cell_type": "code",
   "execution_count": null,
   "id": "4919b6a2",
   "metadata": {},
   "outputs": [],
   "source": [
    "for tag in ['HIGH_COVER', 'PERMISSIVE', 'BALANCED', 'STRICT']:\n",
    "    print(f'{tag}: {transcriptome.filter[\"transcript\"][tag]}')"
   ]
  },
  {
   "cell_type": "markdown",
   "id": "55614955",
   "metadata": {},
   "source": [
    "We will use 'BALANCED' for demonstration in this practice. It's possible to customise the query depending on your needs."
   ]
  },
  {
   "cell_type": "code",
   "execution_count": null,
   "id": "abaf310b",
   "metadata": {},
   "outputs": [],
   "source": [
    "query_string = 'BALANCED'"
   ]
  },
  {
   "cell_type": "markdown",
   "id": "ce478710",
   "metadata": {},
   "source": [
    "Create a table summarising the transcripts that passed the filtering."
   ]
  },
  {
   "cell_type": "code",
   "execution_count": null,
   "id": "97f4cd35",
   "metadata": {},
   "outputs": [],
   "source": [
    "transcript_tab = transcriptome.transcript_table(groups=groups, query=query_string, coverage=True)\n",
    "\n",
    "transcript_tab"
   ]
  },
  {
   "cell_type": "markdown",
   "id": "24fac4fe",
   "metadata": {},
   "source": [
    "Basic statistics about the transcriptome after selection:\n",
    "\n",
    "- how many transcripts?\n",
    "- how many genes?\n",
    "- how many transcripts per gene on average?"
   ]
  },
  {
   "cell_type": "markdown",
   "id": "3bdf4990",
   "metadata": {},
   "source": [
    "## Transcriptome export\n",
    "\n",
    "IsoTools supports the export of the transcriptome in different formats."
   ]
  },
  {
   "cell_type": "markdown",
   "id": "1164cfdc",
   "metadata": {},
   "source": [
    "1. pickle file: it contains the entire transcriptome data, which can be restored in an IsoTools session without re-importing the alignment files."
   ]
  },
  {
   "cell_type": "code",
   "execution_count": null,
   "id": "688dee86",
   "metadata": {},
   "outputs": [],
   "source": [
    "transcriptome.save(f'{out_dir}/h1_endo_chr8.pkl')"
   ]
  },
  {
   "cell_type": "markdown",
   "id": "0731a36d",
   "metadata": {},
   "source": [
    "If you need to import the pickle file later, please try:"
   ]
  },
  {
   "cell_type": "code",
   "execution_count": null,
   "id": "8378ed9f",
   "metadata": {},
   "outputs": [],
   "source": [
    "transcriptome = Transcriptome.load(f'{out_dir}/h1_endo_chr8.pkl')"
   ]
  },
  {
   "cell_type": "markdown",
   "id": "fc036a91",
   "metadata": {},
   "source": [
    "2. GTF (General Feature Format) + expression matrix: you can apply filters and export only transcripts that have passed the filter."
   ]
  },
  {
   "cell_type": "code",
   "execution_count": null,
   "id": "aa15a45a",
   "metadata": {},
   "outputs": [],
   "source": [
    "transcriptome.write_gtf(f'{out_dir}/h1_endo_chr8_{query_string}.gtf', source='isotools', query=query_string, gzip=False)"
   ]
  },
  {
   "cell_type": "code",
   "execution_count": null,
   "id": "bc819adb",
   "metadata": {},
   "outputs": [],
   "source": [
    "transcript_tab.to_csv(f'{out_dir}/h1_endo_chr8_{query_string}.txt', sep='\\t', index=False)"
   ]
  },
  {
   "cell_type": "markdown",
   "id": "b7ea8453",
   "metadata": {},
   "source": [
    "3. fasta: you can also export the sequences of selected transcripts in fasta file format."
   ]
  },
  {
   "cell_type": "code",
   "execution_count": null,
   "id": "8b1eb4b0",
   "metadata": {},
   "outputs": [],
   "source": [
    "transcriptome.write_fasta(genome_fn=genome_fn,\n",
    "                          fn=f'{out_dir}/h1_endo_chr8_{query_string}.fasta',\n",
    "                          query=query_string)"
   ]
  },
  {
   "cell_type": "markdown",
   "id": "f4f0b9fe",
   "metadata": {},
   "source": [
    "## Gene model characteristics"
   ]
  },
  {
   "cell_type": "markdown",
   "id": "5e3896b4",
   "metadata": {},
   "source": [
    "### Transcript identification - structural variation\n",
    "\n",
    "From transcript identification, it is known which transcripts map to which genes. There are usually more than one transcript per gene. They exhibit some variation in structure.\n",
    "\n",
    "This structural variation comes from the transcription start site (TSS), the exon chain, and the polyadenylation site (PAS). Let's take a closer look."
   ]
  },
  {
   "cell_type": "code",
   "execution_count": null,
   "id": "2fe5d099",
   "metadata": {},
   "outputs": [],
   "source": [
    "str_var_count = transcriptome.str_var_calculation(groups=groups, query=query_string, strict_ec=0, strict_pos=15, count_number=True)\n",
    "\n",
    "for gn in str_var_count.columns[~str_var_count.columns.str.startswith('gene')].str.replace('_tss|_ec|_pas', '', regex=True).unique():\n",
    "    fig = plot_str_var_number(str_var_count, group_name=gn)"
   ]
  },
  {
   "cell_type": "markdown",
   "id": "b020ff58",
   "metadata": {},
   "source": [
    "We normalise the number of different TSSs, exon chains and PASs of a gene to simplex coordinates, which can then be used for visualisation in a triangle plot."
   ]
  },
  {
   "cell_type": "code",
   "execution_count": null,
   "id": "abf713ea",
   "metadata": {},
   "outputs": [],
   "source": [
    "str_var_tab = transcriptome.str_var_calculation(groups=groups, query=query_string, strict_ec=0, strict_pos=15)\n",
    "\n",
    "str_var_tab"
   ]
  },
  {
   "cell_type": "markdown",
   "id": "349d8c8e",
   "metadata": {},
   "source": [
    "Based on the simplex coordinates, we can divide the triangle plot into five categories:\n",
    "\n",
    "- splicing high (top)\n",
    "- TSS high (bottom left)\n",
    "- PAS high (bottom right)\n",
    "- simple (the dot in the centre)\n",
    "- mix (middle)"
   ]
  },
  {
   "cell_type": "markdown",
   "id": "4d1403b3",
   "metadata": {},
   "source": [
    "First, let's have a general overview of all the genes."
   ]
  },
  {
   "cell_type": "code",
   "execution_count": null,
   "id": "4d586f01",
   "metadata": {},
   "outputs": [],
   "source": [
    "fig, ax = plt.subplots(1, figsize=(8, 7))\n",
    "triangle_plot(str_var_tab, ax=ax, colors=group_colors, tax_title='all genes together')\n",
    "fig.tight_layout()"
   ]
  },
  {
   "cell_type": "markdown",
   "id": "e527e996",
   "metadata": {},
   "source": [
    "There are genes whose category changes between h1 and endo. Let's look at some examples."
   ]
  },
  {
   "cell_type": "code",
   "execution_count": null,
   "id": "61ed2c7f",
   "metadata": {},
   "outputs": [],
   "source": [
    "# ENSG00000168615.13 - splicing high in endo, simple in h1\n",
    "example_gene = 'ENSG00000168615.13'"
   ]
  },
  {
   "cell_type": "markdown",
   "id": "bab0f41b",
   "metadata": {},
   "source": [
    "What does the triangle plot look like for this gene?"
   ]
  },
  {
   "cell_type": "code",
   "execution_count": null,
   "id": "addae45d",
   "metadata": {},
   "outputs": [],
   "source": [
    "fig, ax = plt.subplots(1, figsize=(8, 7))\n",
    "triangle_plot(str_var_tab[str_var_tab['gene_id'] == example_gene], ax=ax, colors=group_colors, tax_title=example_gene)\n",
    "fig.tight_layout()"
   ]
  },
  {
   "cell_type": "markdown",
   "id": "ae2c4d81",
   "metadata": {},
   "source": [
    "What are the transcripts like in this gene?"
   ]
  },
  {
   "cell_type": "code",
   "execution_count": null,
   "id": "f8a2a499",
   "metadata": {},
   "outputs": [],
   "source": [
    "fig, ax = plt.subplots(1, 1, figsize=(10, 2))\n",
    "transcriptome[example_gene].gene_track(ax=ax, reference=False, query=query_string)\n",
    "ax.set_title(f\"{query_string} transcripts in {example_gene}\")\n",
    "plt.tight_layout()\n",
    "plt.show()"
   ]
  },
  {
   "cell_type": "markdown",
   "id": "2c3c887e",
   "metadata": {},
   "source": [
    "Please think about ...\n",
    "\n",
    "- Which transcripts are found in endo and which in h1?\n",
    "- Where does the structural variation happen?\n",
    "- Explain how the category is changed between conditions."
   ]
  },
  {
   "cell_type": "markdown",
   "id": "fab11375",
   "metadata": {},
   "source": [
    "Explore some other examples."
   ]
  },
  {
   "cell_type": "markdown",
   "id": "34febb38",
   "metadata": {},
   "source": [
    "### Transcript quantification - entropy\n",
    "\n",
    "We know the coverage of transcripts. This quantification information can help us to discover genes whose transcript usage changes between groups."
   ]
  },
  {
   "cell_type": "code",
   "execution_count": null,
   "id": "0644137e",
   "metadata": {},
   "outputs": [],
   "source": [
    "entropy_tab = transcriptome.entropy_calculation(groups=groups, query=query_string, relative=True)\n",
    "\n",
    "entropy_tab"
   ]
  },
  {
   "cell_type": "markdown",
   "id": "bd176f68",
   "metadata": {},
   "source": [
    "Let's find some examples."
   ]
  },
  {
   "cell_type": "code",
   "execution_count": null,
   "id": "660965a0",
   "metadata": {},
   "outputs": [],
   "source": [
    "entropy_tab[\n",
    "    (abs(entropy_tab['endo_rel_entropy'] - entropy_tab['h1_rel_entropy']) >= 0.5)\n",
    "]"
   ]
  },
  {
   "cell_type": "code",
   "execution_count": null,
   "id": "ad30ef19",
   "metadata": {},
   "outputs": [],
   "source": [
    "# ENSG00000170961.7 - lower entropy in endo, higher in h1\n",
    "example_gene = 'ENSG00000170961.7'"
   ]
  },
  {
   "cell_type": "markdown",
   "id": "a313578c",
   "metadata": {},
   "source": [
    "Let's check the expression intensity of transcripts in these gene between h1 and endo."
   ]
  },
  {
   "cell_type": "code",
   "execution_count": null,
   "id": "1fd78da3",
   "metadata": {},
   "outputs": [],
   "source": [
    "gene_part = transcript_tab.loc[transcript_tab['gene_id'] == example_gene]\n",
    "entropy_part = entropy_tab.loc[entropy_tab['gene_id'] == example_gene]\n",
    "\n",
    "# create a 1x2 grid of plots\n",
    "plt.rcParams[\"figure.figsize\"] = (6, 3)\n",
    "fig, axs = plt.subplots(1, 2, constrained_layout=True)\n",
    "\n",
    "for i, group in enumerate(groups):\n",
    "    group_trs = gene_part.loc[gene_part[group+\"_sum_coverage\"] > 0, ['transcript_nr', group+\"_sum_coverage\"]]\n",
    "\n",
    "    rel_entropy = float(entropy_part[f'{group}_rel_entropy'].values[0])\n",
    "\n",
    "    # define the color based on relative entropy\n",
    "    # --- can customize the thresholds as needed ---\n",
    "    if rel_entropy < 0.3: # low entropy\n",
    "        tr_color = 'lightcoral'\n",
    "    elif rel_entropy > 0.7: # medium entropy\n",
    "        tr_color = 'powderblue'\n",
    "    else: # high entropy\n",
    "        tr_color = 'lightgrey'\n",
    "\n",
    "    # plot the bar chart for each group\n",
    "    axs[i%2].bar([j for j in range(0,len(group_trs))], group_trs[group+\"_sum_coverage\"], color =tr_color, width = 0.4)\n",
    "    \n",
    "    # add the text on top of the bar\n",
    "    for j, val in enumerate(group_trs[group+\"_sum_coverage\"]):\n",
    "        axs[i%2].text(j, val, f'{val/sum(group_trs[group+\"_sum_coverage\"])*100:.1f}%', ha='center', va='center', fontsize=8, color='black')\n",
    "    axs[i%2].set_xticks([j for j in range(0,len(group_trs))])\n",
    "    axs[i%2].set_xticklabels(group_trs[\"transcript_nr\"])\n",
    "\n",
    "    if i%2 == 0: axs[0].set_ylabel('coverage')\n",
    "    axs[i%2].set_xlabel('transcript id')\n",
    "    axs[i%2].set_title(\n",
    "        f'{group}\\nrelative entropy = {float(entropy_part[f\"{group}_rel_entropy\"].values[0]):.2f}',\n",
    "        fontsize=10,\n",
    "        color=group_colors[group]\n",
    "    )\n",
    "\n",
    "    axs[i%2].grid(False)\n",
    "\n",
    "    # add the ticks for x and y axes\n",
    "    axs[i%2].tick_params(axis='x', which='both', bottom=True, top=False)\n",
    "    axs[i%2].tick_params(axis='y', which='both', left=True, right=False)\n",
    "\n",
    "plt.tight_layout()\n",
    "plt.show()"
   ]
  },
  {
   "cell_type": "markdown",
   "id": "94fa2911",
   "metadata": {},
   "source": [
    "What are the transcripts like in this gene?"
   ]
  },
  {
   "cell_type": "code",
   "execution_count": null,
   "id": "de7ad5f6",
   "metadata": {},
   "outputs": [],
   "source": [
    "fig, ax = plt.subplots(1, 1, figsize=(10, 4))\n",
    "transcriptome[example_gene].gene_track(ax=ax, reference=False, colorbySqanti=True, query=query_string)\n",
    "ax.set_title(f\"{query_string} transcripts in {example_gene}\")\n",
    "plt.tight_layout()\n",
    "plt.show()"
   ]
  },
  {
   "cell_type": "markdown",
   "id": "fb5f8d04",
   "metadata": {},
   "source": [
    "Explore some other examples."
   ]
  },
  {
   "cell_type": "markdown",
   "id": "1b9b6e69-e36a-45e3-8d66-d1b3521bb120",
   "metadata": {},
   "source": [
    "## Alternative splicing analysis"
   ]
  },
  {
   "cell_type": "markdown",
   "id": "64d7a173",
   "metadata": {},
   "source": [
    "### ASE identification\n",
    "\n",
    "to identify various types of AS events, including:\n",
    "\n",
    "- exon skipping (ES)\n",
    "- intron retention (IR)\n",
    "- mutually exclusive exons (ME)\n",
    "- 3’ alternative splicing (3AS)\n",
    "- 5’ alternative splicing (5AS)\n",
    "- alternative first exons (TSS)\n",
    "- alternative last exons (PAS)"
   ]
  },
  {
   "cell_type": "markdown",
   "id": "931aa2b3",
   "metadata": {},
   "source": [
    "Firstly, identify the alternative splicing events and summarise the number of each type in a table."
   ]
  },
  {
   "cell_type": "code",
   "execution_count": null,
   "id": "68e075a1",
   "metadata": {
    "tags": []
   },
   "outputs": [],
   "source": [
    "splice_events = transcriptome.alternative_splicing_events()\n",
    "\n",
    "# count the identified events by type\n",
    "splice_events.splice_type.value_counts()"
   ]
  },
  {
   "cell_type": "markdown",
   "id": "716c359b-d684-4c74-b76d-ac2cd6c3b2e4",
   "metadata": {},
   "source": [
    "Two-dimensional embeddings (PCA and UMAP) have been implemented to illustrate the relationship between samples and common ASEs."
   ]
  },
  {
   "cell_type": "code",
   "execution_count": null,
   "id": "3e8a7e17",
   "metadata": {
    "tags": []
   },
   "outputs": [],
   "source": [
    "# plot PCA embedding\n",
    "pca = {}\n",
    "\n",
    "plt.rcParams[\"figure.figsize\"] = (10, 10)\n",
    "f,axs = plt.subplots(3, 2)\n",
    "for ax,t in zip(axs.flatten(), ['all', '3AS', '5AS', 'ES', 'IR', 'ME']):\n",
    "    pca[t] = plot_embedding(splice_events,\n",
    "                            ax=ax,\n",
    "                            labels=True,\n",
    "                            groups=groups,\n",
    "                            splice_types=t)\n",
    "axs[0,0].legend(fontsize='medium', ncol=4,handleheight=2.4, labelspacing=0.05,\n",
    "                bbox_to_anchor=(0, 1.1), loc='lower left')\n",
    "plt.tight_layout()"
   ]
  },
  {
   "cell_type": "markdown",
   "id": "d94d6667-d735-4523-a69a-9b6d15df9bb3",
   "metadata": {},
   "source": [
    "### Differential splicing events\n",
    "\n",
    "to detect differentially expressed ASEs."
   ]
  },
  {
   "cell_type": "code",
   "execution_count": null,
   "id": "30ef9a37",
   "metadata": {
    "tags": []
   },
   "outputs": [],
   "source": [
    "types_of_interest = ['ES','ME','5AS','3AS','IR']\n",
    "\n",
    "diff_splice = transcriptome.altsplice_test(groups,\n",
    "                                           types=types_of_interest,\n",
    "                                           min_total=200)\n",
    "diff_splice = diff_splice.sort_values('pvalue').reset_index(drop=True)\n",
    "\n",
    "sig = diff_splice.padj < 0.05\n",
    "n_genes = len(diff_splice.loc[sig,\"gene\"].unique())\n",
    "print(f'{sum(sig)} differential splice sites in {n_genes} genes for '+\n",
    "      \" vs \".join(groups))"
   ]
  },
  {
   "cell_type": "code",
   "execution_count": null,
   "id": "d479b2e4",
   "metadata": {},
   "outputs": [],
   "source": [
    "pd.set_option('display.max_columns', None)\n",
    "diff_splice"
   ]
  },
  {
   "cell_type": "markdown",
   "id": "3c2f6858-e256-454e-aa92-719e0a7293fe",
   "metadata": {},
   "source": [
    "IsoTools implements a specific plot to depict differential splicing results. The curves show the distribution of the posterior probability of PSI values for the two groups, while the dots represent the observed PSI values for individual samples."
   ]
  },
  {
   "cell_type": "code",
   "execution_count": null,
   "id": "8f7464f4-907c-4430-8a2d-f70eda890b00",
   "metadata": {
    "tags": []
   },
   "outputs": [],
   "source": [
    "plt.rcParams[\"figure.figsize\"] = (10,4)\n",
    "\n",
    "f,axs,plotted = plot_diff_results(diff_splice,\n",
    "                                  min_diff=0.1,\n",
    "                                  min_support=2,\n",
    "                                  grid_shape=(1,2),\n",
    "                                  group_colors=group_colors)"
   ]
  },
  {
   "cell_type": "markdown",
   "id": "94fc0454-89e3-4985-a57f-908d20377484",
   "metadata": {},
   "source": [
    "Additionally, the structure of the isoforms and the read coverage over the event can be visualised using a sashimi plot."
   ]
  },
  {
   "cell_type": "code",
   "execution_count": null,
   "id": "e4febe5b",
   "metadata": {},
   "outputs": [],
   "source": [
    "row = diff_splice.iloc[0]\n",
    "\n",
    "plt.rcParams[\"figure.figsize\"] = (10,10)\n",
    "pos = [row['start']-500, row['end']+500]\n",
    "joi = [(row['start'], row['end'])]\n",
    "fig,axs = plt.subplots(3)\n",
    "gene = transcriptome[row['gene_id']]\n",
    "gene.gene_track(x_range=pos,\n",
    "                ax=axs[0],\n",
    "                reference=False,\n",
    "                select_transcripts=gene.filter_transcripts('SUBSTANTIAL'))\n",
    "gene.sashimi_plot(samples=groups['h1'],\n",
    "                  junctions_of_interest=joi,\n",
    "                  x_range=pos,\n",
    "                  ax=axs[1],\n",
    "                  title='h1',\n",
    "                  log_y=False)\n",
    "gene.sashimi_plot(samples=groups['endo'],\n",
    "                  junctions_of_interest=joi,\n",
    "                  x_range=pos,\n",
    "                  ax=axs[2],\n",
    "                  title='endo',\n",
    "                  log_y=False)\n",
    "\n",
    "fig.tight_layout()"
   ]
  },
  {
   "cell_type": "markdown",
   "id": "72274ca7",
   "metadata": {},
   "source": [
    "## Conclusion\n",
    "\n",
    "In this hands-on practice, we have explored some features of IsoTools for long-read transcriptomics analysis, including:\n",
    "\n",
    "- transcriptome reconstruction from long-read alignments with quality control  \n",
    "- data export in multiple formats (gtf, fasta, pickle) for downstream analysis  \n",
    "- gene model characterization using simplex coordinates for structural variation and relative entropy for expression variation  \n",
    "- ASE detection and differential splicing analysis between conditions\n",
    "\n",
    "Long-read data enables the comprehensive detection of transcript isoforms and splicing events. However, quality control is crucial for meaningful biological interpretation.\n",
    "\n",
    "IsoTools provides flexible filtering options to remove technical artifacts (e.g. internal priming, template switching and fragments) and offers various options for downstream analysis and visualisation.\n",
    "\n",
    "**Further analysis**:\n",
    "- differential isoform usage\n",
    "- functional annotation of transcripts\n",
    "- pathways and functional domains affected by splicing\n",
    "\n",
    "**Happy long-read transcriptomics analysis!** 🧬📊"
   ]
  }
 ],
 "metadata": {
  "kernelspec": {
   "display_name": "Python 3 (ipykernel)",
   "language": "python",
   "name": "python3"
  },
  "language_info": {
   "codemirror_mode": {
    "name": "ipython",
    "version": 3
   },
   "file_extension": ".py",
   "mimetype": "text/x-python",
   "name": "python",
   "nbconvert_exporter": "python",
   "pygments_lexer": "ipython3",
   "version": "3.12.11"
  }
 },
 "nbformat": 4,
 "nbformat_minor": 5
}
